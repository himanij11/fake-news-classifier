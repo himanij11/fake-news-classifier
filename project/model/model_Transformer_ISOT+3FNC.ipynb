{
 "cells": [
  {
   "cell_type": "code",
   "execution_count": 18,
   "metadata": {},
   "outputs": [],
   "source": [
    "import tensorflow as tf\n",
    "from tensorflow import keras\n",
    "from tensorflow.keras import layers\n",
    "import pandas as pd\n",
    "from sklearn.model_selection import train_test_split\n",
    "from tqdm import tqdm\n",
    "import numpy as np"
   ]
  },
  {
   "cell_type": "code",
   "execution_count": 19,
   "metadata": {},
   "outputs": [
    {
     "name": "stdout",
     "output_type": "stream",
     "text": [
      "[name: \"/device:CPU:0\"\n",
      "device_type: \"CPU\"\n",
      "memory_limit: 268435456\n",
      "locality {\n",
      "}\n",
      "incarnation: 4681294110344157822\n",
      ", name: \"/device:GPU:0\"\n",
      "device_type: \"GPU\"\n",
      "memory_limit: 3643801600\n",
      "locality {\n",
      "  bus_id: 1\n",
      "  links {\n",
      "  }\n",
      "}\n",
      "incarnation: 2864206526450763927\n",
      "physical_device_desc: \"device: 0, name: NVIDIA GeForce RTX 3060 Laptop GPU, pci bus id: 0000:01:00.0, compute capability: 8.6\"\n",
      "]\n"
     ]
    }
   ],
   "source": [
    "from tensorflow.python.client import device_lib\n",
    "print(device_lib.list_local_devices())"
   ]
  },
  {
   "cell_type": "code",
   "execution_count": 20,
   "metadata": {},
   "outputs": [],
   "source": [
    "# MAX_VNUM = 20000\n",
    "SEQUENCE_LENGTH = 300\n",
    "EMBED_DIMENSION = 100\n",
    "BATCH_SIZE = 64\n",
    "K_FOLD = 5\n",
    "NUM_HEADS = 4\n",
    "FF_DIMENSION = 32"
   ]
  },
  {
   "cell_type": "code",
   "execution_count": 21,
   "metadata": {},
   "outputs": [],
   "source": [
    "isot_column_names = [\"lemmatized_clean_text\", \"labels\"]\n",
    "isot_data = pd.read_csv(\"../Data_Preprocessing/Preprocessed_Dataset/ISOT_Preprocessed_Data.csv\", encoding='utf-8', encoding_errors='ignore')[isot_column_names]\n",
    "isot_train, isot_test = train_test_split(isot_data, test_size=0.2)\n",
    "\n",
    "fnc_column_names = [\"lemmatized_clean_final_article\", \"labels\"]\n",
    "fnc_data = pd.read_csv(\"../Preprocessed_Dataset/fnc1_Preprocessed_Data.csv\", encoding='utf-8', encoding_errors='ignore')[fnc_column_names]\n",
    "fnc_train, fnc_test = train_test_split(fnc_data, test_size=0.2)\n",
    "\n",
    "column_names = [\"text\", \"labels\"]\n",
    "train = pd.concat([\n",
    "    isot_train.rename(columns={isot_column_names[0]: column_names[0], isot_column_names[1]: column_names[1]}),\n",
    "    fnc_train.rename(columns={fnc_column_names[0]: column_names[0], fnc_column_names[1]: column_names[1]}),\n",
    "    fnc_train.rename(columns={fnc_column_names[0]: column_names[0], fnc_column_names[1]: column_names[1]}),\n",
    "    fnc_train.rename(columns={fnc_column_names[0]: column_names[0], fnc_column_names[1]: column_names[1]})\n",
    "])"
   ]
  },
  {
   "cell_type": "code",
   "execution_count": 22,
   "metadata": {},
   "outputs": [],
   "source": [
    "token = keras.preprocessing.text.Tokenizer()\n",
    "token.fit_on_texts(isot_data[isot_column_names[0]])\n",
    "token.fit_on_texts(fnc_data[fnc_column_names[0]])\n",
    "vocab_size = len(token.word_index) + 2"
   ]
  },
  {
   "cell_type": "code",
   "execution_count": 23,
   "metadata": {},
   "outputs": [
    {
     "name": "stderr",
     "output_type": "stream",
     "text": [
      "400000it [00:09, 44247.04it/s]\n",
      "100%|██████████| 134334/134334 [00:00<00:00, 1830918.27it/s]\n"
     ]
    }
   ],
   "source": [
    "embedding_vector = {}\n",
    "f = open('glove.6B.100d.txt', encoding='utf-8')\n",
    "for line in tqdm(f):\n",
    "    word, coefs = line.split(maxsplit=1)\n",
    "    coefs = np.fromstring(coefs, \"f\", sep=\" \")\n",
    "    embedding_vector[word] = coefs\n",
    "embedding_matrix = np.zeros((vocab_size, EMBED_DIMENSION))\n",
    "for word,i in tqdm(token.word_index.items()):\n",
    "    embedding_value = embedding_vector.get(word)\n",
    "    if embedding_value is not None:\n",
    "        embedding_matrix[i] = embedding_value"
   ]
  },
  {
   "cell_type": "markdown",
   "metadata": {},
   "source": [
    "### Model"
   ]
  },
  {
   "cell_type": "code",
   "execution_count": 24,
   "metadata": {},
   "outputs": [],
   "source": [
    "class MultiHeadSelfAttention(layers.Layer):\n",
    "    def __init__(self, embed_dim, num_heads=8):\n",
    "        super(MultiHeadSelfAttention, self).__init__()\n",
    "        self.embed_dim = embed_dim\n",
    "        self.num_heads = num_heads\n",
    "        if embed_dim % num_heads !=0:\n",
    "             raise ValueError(\n",
    "                f\"embedding dimension = {embed_dim} should be divisible by number of heads = {num_heads}\"\n",
    "            )\n",
    "        self.projection_dim = embed_dim // num_heads\n",
    "        self.query_dense = layers.Dense(embed_dim)\n",
    "        self.key_dense = layers.Dense(embed_dim)\n",
    "        self.value_dense = layers.Dense(embed_dim)\n",
    "        self.combine_heads = layers.Dense(embed_dim)\n",
    "    \n",
    "    def attention(self, query, key, value):\n",
    "        score = tf.matmul(query, key, transpose_b = True)\n",
    "        dim_key = tf.cast(tf.shape(key)[-1], tf.float32)\n",
    "        scaled_score = score / tf.math.sqrt(dim_key)\n",
    "        weights = tf.nn.softmax(scaled_score, axis=-1)\n",
    "        output = tf.matmul(weights, value)\n",
    "        return output, weights\n",
    "    \n",
    "    def seperate_heads(self, x, batch_size):\n",
    "        x = tf.reshape(x, (batch_size, -1, self.num_heads, self.projection_dim))\n",
    "        return tf.transpose(x, perm = [0, 2, 1, 3])\n",
    "    \n",
    "    def call(self, inputs):\n",
    "        batch_size = tf.shape(inputs)[0]\n",
    "        query = self.query_dense(inputs)\n",
    "        key = self.key_dense(inputs)\n",
    "        value = self.value_dense(inputs)\n",
    "        \n",
    "        query = self.seperate_heads(query, batch_size)\n",
    "        key = self.seperate_heads(key, batch_size)\n",
    "        value = self.seperate_heads(value, batch_size)\n",
    "        \n",
    "        attention, weights = self.attention(query, key, value)\n",
    "        \n",
    "        attention = tf.transpose(attention, perm=[0,2,1,3])\n",
    "        \n",
    "        concat_attention = tf.reshape(attention, (batch_size, -1, self.embed_dim))\n",
    "        \n",
    "        output = self.combine_heads(concat_attention)\n",
    "        \n",
    "        return output"
   ]
  },
  {
   "cell_type": "code",
   "execution_count": 25,
   "metadata": {},
   "outputs": [],
   "source": [
    "class TransformerBlock(layers.Layer):\n",
    "    def __init__(self, embed_dim, num_heads, ff_dim, rate=0.1):\n",
    "        super(TransformerBlock, self).__init__()\n",
    "        self.embedding = layers.Embedding(\n",
    "            input_dim=embedding_matrix.shape[0],\n",
    "            output_dim=embedding_matrix.shape[1],\n",
    "            weights=[embedding_matrix],\n",
    "            input_length=SEQUENCE_LENGTH,\n",
    "            trainable=False  # Set to False to keep the pre-trained embeddings fixed\n",
    "        )\n",
    "        self.att = MultiHeadSelfAttention(embed_dim, num_heads)\n",
    "        self.ffn = keras.Sequential(\n",
    "            [layers.Dense(ff_dim, activation='relu'), layers.Dense(embed_dim),]\n",
    "        )\n",
    "        self.layernorm1 = layers.LayerNormalization(epsilon=1e-6)\n",
    "        self.layernorm2 = layers.LayerNormalization(epsilon=1e-6)\n",
    "        self.dropout1 = layers.Dropout(rate)\n",
    "        self.dropout2 = layers.Dropout(rate)\n",
    "    \n",
    "    def call(self, inputs, training):\n",
    "        attn_output = self.att(inputs)\n",
    "        attn_output = self.dropout1(attn_output, training = training)\n",
    "        \n",
    "        out1 = self.layernorm1(inputs + attn_output)\n",
    "        \n",
    "        ffn_output = self.ffn(out1)\n",
    "        \n",
    "        fnn_output = self.dropout2(ffn_output, training = training)\n",
    "        return self.layernorm2(out1 + ffn_output)"
   ]
  },
  {
   "cell_type": "code",
   "execution_count": 26,
   "metadata": {},
   "outputs": [],
   "source": [
    "class TokenAndPositionEmbedding(layers.Layer):\n",
    "    def __init__(self, maxlen, vocab_size, embed_dim):\n",
    "        super(TokenAndPositionEmbedding, self).__init__()\n",
    "        self.token_emb = layers.Embedding(input_dim = vocab_size, output_dim = embed_dim)\n",
    "        self.pos_emb = layers.Embedding(input_dim = maxlen, output_dim = embed_dim)\n",
    "    \n",
    "    def call(self, x):\n",
    "        maxlen = tf.shape(x)[-1]\n",
    "        positions = tf.range(start=0, limit = maxlen, delta=1)\n",
    "        positions = self.pos_emb(positions)\n",
    "        \n",
    "        x = self.token_emb(x)\n",
    "        \n",
    "        return x + positions"
   ]
  },
  {
   "cell_type": "code",
   "execution_count": 27,
   "metadata": {},
   "outputs": [],
   "source": [
    "\n",
    "def model_generator():\n",
    "    inputs = layers.Input(shape = (SEQUENCE_LENGTH,))\n",
    "    embedding_layer = TokenAndPositionEmbedding(SEQUENCE_LENGTH, vocab_size, EMBED_DIMENSION)\n",
    "    x = embedding_layer(inputs)\n",
    "    transformer_block = TransformerBlock(EMBED_DIMENSION, NUM_HEADS, FF_DIMENSION)\n",
    "\n",
    "    x = transformer_block(x)\n",
    "    x = layers.GlobalAveragePooling1D()(x)\n",
    "    x = layers.Dropout(0.1)(x)\n",
    "    x = layers.Dense(10, activation='relu')(x)\n",
    "    x = layers.Dropout(0.1)(x)\n",
    "    outputs = layers.Dense(1, activation='sigmoid')(x)\n",
    "\n",
    "    model = keras.Model(inputs = inputs, outputs = outputs)\n",
    "    model.compile(loss='binary_crossentropy',optimizer='adam',metrics=['accuracy',tf.keras.metrics.Precision(),tf.keras.metrics.Recall()])\n",
    "    return model"
   ]
  },
  {
   "cell_type": "code",
   "execution_count": 28,
   "metadata": {},
   "outputs": [],
   "source": [
    "train_x = token.texts_to_sequences(train[column_names[0]])\n",
    "train_x = keras.preprocessing.sequence.pad_sequences(train_x, maxlen=SEQUENCE_LENGTH, padding='post', truncating=\"post\")\n",
    "train_y = train[column_names[1]]\n",
    "# validation_x = token.texts_to_sequences(fnc_train[fnc_column_names[0]])\n",
    "# validation_x = keras.preprocessing.sequence.pad_sequences(validation_x, maxlen=SEQUENCE_LENGTH, padding='post', truncating=\"post\")\n",
    "# validation_y = fnc_train[fnc_column_names[1]]\n"
   ]
  },
  {
   "cell_type": "code",
   "execution_count": 29,
   "metadata": {},
   "outputs": [
    {
     "name": "stdout",
     "output_type": "stream",
     "text": [
      "Epoch 1/5\n",
      "585/585 [==============================] - 19s 30ms/step - loss: 0.0994 - accuracy: 0.9616 - precision_1: 0.9564 - recall_1: 0.9658 - val_loss: 0.4802 - val_accuracy: 0.8049 - val_precision_1: 0.8788 - val_recall_1: 0.8814\n",
      "Epoch 2/5\n",
      "585/585 [==============================] - 17s 29ms/step - loss: 0.0204 - accuracy: 0.9925 - precision_1: 0.9912 - recall_1: 0.9936 - val_loss: 0.4049 - val_accuracy: 0.8305 - val_precision_1: 0.8773 - val_recall_1: 0.9201\n",
      "Epoch 3/5\n",
      "585/585 [==============================] - 17s 29ms/step - loss: 0.0137 - accuracy: 0.9943 - precision_1: 0.9927 - recall_1: 0.9956 - val_loss: 0.4199 - val_accuracy: 0.8333 - val_precision_1: 0.8820 - val_recall_1: 0.9176\n",
      "Epoch 4/5\n",
      "585/585 [==============================] - 17s 29ms/step - loss: 0.0121 - accuracy: 0.9947 - precision_1: 0.9942 - recall_1: 0.9950 - val_loss: 0.6762 - val_accuracy: 0.7678 - val_precision_1: 0.9390 - val_recall_1: 0.7638\n",
      "Epoch 5/5\n",
      "585/585 [==============================] - 17s 29ms/step - loss: 0.0105 - accuracy: 0.9955 - precision_1: 0.9952 - recall_1: 0.9956 - val_loss: 0.5310 - val_accuracy: 0.8304 - val_precision_1: 0.8471 - val_recall_1: 0.9657\n"
     ]
    }
   ],
   "source": [
    "epochs = 5\n",
    "model = model_generator()\n",
    "history = model.fit(x=train_x, y=train_y, validation_split=0.2,\n",
    "                                               epochs=epochs, batch_size=BATCH_SIZE)"
   ]
  },
  {
   "cell_type": "code",
   "execution_count": 30,
   "metadata": {},
   "outputs": [
    {
     "name": "stdout",
     "output_type": "stream",
     "text": [
      "281/281 [==============================] - 2s 8ms/step - loss: 0.0383 - accuracy: 0.9893 - precision_1: 0.9780 - recall_1: 1.0000\n",
      "29/29 [==============================] - 0s 7ms/step - loss: 0.7537 - accuracy: 0.8108 - precision_1: 0.8395 - recall_1: 0.9515\n"
     ]
    }
   ],
   "source": [
    "isot_test_x = token.texts_to_sequences(isot_test[isot_column_names[0]])\n",
    "isot_test_x = keras.preprocessing.sequence.pad_sequences(isot_test_x, maxlen=SEQUENCE_LENGTH, padding='post', truncating=\"post\")\n",
    "isot_test_y = isot_test[isot_column_names[1]]\n",
    "fnc_test_x = token.texts_to_sequences(fnc_test[fnc_column_names[0]])\n",
    "fnc_test_x = keras.preprocessing.sequence.pad_sequences(fnc_test_x, maxlen=SEQUENCE_LENGTH, padding='post', truncating=\"post\")\n",
    "fnc_test_y = fnc_test[fnc_column_names[1]]\n",
    "\n",
    "isot_loss, isot_accuracy, isot_precision, isot_recall = model.evaluate(x=isot_test_x, y=isot_test_y)\n",
    "fnc_loss, fnc_accuracy, fnc_precision, fnc_recall = model.evaluate(x=fnc_test_x, y=fnc_test_y)"
   ]
  },
  {
   "cell_type": "code",
   "execution_count": 36,
   "metadata": {},
   "outputs": [
    {
     "name": "stdout",
     "output_type": "stream",
     "text": [
      "ISOT F1: 0.9888811810260575, FNC F1: 0.8919772621028456\n"
     ]
    }
   ],
   "source": [
    "isot_f1 = 2 * (isot_precision * isot_recall) / (isot_precision + isot_recall)\n",
    "fnc_f1 = 2 * (fnc_precision * fnc_recall) / (fnc_precision + fnc_recall)\n",
    "print(\"ISOT F1: {}, FNC F1: {}\".format(isot_f1, fnc_f1))"
   ]
  },
  {
   "cell_type": "code",
   "execution_count": 31,
   "metadata": {},
   "outputs": [],
   "source": [
    "from matplotlib import pyplot as plt"
   ]
  },
  {
   "cell_type": "code",
   "execution_count": 34,
   "metadata": {},
   "outputs": [
    {
     "data": {
      "image/png": "[encoded data removed]",
      "text/plain": [
       "<Figure size 640x480 with 1 Axes>"
      ]
     },
     "metadata": {},
     "output_type": "display_data"
    }
   ],
   "source": [
    "plt.plot(history.history['accuracy'])\n",
    "plt.plot(history.history['val_accuracy'])\n",
    "plt.title('model accuracy')\n",
    "plt.ylabel('accuracy')\n",
    "plt.xlabel('epoch')\n",
    "plt.legend(['train', 'val'], loc='upper left')\n",
    "plt.show()"
   ]
  },
  {
   "cell_type": "code",
   "execution_count": 35,
   "metadata": {},
   "outputs": [
    {
     "data": {
      "image/png": "[encoded data removed]",
      "text/plain": [
       "<Figure size 640x480 with 1 Axes>"
      ]
     },
     "metadata": {},
     "output_type": "display_data"
    }
   ],
   "source": [
    "plt.plot(history.history['loss'])\n",
    "plt.plot(history.history['val_loss'])\n",
    "plt.title('model loss')\n",
    "plt.ylabel('loss')\n",
    "plt.xlabel('epoch')\n",
    "plt.legend(['train', 'val'], loc='upper left')\n",
    "plt.show()"
   ]
  },
  {
   "cell_type": "code",
   "execution_count": 32,
   "metadata": {},
   "outputs": [
    {
     "name": "stdout",
     "output_type": "stream",
     "text": [
      "WARNING:tensorflow:Skipping full serialization of Keras layer <keras.layers.embeddings.Embedding object at 0x000001CEBE42A910>, because it is not built.\n"
     ]
    },
    {
     "name": "stderr",
     "output_type": "stream",
     "text": [
      "WARNING:tensorflow:Skipping full serialization of Keras layer <keras.layers.embeddings.Embedding object at 0x000001CEBE42A910>, because it is not built.\n",
      "WARNING:absl:Found untraced functions such as embedding_3_layer_call_and_return_conditional_losses, embedding_3_layer_call_fn, embedding_4_layer_call_and_return_conditional_losses, embedding_4_layer_call_fn, multi_head_self_attention_1_layer_call_and_return_conditional_losses while saving (showing 5 of 55). These functions will not be directly callable after loading.\n"
     ]
    },
    {
     "name": "stdout",
     "output_type": "stream",
     "text": [
      "INFO:tensorflow:Assets written to: Transformer_ISOT+FNC\\assets\n"
     ]
    },
    {
     "name": "stderr",
     "output_type": "stream",
     "text": [
      "INFO:tensorflow:Assets written to: Transformer_ISOT+FNC\\assets\n"
     ]
    }
   ],
   "source": [
    "model.save(\"Transformer_ISOT+FNC\")"
   ]
  },
  {
   "cell_type": "code",
   "execution_count": null,
   "metadata": {},
   "outputs": [],
   "source": [
    "import pandas as pd\n",
    "import matplotlib.pyplot as plt\n",
    "\n",
    "data = [{'Loss': round(np.average(loss), 3), 'Accuracy': round(np.average(accuracy), 3), 'Precision': round(np.average(precision), 3),\n",
    "         'Recall': round(np.average(recall), 3), 'F1 Score': round(np.average(F1), 3)},\n",
    "        ]\n",
    "df = pd.DataFrame(data)\n"
   ]
  },
  {
   "cell_type": "code",
   "execution_count": null,
   "metadata": {},
   "outputs": [],
   "source": [
    "dir = os.getcwd()\n",
    "print(dir)"
   ]
  },
  {
   "cell_type": "code",
   "execution_count": null,
   "metadata": {},
   "outputs": [],
   "source": [
    "change_dir = os.path.dirname(dir)\n",
    "subdir = \"results\"\n",
    "dir_path = os.path.join(change_dir, subdir)\n",
    "print(dir_path)"
   ]
  },
  {
   "cell_type": "code",
   "execution_count": null,
   "metadata": {},
   "outputs": [],
   "source": [
    "if not os.path.exists(dir_path):\n",
    "    os.makedirs(dir_path)\n",
    "    print(f\"Created directory {dir_path}\")\n",
    "else:\n",
    "    print(f\"Directory {dir_path} already exists\")"
   ]
  },
  {
   "cell_type": "code",
   "execution_count": null,
   "metadata": {},
   "outputs": [],
   "source": [
    "# Create a figure and plot the DataFrame as a table\n",
    "fig, ax = plt.subplots()\n",
    "ax.axis('off')\n",
    "ax.axis('tight')\n",
    "table = ax.table(cellText=df.values, colLabels=df.columns, loc='center')\n",
    "table.auto_set_font_size(False)\n",
    "table.set_fontsize(12)\n",
    "\n",
    "# Save the figure as a PNG image\n",
    "plt.savefig('../results/transformer_isot_3fnc_result.png')"
   ]
  },
  {
   "cell_type": "markdown",
   "metadata": {},
   "source": [
    "### Generalization"
   ]
  },
  {
   "cell_type": "code",
   "execution_count": 33,
   "metadata": {},
   "outputs": [
    {
     "name": "stdout",
     "output_type": "stream",
     "text": [
      "26/26 [==============================] - 0s 15ms/step - loss: 3.7762 - accuracy: 0.5211 - precision_1: 0.5298 - recall_1: 0.8568\n",
      "FAKES Loss: 3.776207447052002, FAKES Accuracy: 0.5211442708969116, FAKES Precision: 0.5297532677650452, FAKES Recall: 0.8568075299263, FAKES F1: 0.6547085271412579\n"
     ]
    }
   ],
   "source": [
    "fakes_column_names = [\"lemmatized_clean_final_article\", \"labels\"]\n",
    "fakes_data = pd.read_csv(\"../Preprocessed_Dataset/Fakes_Preprocessed_Data.csv\", encoding='utf-8', encoding_errors='ignore')[fakes_column_names]\n",
    "\n",
    "fakes_x = token.texts_to_sequences(fakes_data[fakes_column_names[0]])\n",
    "fakes_x = keras.preprocessing.sequence.pad_sequences(fakes_x, maxlen=SEQUENCE_LENGTH, padding='post', truncating=\"post\")\n",
    "fakes_y = fakes_data[fakes_column_names[1]]\n",
    "\n",
    "fakes_loss, fakes_accuracy, fakes_precision, fakes_recall = model.evaluate(x=fakes_x, y=fakes_y)\n",
    "fakes_F1 = 2 * (fakes_precision * fakes_recall) / (fakes_precision + fakes_recall)\n",
    "print(\"FAKES Loss: {}, FAKES Accuracy: {}, FAKES Precision: {}, FAKES Recall: {}, FAKES F1: {}\".format(fakes_loss, fakes_accuracy, fakes_precision, fakes_recall, fakes_F1))"
   ]
  }
 ],
 "metadata": {
  "kernelspec": {
   "display_name": "Python 3 (ipykernel)",
   "language": "python",
   "name": "python3"
  },
  "language_info": {
   "codemirror_mode": {
    "name": "ipython",
    "version": 3
   },
   "file_extension": ".py",
   "mimetype": "text/x-python",
   "name": "python",
   "nbconvert_exporter": "python",
   "pygments_lexer": "ipython3",
   "version": "3.9.13"
  },
  "vscode": {
   "interpreter": {
    "hash": "c19f745cbfbbae7dbcaf370ef9ad24c324dbcbe456de1f096d0ed2f35b1b938d"
   }
  }
 },
 "nbformat": 4,
 "nbformat_minor": 2
}
