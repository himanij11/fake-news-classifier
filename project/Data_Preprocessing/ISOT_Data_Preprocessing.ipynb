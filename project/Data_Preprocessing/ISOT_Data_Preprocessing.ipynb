{
 "cells": [
  {
   "cell_type": "code",
   "execution_count": 1,
   "id": "41cb391f",
   "metadata": {
    "execution": {
     "iopub.execute_input": "2023-04-12T23:06:46.120480Z",
     "iopub.status.busy": "2023-04-12T23:06:46.120480Z",
     "iopub.status.idle": "2023-04-12T23:06:46.943479Z",
     "shell.execute_reply": "2023-04-12T23:06:46.943479Z"
    },
    "papermill": {
     "duration": 0.830001,
     "end_time": "2023-04-12T23:06:46.945480",
     "exception": false,
     "start_time": "2023-04-12T23:06:46.115479",
     "status": "completed"
    },
    "tags": []
   },
   "outputs": [],
   "source": [
    "import os\n",
    "import numpy as np\n",
    "import pandas as pd\n",
    "import re\n",
    "import nltk\n",
    "from nltk.corpus import stopwords\n",
    "from nltk.tokenize import word_tokenize\n",
    "from nltk.stem import WordNetLemmatizer"
   ]
  },
  {
   "cell_type": "code",
   "execution_count": 2,
   "id": "436ea9c2",
   "metadata": {
    "execution": {
     "iopub.execute_input": "2023-04-12T23:06:46.953479Z",
     "iopub.status.busy": "2023-04-12T23:06:46.952479Z",
     "iopub.status.idle": "2023-04-12T23:06:46.959480Z",
     "shell.execute_reply": "2023-04-12T23:06:46.959480Z"
    },
    "papermill": {
     "duration": 0.012001,
     "end_time": "2023-04-12T23:06:46.960481",
     "exception": false,
     "start_time": "2023-04-12T23:06:46.948480",
     "status": "completed"
    },
    "tags": []
   },
   "outputs": [
    {
     "name": "stdout",
     "output_type": "stream",
     "text": [
      "C:\\Users\\cobra\\project\\project\\Data_Preprocessing\n"
     ]
    }
   ],
   "source": [
    "current_directory = os.path.abspath(os.getcwd())\n",
    "print(current_directory)\n",
    "os.chdir(f\"{current_directory}/ISOT_Dataset\")"
   ]
  },
  {
   "cell_type": "code",
   "execution_count": 3,
   "id": "f7834f46",
   "metadata": {
    "execution": {
     "iopub.execute_input": "2023-04-12T23:06:46.968479Z",
     "iopub.status.busy": "2023-04-12T23:06:46.968479Z",
     "iopub.status.idle": "2023-04-12T23:06:46.975480Z",
     "shell.execute_reply": "2023-04-12T23:06:46.975480Z"
    },
    "papermill": {
     "duration": 0.012004,
     "end_time": "2023-04-12T23:06:46.976483",
     "exception": false,
     "start_time": "2023-04-12T23:06:46.964479",
     "status": "completed"
    },
    "tags": []
   },
   "outputs": [
    {
     "data": {
      "text/plain": [
       "'C:\\\\Users\\\\cobra\\\\project\\\\project\\\\Data_Preprocessing\\\\ISOT_Dataset'"
      ]
     },
     "execution_count": 3,
     "metadata": {},
     "output_type": "execute_result"
    }
   ],
   "source": [
    "os.getcwd()"
   ]
  },
  {
   "cell_type": "code",
   "execution_count": 4,
   "id": "f4e19a59",
   "metadata": {
    "execution": {
     "iopub.execute_input": "2023-04-12T23:06:46.984480Z",
     "iopub.status.busy": "2023-04-12T23:06:46.984480Z",
     "iopub.status.idle": "2023-04-12T23:06:46.991480Z",
     "shell.execute_reply": "2023-04-12T23:06:46.991480Z"
    },
    "papermill": {
     "duration": 0.012001,
     "end_time": "2023-04-12T23:06:46.992480",
     "exception": false,
     "start_time": "2023-04-12T23:06:46.980479",
     "status": "completed"
    },
    "tags": []
   },
   "outputs": [
    {
     "name": "stdout",
     "output_type": "stream",
     "text": [
      "C:\\Users\\cobra\\project\\project\\Data_Preprocessing\\ISOT_Dataset\\ISOT_Dataset.csv\n"
     ]
    }
   ],
   "source": [
    "isot_csv_path = os.path.join(os.getcwd(), 'ISOT_Dataset.csv')\n",
    "print(isot_csv_path)"
   ]
  },
  {
   "cell_type": "code",
   "execution_count": 5,
   "id": "21af660b",
   "metadata": {
    "execution": {
     "iopub.execute_input": "2023-04-12T23:06:47.000479Z",
     "iopub.status.busy": "2023-04-12T23:06:47.000479Z",
     "iopub.status.idle": "2023-04-12T23:06:47.893161Z",
     "shell.execute_reply": "2023-04-12T23:06:47.893161Z"
    },
    "papermill": {
     "duration": 0.898688,
     "end_time": "2023-04-12T23:06:47.895167",
     "exception": false,
     "start_time": "2023-04-12T23:06:46.996479",
     "status": "completed"
    },
    "tags": []
   },
   "outputs": [
    {
     "data": {
      "text/html": [
       "<div>\n",
       "<style scoped>\n",
       "    .dataframe tbody tr th:only-of-type {\n",
       "        vertical-align: middle;\n",
       "    }\n",
       "\n",
       "    .dataframe tbody tr th {\n",
       "        vertical-align: top;\n",
       "    }\n",
       "\n",
       "    .dataframe thead th {\n",
       "        text-align: right;\n",
       "    }\n",
       "</style>\n",
       "<table border=\"1\" class=\"dataframe\">\n",
       "  <thead>\n",
       "    <tr style=\"text-align: right;\">\n",
       "      <th></th>\n",
       "      <th>title</th>\n",
       "      <th>text</th>\n",
       "      <th>subject</th>\n",
       "      <th>date</th>\n",
       "      <th>labels</th>\n",
       "    </tr>\n",
       "  </thead>\n",
       "  <tbody>\n",
       "    <tr>\n",
       "      <th>0</th>\n",
       "      <td>Donald Trump Sends Out Embarrassing New Year’...</td>\n",
       "      <td>Donald Trump just couldn t wish all Americans ...</td>\n",
       "      <td>News</td>\n",
       "      <td>December 31, 2017</td>\n",
       "      <td>0</td>\n",
       "    </tr>\n",
       "    <tr>\n",
       "      <th>1</th>\n",
       "      <td>Drunk Bragging Trump Staffer Started Russian ...</td>\n",
       "      <td>House Intelligence Committee Chairman Devin Nu...</td>\n",
       "      <td>News</td>\n",
       "      <td>December 31, 2017</td>\n",
       "      <td>0</td>\n",
       "    </tr>\n",
       "    <tr>\n",
       "      <th>2</th>\n",
       "      <td>Sheriff David Clarke Becomes An Internet Joke...</td>\n",
       "      <td>On Friday, it was revealed that former Milwauk...</td>\n",
       "      <td>News</td>\n",
       "      <td>December 30, 2017</td>\n",
       "      <td>0</td>\n",
       "    </tr>\n",
       "    <tr>\n",
       "      <th>3</th>\n",
       "      <td>Trump Is So Obsessed He Even Has Obama’s Name...</td>\n",
       "      <td>On Christmas day, Donald Trump announced that ...</td>\n",
       "      <td>News</td>\n",
       "      <td>December 29, 2017</td>\n",
       "      <td>0</td>\n",
       "    </tr>\n",
       "    <tr>\n",
       "      <th>4</th>\n",
       "      <td>Pope Francis Just Called Out Donald Trump Dur...</td>\n",
       "      <td>Pope Francis used his annual Christmas Day mes...</td>\n",
       "      <td>News</td>\n",
       "      <td>December 25, 2017</td>\n",
       "      <td>0</td>\n",
       "    </tr>\n",
       "  </tbody>\n",
       "</table>\n",
       "</div>"
      ],
      "text/plain": [
       "                                               title  \\\n",
       "0   Donald Trump Sends Out Embarrassing New Year’...   \n",
       "1   Drunk Bragging Trump Staffer Started Russian ...   \n",
       "2   Sheriff David Clarke Becomes An Internet Joke...   \n",
       "3   Trump Is So Obsessed He Even Has Obama’s Name...   \n",
       "4   Pope Francis Just Called Out Donald Trump Dur...   \n",
       "\n",
       "                                                text subject  \\\n",
       "0  Donald Trump just couldn t wish all Americans ...    News   \n",
       "1  House Intelligence Committee Chairman Devin Nu...    News   \n",
       "2  On Friday, it was revealed that former Milwauk...    News   \n",
       "3  On Christmas day, Donald Trump announced that ...    News   \n",
       "4  Pope Francis used his annual Christmas Day mes...    News   \n",
       "\n",
       "                date  labels  \n",
       "0  December 31, 2017       0  \n",
       "1  December 31, 2017       0  \n",
       "2  December 30, 2017       0  \n",
       "3  December 29, 2017       0  \n",
       "4  December 25, 2017       0  "
      ]
     },
     "execution_count": 5,
     "metadata": {},
     "output_type": "execute_result"
    }
   ],
   "source": [
    "df = pd.read_csv(isot_csv_path, encoding='utf-8', encoding_errors='ignore')\n",
    "df.head()"
   ]
  },
  {
   "cell_type": "code",
   "execution_count": 6,
   "id": "e9b2cd37",
   "metadata": {
    "execution": {
     "iopub.execute_input": "2023-04-12T23:06:47.903168Z",
     "iopub.status.busy": "2023-04-12T23:06:47.903168Z",
     "iopub.status.idle": "2023-04-12T23:06:47.908497Z",
     "shell.execute_reply": "2023-04-12T23:06:47.908497Z"
    },
    "papermill": {
     "duration": 0.010339,
     "end_time": "2023-04-12T23:06:47.909505",
     "exception": false,
     "start_time": "2023-04-12T23:06:47.899166",
     "status": "completed"
    },
    "tags": []
   },
   "outputs": [],
   "source": [
    "# df = df[['text', 'labels']]\n",
    "# df.head()"
   ]
  },
  {
   "cell_type": "code",
   "execution_count": 7,
   "id": "3936689d",
   "metadata": {
    "execution": {
     "iopub.execute_input": "2023-04-12T23:06:47.917497Z",
     "iopub.status.busy": "2023-04-12T23:06:47.917497Z",
     "iopub.status.idle": "2023-04-12T23:06:48.037498Z",
     "shell.execute_reply": "2023-04-12T23:06:48.036497Z"
    },
    "papermill": {
     "duration": 0.125002,
     "end_time": "2023-04-12T23:06:48.038498",
     "exception": false,
     "start_time": "2023-04-12T23:06:47.913496",
     "status": "completed"
    },
    "tags": []
   },
   "outputs": [
    {
     "data": {
      "text/html": [
       "<div>\n",
       "<style scoped>\n",
       "    .dataframe tbody tr th:only-of-type {\n",
       "        vertical-align: middle;\n",
       "    }\n",
       "\n",
       "    .dataframe tbody tr th {\n",
       "        vertical-align: top;\n",
       "    }\n",
       "\n",
       "    .dataframe thead th {\n",
       "        text-align: right;\n",
       "    }\n",
       "</style>\n",
       "<table border=\"1\" class=\"dataframe\">\n",
       "  <thead>\n",
       "    <tr style=\"text-align: right;\">\n",
       "      <th></th>\n",
       "      <th>title</th>\n",
       "      <th>text</th>\n",
       "      <th>subject</th>\n",
       "      <th>date</th>\n",
       "      <th>labels</th>\n",
       "      <th>final_text</th>\n",
       "    </tr>\n",
       "  </thead>\n",
       "  <tbody>\n",
       "    <tr>\n",
       "      <th>0</th>\n",
       "      <td>Donald Trump Sends Out Embarrassing New Year’...</td>\n",
       "      <td>Donald Trump just couldn t wish all Americans ...</td>\n",
       "      <td>News</td>\n",
       "      <td>December 31, 2017</td>\n",
       "      <td>0</td>\n",
       "      <td>Donald Trump Sends Out Embarrassing New Year’...</td>\n",
       "    </tr>\n",
       "    <tr>\n",
       "      <th>1</th>\n",
       "      <td>Drunk Bragging Trump Staffer Started Russian ...</td>\n",
       "      <td>House Intelligence Committee Chairman Devin Nu...</td>\n",
       "      <td>News</td>\n",
       "      <td>December 31, 2017</td>\n",
       "      <td>0</td>\n",
       "      <td>Drunk Bragging Trump Staffer Started Russian ...</td>\n",
       "    </tr>\n",
       "    <tr>\n",
       "      <th>2</th>\n",
       "      <td>Sheriff David Clarke Becomes An Internet Joke...</td>\n",
       "      <td>On Friday, it was revealed that former Milwauk...</td>\n",
       "      <td>News</td>\n",
       "      <td>December 30, 2017</td>\n",
       "      <td>0</td>\n",
       "      <td>Sheriff David Clarke Becomes An Internet Joke...</td>\n",
       "    </tr>\n",
       "    <tr>\n",
       "      <th>3</th>\n",
       "      <td>Trump Is So Obsessed He Even Has Obama’s Name...</td>\n",
       "      <td>On Christmas day, Donald Trump announced that ...</td>\n",
       "      <td>News</td>\n",
       "      <td>December 29, 2017</td>\n",
       "      <td>0</td>\n",
       "      <td>Trump Is So Obsessed He Even Has Obama’s Name...</td>\n",
       "    </tr>\n",
       "    <tr>\n",
       "      <th>4</th>\n",
       "      <td>Pope Francis Just Called Out Donald Trump Dur...</td>\n",
       "      <td>Pope Francis used his annual Christmas Day mes...</td>\n",
       "      <td>News</td>\n",
       "      <td>December 25, 2017</td>\n",
       "      <td>0</td>\n",
       "      <td>Pope Francis Just Called Out Donald Trump Dur...</td>\n",
       "    </tr>\n",
       "  </tbody>\n",
       "</table>\n",
       "</div>"
      ],
      "text/plain": [
       "                                               title  \\\n",
       "0   Donald Trump Sends Out Embarrassing New Year’...   \n",
       "1   Drunk Bragging Trump Staffer Started Russian ...   \n",
       "2   Sheriff David Clarke Becomes An Internet Joke...   \n",
       "3   Trump Is So Obsessed He Even Has Obama’s Name...   \n",
       "4   Pope Francis Just Called Out Donald Trump Dur...   \n",
       "\n",
       "                                                text subject  \\\n",
       "0  Donald Trump just couldn t wish all Americans ...    News   \n",
       "1  House Intelligence Committee Chairman Devin Nu...    News   \n",
       "2  On Friday, it was revealed that former Milwauk...    News   \n",
       "3  On Christmas day, Donald Trump announced that ...    News   \n",
       "4  Pope Francis used his annual Christmas Day mes...    News   \n",
       "\n",
       "                date  labels  \\\n",
       "0  December 31, 2017       0   \n",
       "1  December 31, 2017       0   \n",
       "2  December 30, 2017       0   \n",
       "3  December 29, 2017       0   \n",
       "4  December 25, 2017       0   \n",
       "\n",
       "                                          final_text  \n",
       "0   Donald Trump Sends Out Embarrassing New Year’...  \n",
       "1   Drunk Bragging Trump Staffer Started Russian ...  \n",
       "2   Sheriff David Clarke Becomes An Internet Joke...  \n",
       "3   Trump Is So Obsessed He Even Has Obama’s Name...  \n",
       "4   Pope Francis Just Called Out Donald Trump Dur...  "
      ]
     },
     "execution_count": 7,
     "metadata": {},
     "output_type": "execute_result"
    }
   ],
   "source": [
    "df['final_text'] = df['title'] + \" \" + df['text']\n",
    "df.head()"
   ]
  },
  {
   "cell_type": "code",
   "execution_count": 8,
   "id": "5f4e7830",
   "metadata": {
    "execution": {
     "iopub.execute_input": "2023-04-12T23:06:48.047499Z",
     "iopub.status.busy": "2023-04-12T23:06:48.047499Z",
     "iopub.status.idle": "2023-04-12T23:06:48.589755Z",
     "shell.execute_reply": "2023-04-12T23:06:48.589755Z"
    },
    "papermill": {
     "duration": 0.549277,
     "end_time": "2023-04-12T23:06:48.591773",
     "exception": false,
     "start_time": "2023-04-12T23:06:48.042496",
     "status": "completed"
    },
    "tags": []
   },
   "outputs": [
    {
     "data": {
      "text/html": [
       "<div>\n",
       "<style scoped>\n",
       "    .dataframe tbody tr th:only-of-type {\n",
       "        vertical-align: middle;\n",
       "    }\n",
       "\n",
       "    .dataframe tbody tr th {\n",
       "        vertical-align: top;\n",
       "    }\n",
       "\n",
       "    .dataframe thead th {\n",
       "        text-align: right;\n",
       "    }\n",
       "</style>\n",
       "<table border=\"1\" class=\"dataframe\">\n",
       "  <thead>\n",
       "    <tr style=\"text-align: right;\">\n",
       "      <th></th>\n",
       "      <th>title</th>\n",
       "      <th>text</th>\n",
       "      <th>subject</th>\n",
       "      <th>date</th>\n",
       "      <th>labels</th>\n",
       "      <th>final_text</th>\n",
       "    </tr>\n",
       "  </thead>\n",
       "  <tbody>\n",
       "    <tr>\n",
       "      <th>9942</th>\n",
       "      <td>HILLARY TWEETS MESSAGE In Defense Of DACA…OOPS...</td>\n",
       "      <td>No time to waste   we've got to fight with eve...</td>\n",
       "      <td>politics</td>\n",
       "      <td>Sep 9, 2017</td>\n",
       "      <td>0</td>\n",
       "      <td>HILLARY TWEETS MESSAGE In Defense Of DACA…OOPS...</td>\n",
       "    </tr>\n",
       "    <tr>\n",
       "      <th>11446</th>\n",
       "      <td>FORMER DEMOCRAT WARNS Young Americans: “Rioter...</td>\n",
       "      <td>Who is silencing political speech, physically...</td>\n",
       "      <td>politics</td>\n",
       "      <td>Mar 10, 2017</td>\n",
       "      <td>0</td>\n",
       "      <td>FORMER DEMOCRAT WARNS Young Americans: “Rioter...</td>\n",
       "    </tr>\n",
       "    <tr>\n",
       "      <th>14925</th>\n",
       "      <td>[VIDEO] #BlackLivesMatter Terrorists Storm Dar...</td>\n",
       "      <td>They were probably just looking for a  safe sp...</td>\n",
       "      <td>politics</td>\n",
       "      <td>Nov 16, 2015</td>\n",
       "      <td>0</td>\n",
       "      <td>[VIDEO] #BlackLivesMatter Terrorists Storm Dar...</td>\n",
       "    </tr>\n",
       "    <tr>\n",
       "      <th>23926</th>\n",
       "      <td>Senate tax bill stalls on deficit-focused 'tri...</td>\n",
       "      <td>WASHINGTON (Reuters) - The U.S. Senate on Thur...</td>\n",
       "      <td>politicsNews</td>\n",
       "      <td>November 30, 2017</td>\n",
       "      <td>1</td>\n",
       "      <td>Senate tax bill stalls on deficit-focused 'tri...</td>\n",
       "    </tr>\n",
       "    <tr>\n",
       "      <th>24259</th>\n",
       "      <td>Trump warns 'rogue regime' North Korea of grav...</td>\n",
       "      <td>BEIJING (Reuters) - U.S. President Donald Trum...</td>\n",
       "      <td>politicsNews</td>\n",
       "      <td>November 8, 2017</td>\n",
       "      <td>1</td>\n",
       "      <td>Trump warns 'rogue regime' North Korea of grav...</td>\n",
       "    </tr>\n",
       "    <tr>\n",
       "      <th>...</th>\n",
       "      <td>...</td>\n",
       "      <td>...</td>\n",
       "      <td>...</td>\n",
       "      <td>...</td>\n",
       "      <td>...</td>\n",
       "      <td>...</td>\n",
       "    </tr>\n",
       "    <tr>\n",
       "      <th>44709</th>\n",
       "      <td>France unveils labor reforms in first step to ...</td>\n",
       "      <td>PARIS (Reuters) - French President Emmanuel Ma...</td>\n",
       "      <td>worldnews</td>\n",
       "      <td>August 31, 2017</td>\n",
       "      <td>1</td>\n",
       "      <td>France unveils labor reforms in first step to ...</td>\n",
       "    </tr>\n",
       "    <tr>\n",
       "      <th>44744</th>\n",
       "      <td>Guatemala top court sides with U.N. graft unit...</td>\n",
       "      <td>GUATEMALA CITY (Reuters) - Guatemala s top cou...</td>\n",
       "      <td>worldnews</td>\n",
       "      <td>August 29, 2017</td>\n",
       "      <td>1</td>\n",
       "      <td>Guatemala top court sides with U.N. graft unit...</td>\n",
       "    </tr>\n",
       "    <tr>\n",
       "      <th>44771</th>\n",
       "      <td>Europeans, Africans agree renewed push to tack...</td>\n",
       "      <td>PARIS (Reuters) - Europe s  big four  continen...</td>\n",
       "      <td>worldnews</td>\n",
       "      <td>August 28, 2017</td>\n",
       "      <td>1</td>\n",
       "      <td>Europeans, Africans agree renewed push to tack...</td>\n",
       "    </tr>\n",
       "    <tr>\n",
       "      <th>44834</th>\n",
       "      <td>Thailand's ousted PM Yingluck has fled abroad:...</td>\n",
       "      <td>BANGKOK (Reuters) - Ousted Thai prime minister...</td>\n",
       "      <td>worldnews</td>\n",
       "      <td>August 25, 2017</td>\n",
       "      <td>1</td>\n",
       "      <td>Thailand's ousted PM Yingluck has fled abroad:...</td>\n",
       "    </tr>\n",
       "    <tr>\n",
       "      <th>44889</th>\n",
       "      <td>U.S., North Korea clash at U.N. forum over nuc...</td>\n",
       "      <td>GENEVA (Reuters) - North Korea and the United ...</td>\n",
       "      <td>worldnews</td>\n",
       "      <td>August 22, 2017</td>\n",
       "      <td>1</td>\n",
       "      <td>U.S., North Korea clash at U.N. forum over nuc...</td>\n",
       "    </tr>\n",
       "  </tbody>\n",
       "</table>\n",
       "<p>209 rows × 6 columns</p>\n",
       "</div>"
      ],
      "text/plain": [
       "                                                   title  \\\n",
       "9942   HILLARY TWEETS MESSAGE In Defense Of DACA…OOPS...   \n",
       "11446  FORMER DEMOCRAT WARNS Young Americans: “Rioter...   \n",
       "14925  [VIDEO] #BlackLivesMatter Terrorists Storm Dar...   \n",
       "23926  Senate tax bill stalls on deficit-focused 'tri...   \n",
       "24259  Trump warns 'rogue regime' North Korea of grav...   \n",
       "...                                                  ...   \n",
       "44709  France unveils labor reforms in first step to ...   \n",
       "44744  Guatemala top court sides with U.N. graft unit...   \n",
       "44771  Europeans, Africans agree renewed push to tack...   \n",
       "44834  Thailand's ousted PM Yingluck has fled abroad:...   \n",
       "44889  U.S., North Korea clash at U.N. forum over nuc...   \n",
       "\n",
       "                                                    text       subject  \\\n",
       "9942   No time to waste   we've got to fight with eve...      politics   \n",
       "11446   Who is silencing political speech, physically...      politics   \n",
       "14925  They were probably just looking for a  safe sp...      politics   \n",
       "23926  WASHINGTON (Reuters) - The U.S. Senate on Thur...  politicsNews   \n",
       "24259  BEIJING (Reuters) - U.S. President Donald Trum...  politicsNews   \n",
       "...                                                  ...           ...   \n",
       "44709  PARIS (Reuters) - French President Emmanuel Ma...     worldnews   \n",
       "44744  GUATEMALA CITY (Reuters) - Guatemala s top cou...     worldnews   \n",
       "44771  PARIS (Reuters) - Europe s  big four  continen...     worldnews   \n",
       "44834  BANGKOK (Reuters) - Ousted Thai prime minister...     worldnews   \n",
       "44889  GENEVA (Reuters) - North Korea and the United ...     worldnews   \n",
       "\n",
       "                     date  labels  \\\n",
       "9942          Sep 9, 2017       0   \n",
       "11446        Mar 10, 2017       0   \n",
       "14925        Nov 16, 2015       0   \n",
       "23926  November 30, 2017        1   \n",
       "24259   November 8, 2017        1   \n",
       "...                   ...     ...   \n",
       "44709    August 31, 2017        1   \n",
       "44744    August 29, 2017        1   \n",
       "44771    August 28, 2017        1   \n",
       "44834    August 25, 2017        1   \n",
       "44889    August 22, 2017        1   \n",
       "\n",
       "                                              final_text  \n",
       "9942   HILLARY TWEETS MESSAGE In Defense Of DACA…OOPS...  \n",
       "11446  FORMER DEMOCRAT WARNS Young Americans: “Rioter...  \n",
       "14925  [VIDEO] #BlackLivesMatter Terrorists Storm Dar...  \n",
       "23926  Senate tax bill stalls on deficit-focused 'tri...  \n",
       "24259  Trump warns 'rogue regime' North Korea of grav...  \n",
       "...                                                  ...  \n",
       "44709  France unveils labor reforms in first step to ...  \n",
       "44744  Guatemala top court sides with U.N. graft unit...  \n",
       "44771  Europeans, Africans agree renewed push to tack...  \n",
       "44834  Thailand's ousted PM Yingluck has fled abroad:...  \n",
       "44889  U.S., North Korea clash at U.N. forum over nuc...  \n",
       "\n",
       "[209 rows x 6 columns]"
      ]
     },
     "execution_count": 8,
     "metadata": {},
     "output_type": "execute_result"
    }
   ],
   "source": [
    "df[df.duplicated()]"
   ]
  },
  {
   "cell_type": "code",
   "execution_count": 9,
   "id": "119695e0",
   "metadata": {
    "execution": {
     "iopub.execute_input": "2023-04-12T23:06:48.600773Z",
     "iopub.status.busy": "2023-04-12T23:06:48.600773Z",
     "iopub.status.idle": "2023-04-12T23:06:48.637235Z",
     "shell.execute_reply": "2023-04-12T23:06:48.637235Z"
    },
    "papermill": {
     "duration": 0.043485,
     "end_time": "2023-04-12T23:06:48.639256",
     "exception": false,
     "start_time": "2023-04-12T23:06:48.595771",
     "status": "completed"
    },
    "tags": []
   },
   "outputs": [
    {
     "data": {
      "text/plain": [
       "title         0\n",
       "text          0\n",
       "subject       0\n",
       "date          0\n",
       "labels        0\n",
       "final_text    0\n",
       "dtype: int64"
      ]
     },
     "execution_count": 9,
     "metadata": {},
     "output_type": "execute_result"
    }
   ],
   "source": [
    "df.isna().sum()"
   ]
  },
  {
   "cell_type": "code",
   "execution_count": 10,
   "id": "e297f33b",
   "metadata": {
    "execution": {
     "iopub.execute_input": "2023-04-12T23:06:48.647253Z",
     "iopub.status.busy": "2023-04-12T23:06:48.647253Z",
     "iopub.status.idle": "2023-04-12T23:06:48.667640Z",
     "shell.execute_reply": "2023-04-12T23:06:48.667640Z"
    },
    "papermill": {
     "duration": 0.02639,
     "end_time": "2023-04-12T23:06:48.669655",
     "exception": false,
     "start_time": "2023-04-12T23:06:48.643265",
     "status": "completed"
    },
    "tags": []
   },
   "outputs": [
    {
     "data": {
      "text/plain": [
       "0        2973\n",
       "1        1968\n",
       "2        3688\n",
       "3        2853\n",
       "4        2417\n",
       "         ... \n",
       "44893    2883\n",
       "44894     853\n",
       "44895    2000\n",
       "44896    1261\n",
       "44897    1391\n",
       "Name: final_text, Length: 44898, dtype: int64"
      ]
     },
     "execution_count": 10,
     "metadata": {},
     "output_type": "execute_result"
    }
   ],
   "source": [
    "df['final_text'].str.len()"
   ]
  },
  {
   "cell_type": "code",
   "execution_count": 11,
   "id": "b7c9de82",
   "metadata": {
    "execution": {
     "iopub.execute_input": "2023-04-12T23:06:48.677657Z",
     "iopub.status.busy": "2023-04-12T23:06:48.677657Z",
     "iopub.status.idle": "2023-04-12T23:06:49.018655Z",
     "shell.execute_reply": "2023-04-12T23:06:49.017655Z"
    },
    "papermill": {
     "duration": 0.346,
     "end_time": "2023-04-12T23:06:49.019658",
     "exception": false,
     "start_time": "2023-04-12T23:06:48.673658",
     "status": "completed"
    },
    "tags": []
   },
   "outputs": [],
   "source": [
    "df['final_text'] = df['final_text'].str.lower()"
   ]
  },
  {
   "cell_type": "code",
   "execution_count": 12,
   "id": "c15d7df9",
   "metadata": {
    "execution": {
     "iopub.execute_input": "2023-04-12T23:06:49.029656Z",
     "iopub.status.busy": "2023-04-12T23:06:49.028657Z",
     "iopub.status.idle": "2023-04-12T23:06:49.049654Z",
     "shell.execute_reply": "2023-04-12T23:06:49.049654Z"
    },
    "papermill": {
     "duration": 0.027999,
     "end_time": "2023-04-12T23:06:49.051656",
     "exception": false,
     "start_time": "2023-04-12T23:06:49.023657",
     "status": "completed"
    },
    "tags": []
   },
   "outputs": [
    {
     "data": {
      "text/html": [
       "<div>\n",
       "<style scoped>\n",
       "    .dataframe tbody tr th:only-of-type {\n",
       "        vertical-align: middle;\n",
       "    }\n",
       "\n",
       "    .dataframe tbody tr th {\n",
       "        vertical-align: top;\n",
       "    }\n",
       "\n",
       "    .dataframe thead th {\n",
       "        text-align: right;\n",
       "    }\n",
       "</style>\n",
       "<table border=\"1\" class=\"dataframe\">\n",
       "  <thead>\n",
       "    <tr style=\"text-align: right;\">\n",
       "      <th></th>\n",
       "      <th>title</th>\n",
       "      <th>text</th>\n",
       "      <th>subject</th>\n",
       "      <th>date</th>\n",
       "      <th>labels</th>\n",
       "      <th>final_text</th>\n",
       "    </tr>\n",
       "  </thead>\n",
       "  <tbody>\n",
       "    <tr>\n",
       "      <th>0</th>\n",
       "      <td>Donald Trump Sends Out Embarrassing New Year’...</td>\n",
       "      <td>Donald Trump just couldn t wish all Americans ...</td>\n",
       "      <td>News</td>\n",
       "      <td>December 31, 2017</td>\n",
       "      <td>0</td>\n",
       "      <td>donald trump sends out embarrassing new year’...</td>\n",
       "    </tr>\n",
       "    <tr>\n",
       "      <th>1</th>\n",
       "      <td>Drunk Bragging Trump Staffer Started Russian ...</td>\n",
       "      <td>House Intelligence Committee Chairman Devin Nu...</td>\n",
       "      <td>News</td>\n",
       "      <td>December 31, 2017</td>\n",
       "      <td>0</td>\n",
       "      <td>drunk bragging trump staffer started russian ...</td>\n",
       "    </tr>\n",
       "    <tr>\n",
       "      <th>2</th>\n",
       "      <td>Sheriff David Clarke Becomes An Internet Joke...</td>\n",
       "      <td>On Friday, it was revealed that former Milwauk...</td>\n",
       "      <td>News</td>\n",
       "      <td>December 30, 2017</td>\n",
       "      <td>0</td>\n",
       "      <td>sheriff david clarke becomes an internet joke...</td>\n",
       "    </tr>\n",
       "    <tr>\n",
       "      <th>3</th>\n",
       "      <td>Trump Is So Obsessed He Even Has Obama’s Name...</td>\n",
       "      <td>On Christmas day, Donald Trump announced that ...</td>\n",
       "      <td>News</td>\n",
       "      <td>December 29, 2017</td>\n",
       "      <td>0</td>\n",
       "      <td>trump is so obsessed he even has obama’s name...</td>\n",
       "    </tr>\n",
       "    <tr>\n",
       "      <th>4</th>\n",
       "      <td>Pope Francis Just Called Out Donald Trump Dur...</td>\n",
       "      <td>Pope Francis used his annual Christmas Day mes...</td>\n",
       "      <td>News</td>\n",
       "      <td>December 25, 2017</td>\n",
       "      <td>0</td>\n",
       "      <td>pope francis just called out donald trump dur...</td>\n",
       "    </tr>\n",
       "  </tbody>\n",
       "</table>\n",
       "</div>"
      ],
      "text/plain": [
       "                                               title  \\\n",
       "0   Donald Trump Sends Out Embarrassing New Year’...   \n",
       "1   Drunk Bragging Trump Staffer Started Russian ...   \n",
       "2   Sheriff David Clarke Becomes An Internet Joke...   \n",
       "3   Trump Is So Obsessed He Even Has Obama’s Name...   \n",
       "4   Pope Francis Just Called Out Donald Trump Dur...   \n",
       "\n",
       "                                                text subject  \\\n",
       "0  Donald Trump just couldn t wish all Americans ...    News   \n",
       "1  House Intelligence Committee Chairman Devin Nu...    News   \n",
       "2  On Friday, it was revealed that former Milwauk...    News   \n",
       "3  On Christmas day, Donald Trump announced that ...    News   \n",
       "4  Pope Francis used his annual Christmas Day mes...    News   \n",
       "\n",
       "                date  labels  \\\n",
       "0  December 31, 2017       0   \n",
       "1  December 31, 2017       0   \n",
       "2  December 30, 2017       0   \n",
       "3  December 29, 2017       0   \n",
       "4  December 25, 2017       0   \n",
       "\n",
       "                                          final_text  \n",
       "0   donald trump sends out embarrassing new year’...  \n",
       "1   drunk bragging trump staffer started russian ...  \n",
       "2   sheriff david clarke becomes an internet joke...  \n",
       "3   trump is so obsessed he even has obama’s name...  \n",
       "4   pope francis just called out donald trump dur...  "
      ]
     },
     "execution_count": 12,
     "metadata": {},
     "output_type": "execute_result"
    }
   ],
   "source": [
    "df.head()"
   ]
  },
  {
   "cell_type": "code",
   "execution_count": 13,
   "id": "3634f324",
   "metadata": {
    "execution": {
     "iopub.execute_input": "2023-04-12T23:06:49.060655Z",
     "iopub.status.busy": "2023-04-12T23:06:49.060655Z",
     "iopub.status.idle": "2023-04-12T23:06:49.080919Z",
     "shell.execute_reply": "2023-04-12T23:06:49.080919Z"
    },
    "papermill": {
     "duration": 0.027265,
     "end_time": "2023-04-12T23:06:49.082923",
     "exception": false,
     "start_time": "2023-04-12T23:06:49.055658",
     "status": "completed"
    },
    "tags": []
   },
   "outputs": [
    {
     "data": {
      "text/plain": [
       "0    23481\n",
       "1    21417\n",
       "Name: labels, dtype: int64"
      ]
     },
     "execution_count": 13,
     "metadata": {},
     "output_type": "execute_result"
    }
   ],
   "source": [
    "df['labels'].value_counts()"
   ]
  },
  {
   "cell_type": "code",
   "execution_count": 14,
   "id": "39ca996e",
   "metadata": {
    "execution": {
     "iopub.execute_input": "2023-04-12T23:06:49.092919Z",
     "iopub.status.busy": "2023-04-12T23:06:49.091920Z",
     "iopub.status.idle": "2023-04-12T23:06:49.733922Z",
     "shell.execute_reply": "2023-04-12T23:06:49.732919Z"
    },
    "papermill": {
     "duration": 0.648006,
     "end_time": "2023-04-12T23:06:49.734928",
     "exception": false,
     "start_time": "2023-04-12T23:06:49.086922",
     "status": "completed"
    },
    "tags": []
   },
   "outputs": [
    {
     "name": "stderr",
     "output_type": "stream",
     "text": [
      "C:\\Users\\cobra\\AppData\\Local\\Temp\\ipykernel_34036\\1057301068.py:5: UserWarning: This pattern is interpreted as a regular expression, and has match groups. To actually get the groups, use str.extract.\n",
      "  url_count = df.final_text.str.contains(url_regex, regex=True)\n"
     ]
    },
    {
     "data": {
      "text/plain": [
       "(36562,)"
      ]
     },
     "execution_count": 14,
     "metadata": {},
     "output_type": "execute_result"
    }
   ],
   "source": [
    "# Getting count of rows containing urls\n",
    "url_regex = r'[-a-zA-Z0-9@:%._\\+~#=]{1,256}\\.[a-zA-Z0-9()]{1,6}\\b([-a-zA-Z0-9()@:%_\\+.~#?&//=]*)'\n",
    "# url_regex = r'https?://\\S+|www\\.\\S+'\n",
    "# url_regex = r'(https?:\\/\\/(?:www\\.)?[-a-zA-Z0-9@:%._+~#=]{1,256}]\\.[a-zA-Z0-9()]{1,6}[-a-zA-Z0-9()@:%_+.~#?&/=]*)'\n",
    "url_count = df.final_text.str.contains(url_regex, regex=True)\n",
    "# url_count[url_count]\n",
    "url_count[url_count].shape"
   ]
  },
  {
   "cell_type": "code",
   "execution_count": 15,
   "id": "222f9b68",
   "metadata": {
    "execution": {
     "iopub.execute_input": "2023-04-12T23:06:49.744919Z",
     "iopub.status.busy": "2023-04-12T23:06:49.744919Z",
     "iopub.status.idle": "2023-04-12T23:06:49.765876Z",
     "shell.execute_reply": "2023-04-12T23:06:49.764873Z"
    },
    "papermill": {
     "duration": 0.026955,
     "end_time": "2023-04-12T23:06:49.766874",
     "exception": false,
     "start_time": "2023-04-12T23:06:49.739919",
     "status": "completed"
    },
    "tags": []
   },
   "outputs": [
    {
     "data": {
      "text/plain": [
       "0         True\n",
       "1         True\n",
       "2         True\n",
       "3         True\n",
       "4         True\n",
       "         ...  \n",
       "44893     True\n",
       "44894    False\n",
       "44895    False\n",
       "44896     True\n",
       "44897     True\n",
       "Name: final_text, Length: 44898, dtype: bool"
      ]
     },
     "execution_count": 15,
     "metadata": {},
     "output_type": "execute_result"
    }
   ],
   "source": [
    "url_count"
   ]
  },
  {
   "cell_type": "code",
   "execution_count": 16,
   "id": "b2e0b867",
   "metadata": {
    "execution": {
     "iopub.execute_input": "2023-04-12T23:06:49.777874Z",
     "iopub.status.busy": "2023-04-12T23:06:49.776874Z",
     "iopub.status.idle": "2023-04-12T23:06:52.374877Z",
     "shell.execute_reply": "2023-04-12T23:06:52.373873Z"
    },
    "papermill": {
     "duration": 2.604001,
     "end_time": "2023-04-12T23:06:52.375874",
     "exception": false,
     "start_time": "2023-04-12T23:06:49.771873",
     "status": "completed"
    },
    "tags": []
   },
   "outputs": [],
   "source": [
    "def remove_url(url_text):\n",
    "    # url = re.compile(r'https?://\\S+|www\\.\\S+')\n",
    "    url = re.compile(r'[-a-zA-Z0-9@:%._\\+~#=]{1,256}\\.[a-zA-Z0-9()]{1,6}\\b([-a-zA-Z0-9()@:%_\\+.~#?&//=]*)')\n",
    "    # re.sub(r'http\\S+', ' ', url_text)\n",
    "    return url.sub(r'', url_text)\n",
    "\n",
    "df['clean_final_text'] = df['final_text'].apply(remove_url)"
   ]
  },
  {
   "cell_type": "code",
   "execution_count": 17,
   "id": "e165036b",
   "metadata": {
    "execution": {
     "iopub.execute_input": "2023-04-12T23:06:52.385876Z",
     "iopub.status.busy": "2023-04-12T23:06:52.385876Z",
     "iopub.status.idle": "2023-04-12T23:06:54.631873Z",
     "shell.execute_reply": "2023-04-12T23:06:54.631873Z"
    },
    "papermill": {
     "duration": 2.253002,
     "end_time": "2023-04-12T23:06:54.633875",
     "exception": false,
     "start_time": "2023-04-12T23:06:52.380873",
     "status": "completed"
    },
    "tags": []
   },
   "outputs": [
    {
     "name": "stderr",
     "output_type": "stream",
     "text": [
      "C:\\Users\\cobra\\AppData\\Local\\Temp\\ipykernel_34036\\2909733584.py:2: UserWarning: This pattern is interpreted as a regular expression, and has match groups. To actually get the groups, use str.extract.\n",
      "  n_url_count = df.clean_final_text.str.contains(url_regex, regex=True)\n"
     ]
    },
    {
     "data": {
      "text/plain": [
       "0        False\n",
       "1        False\n",
       "2        False\n",
       "3        False\n",
       "4        False\n",
       "         ...  \n",
       "44893    False\n",
       "44894    False\n",
       "44895    False\n",
       "44896    False\n",
       "44897    False\n",
       "Name: clean_final_text, Length: 44898, dtype: bool"
      ]
     },
     "execution_count": 17,
     "metadata": {},
     "output_type": "execute_result"
    }
   ],
   "source": [
    "# Checking again if the article contains url or not\n",
    "n_url_count = df.clean_final_text.str.contains(url_regex, regex=True)\n",
    "n_url_count"
   ]
  },
  {
   "cell_type": "code",
   "execution_count": 18,
   "id": "137bafb9",
   "metadata": {
    "execution": {
     "iopub.execute_input": "2023-04-12T23:06:54.643873Z",
     "iopub.status.busy": "2023-04-12T23:06:54.643873Z",
     "iopub.status.idle": "2023-04-12T23:06:54.662878Z",
     "shell.execute_reply": "2023-04-12T23:06:54.661873Z"
    },
    "papermill": {
     "duration": 0.025001,
     "end_time": "2023-04-12T23:06:54.663875",
     "exception": false,
     "start_time": "2023-04-12T23:06:54.638874",
     "status": "completed"
    },
    "tags": []
   },
   "outputs": [
    {
     "name": "stdout",
     "output_type": "stream",
     "text": [
      "['i', 'me', 'my', 'myself', 'we', 'our', 'ours', 'ourselves', 'you', \"you're\", \"you've\", \"you'll\", \"you'd\", 'your', 'yours', 'yourself', 'yourselves', 'he', 'him', 'his', 'himself', 'she', \"she's\", 'her', 'hers', 'herself', 'it', \"it's\", 'its', 'itself', 'they', 'them', 'their', 'theirs', 'themselves', 'what', 'which', 'who', 'whom', 'this', 'that', \"that'll\", 'these', 'those', 'am', 'is', 'are', 'was', 'were', 'be', 'been', 'being', 'have', 'has', 'had', 'having', 'do', 'does', 'did', 'doing', 'a', 'an', 'the', 'and', 'but', 'if', 'or', 'because', 'as', 'until', 'while', 'of', 'at', 'by', 'for', 'with', 'about', 'against', 'between', 'into', 'through', 'during', 'before', 'after', 'above', 'below', 'to', 'from', 'up', 'down', 'in', 'out', 'on', 'off', 'over', 'under', 'again', 'further', 'then', 'once', 'here', 'there', 'when', 'where', 'why', 'how', 'all', 'any', 'both', 'each', 'few', 'more', 'most', 'other', 'some', 'such', 'no', 'nor', 'not', 'only', 'own', 'same', 'so', 'than', 'too', 'very', 's', 't', 'can', 'will', 'just', 'don', \"don't\", 'should', \"should've\", 'now', 'd', 'll', 'm', 'o', 're', 've', 'y', 'ain', 'aren', \"aren't\", 'couldn', \"couldn't\", 'didn', \"didn't\", 'doesn', \"doesn't\", 'hadn', \"hadn't\", 'hasn', \"hasn't\", 'haven', \"haven't\", 'isn', \"isn't\", 'ma', 'mightn', \"mightn't\", 'mustn', \"mustn't\", 'needn', \"needn't\", 'shan', \"shan't\", 'shouldn', \"shouldn't\", 'wasn', \"wasn't\", 'weren', \"weren't\", 'won', \"won't\", 'wouldn', \"wouldn't\"]\n"
     ]
    }
   ],
   "source": [
    "# nltk.download('stopwords')\n",
    "# nltk.download('punkt')\n",
    "# nltk.download('wordnet')\n",
    "# nltk.download('omw-1.4')\n",
    "print(stopwords.words('english'))"
   ]
  },
  {
   "cell_type": "code",
   "execution_count": 19,
   "id": "d4cb5f09",
   "metadata": {
    "execution": {
     "iopub.execute_input": "2023-04-12T23:06:54.673874Z",
     "iopub.status.busy": "2023-04-12T23:06:54.673874Z",
     "iopub.status.idle": "2023-04-12T23:07:55.463173Z",
     "shell.execute_reply": "2023-04-12T23:07:55.463173Z"
    },
    "papermill": {
     "duration": 60.7973,
     "end_time": "2023-04-12T23:07:55.465173",
     "exception": false,
     "start_time": "2023-04-12T23:06:54.667873",
     "status": "completed"
    },
    "tags": []
   },
   "outputs": [
    {
     "data": {
      "text/html": [
       "<div>\n",
       "<style scoped>\n",
       "    .dataframe tbody tr th:only-of-type {\n",
       "        vertical-align: middle;\n",
       "    }\n",
       "\n",
       "    .dataframe tbody tr th {\n",
       "        vertical-align: top;\n",
       "    }\n",
       "\n",
       "    .dataframe thead th {\n",
       "        text-align: right;\n",
       "    }\n",
       "</style>\n",
       "<table border=\"1\" class=\"dataframe\">\n",
       "  <thead>\n",
       "    <tr style=\"text-align: right;\">\n",
       "      <th></th>\n",
       "      <th>title</th>\n",
       "      <th>text</th>\n",
       "      <th>subject</th>\n",
       "      <th>date</th>\n",
       "      <th>labels</th>\n",
       "      <th>final_text</th>\n",
       "      <th>clean_final_text</th>\n",
       "      <th>tokenize_final_text</th>\n",
       "    </tr>\n",
       "  </thead>\n",
       "  <tbody>\n",
       "    <tr>\n",
       "      <th>0</th>\n",
       "      <td>Donald Trump Sends Out Embarrassing New Year’...</td>\n",
       "      <td>Donald Trump just couldn t wish all Americans ...</td>\n",
       "      <td>News</td>\n",
       "      <td>December 31, 2017</td>\n",
       "      <td>0</td>\n",
       "      <td>donald trump sends out embarrassing new year’...</td>\n",
       "      <td>donald trump sends out embarrassing new year’...</td>\n",
       "      <td>[donald, trump, sends, out, embarrassing, new,...</td>\n",
       "    </tr>\n",
       "    <tr>\n",
       "      <th>1</th>\n",
       "      <td>Drunk Bragging Trump Staffer Started Russian ...</td>\n",
       "      <td>House Intelligence Committee Chairman Devin Nu...</td>\n",
       "      <td>News</td>\n",
       "      <td>December 31, 2017</td>\n",
       "      <td>0</td>\n",
       "      <td>drunk bragging trump staffer started russian ...</td>\n",
       "      <td>drunk bragging trump staffer started russian ...</td>\n",
       "      <td>[drunk, bragging, trump, staffer, started, rus...</td>\n",
       "    </tr>\n",
       "    <tr>\n",
       "      <th>2</th>\n",
       "      <td>Sheriff David Clarke Becomes An Internet Joke...</td>\n",
       "      <td>On Friday, it was revealed that former Milwauk...</td>\n",
       "      <td>News</td>\n",
       "      <td>December 30, 2017</td>\n",
       "      <td>0</td>\n",
       "      <td>sheriff david clarke becomes an internet joke...</td>\n",
       "      <td>sheriff david clarke becomes an internet joke...</td>\n",
       "      <td>[sheriff, david, clarke, becomes, an, internet...</td>\n",
       "    </tr>\n",
       "    <tr>\n",
       "      <th>3</th>\n",
       "      <td>Trump Is So Obsessed He Even Has Obama’s Name...</td>\n",
       "      <td>On Christmas day, Donald Trump announced that ...</td>\n",
       "      <td>News</td>\n",
       "      <td>December 29, 2017</td>\n",
       "      <td>0</td>\n",
       "      <td>trump is so obsessed he even has obama’s name...</td>\n",
       "      <td>trump is so obsessed he even has obama’s name...</td>\n",
       "      <td>[trump, is, so, obsessed, he, even, has, obama...</td>\n",
       "    </tr>\n",
       "    <tr>\n",
       "      <th>4</th>\n",
       "      <td>Pope Francis Just Called Out Donald Trump Dur...</td>\n",
       "      <td>Pope Francis used his annual Christmas Day mes...</td>\n",
       "      <td>News</td>\n",
       "      <td>December 25, 2017</td>\n",
       "      <td>0</td>\n",
       "      <td>pope francis just called out donald trump dur...</td>\n",
       "      <td>pope francis just called out donald trump dur...</td>\n",
       "      <td>[pope, francis, just, called, out, donald, tru...</td>\n",
       "    </tr>\n",
       "  </tbody>\n",
       "</table>\n",
       "</div>"
      ],
      "text/plain": [
       "                                               title  \\\n",
       "0   Donald Trump Sends Out Embarrassing New Year’...   \n",
       "1   Drunk Bragging Trump Staffer Started Russian ...   \n",
       "2   Sheriff David Clarke Becomes An Internet Joke...   \n",
       "3   Trump Is So Obsessed He Even Has Obama’s Name...   \n",
       "4   Pope Francis Just Called Out Donald Trump Dur...   \n",
       "\n",
       "                                                text subject  \\\n",
       "0  Donald Trump just couldn t wish all Americans ...    News   \n",
       "1  House Intelligence Committee Chairman Devin Nu...    News   \n",
       "2  On Friday, it was revealed that former Milwauk...    News   \n",
       "3  On Christmas day, Donald Trump announced that ...    News   \n",
       "4  Pope Francis used his annual Christmas Day mes...    News   \n",
       "\n",
       "                date  labels  \\\n",
       "0  December 31, 2017       0   \n",
       "1  December 31, 2017       0   \n",
       "2  December 30, 2017       0   \n",
       "3  December 29, 2017       0   \n",
       "4  December 25, 2017       0   \n",
       "\n",
       "                                          final_text  \\\n",
       "0   donald trump sends out embarrassing new year’...   \n",
       "1   drunk bragging trump staffer started russian ...   \n",
       "2   sheriff david clarke becomes an internet joke...   \n",
       "3   trump is so obsessed he even has obama’s name...   \n",
       "4   pope francis just called out donald trump dur...   \n",
       "\n",
       "                                    clean_final_text  \\\n",
       "0   donald trump sends out embarrassing new year’...   \n",
       "1   drunk bragging trump staffer started russian ...   \n",
       "2   sheriff david clarke becomes an internet joke...   \n",
       "3   trump is so obsessed he even has obama’s name...   \n",
       "4   pope francis just called out donald trump dur...   \n",
       "\n",
       "                                 tokenize_final_text  \n",
       "0  [donald, trump, sends, out, embarrassing, new,...  \n",
       "1  [drunk, bragging, trump, staffer, started, rus...  \n",
       "2  [sheriff, david, clarke, becomes, an, internet...  \n",
       "3  [trump, is, so, obsessed, he, even, has, obama...  \n",
       "4  [pope, francis, just, called, out, donald, tru...  "
      ]
     },
     "execution_count": 19,
     "metadata": {},
     "output_type": "execute_result"
    }
   ],
   "source": [
    "# Performing tokenization\n",
    "df['tokenize_final_text'] = df['clean_final_text'].apply(word_tokenize)\n",
    "df.head()"
   ]
  },
  {
   "cell_type": "code",
   "execution_count": 20,
   "id": "d93139fe",
   "metadata": {
    "execution": {
     "iopub.execute_input": "2023-04-12T23:07:55.475173Z",
     "iopub.status.busy": "2023-04-12T23:07:55.474173Z",
     "iopub.status.idle": "2023-04-12T23:07:56.855173Z",
     "shell.execute_reply": "2023-04-12T23:07:56.855173Z"
    },
    "papermill": {
     "duration": 1.388,
     "end_time": "2023-04-12T23:07:56.857173",
     "exception": false,
     "start_time": "2023-04-12T23:07:55.469173",
     "status": "completed"
    },
    "tags": []
   },
   "outputs": [
    {
     "data": {
      "text/html": [
       "<div>\n",
       "<style scoped>\n",
       "    .dataframe tbody tr th:only-of-type {\n",
       "        vertical-align: middle;\n",
       "    }\n",
       "\n",
       "    .dataframe tbody tr th {\n",
       "        vertical-align: top;\n",
       "    }\n",
       "\n",
       "    .dataframe thead th {\n",
       "        text-align: right;\n",
       "    }\n",
       "</style>\n",
       "<table border=\"1\" class=\"dataframe\">\n",
       "  <thead>\n",
       "    <tr style=\"text-align: right;\">\n",
       "      <th></th>\n",
       "      <th>title</th>\n",
       "      <th>text</th>\n",
       "      <th>subject</th>\n",
       "      <th>date</th>\n",
       "      <th>labels</th>\n",
       "      <th>final_text</th>\n",
       "      <th>clean_final_text</th>\n",
       "      <th>tokenize_final_text</th>\n",
       "      <th>stopwords_clean_text</th>\n",
       "    </tr>\n",
       "  </thead>\n",
       "  <tbody>\n",
       "    <tr>\n",
       "      <th>0</th>\n",
       "      <td>Donald Trump Sends Out Embarrassing New Year’...</td>\n",
       "      <td>Donald Trump just couldn t wish all Americans ...</td>\n",
       "      <td>News</td>\n",
       "      <td>December 31, 2017</td>\n",
       "      <td>0</td>\n",
       "      <td>donald trump sends out embarrassing new year’...</td>\n",
       "      <td>donald trump sends out embarrassing new year’...</td>\n",
       "      <td>[donald, trump, sends, out, embarrassing, new,...</td>\n",
       "      <td>[donald, trump, sends, embarrassing, new, year...</td>\n",
       "    </tr>\n",
       "    <tr>\n",
       "      <th>1</th>\n",
       "      <td>Drunk Bragging Trump Staffer Started Russian ...</td>\n",
       "      <td>House Intelligence Committee Chairman Devin Nu...</td>\n",
       "      <td>News</td>\n",
       "      <td>December 31, 2017</td>\n",
       "      <td>0</td>\n",
       "      <td>drunk bragging trump staffer started russian ...</td>\n",
       "      <td>drunk bragging trump staffer started russian ...</td>\n",
       "      <td>[drunk, bragging, trump, staffer, started, rus...</td>\n",
       "      <td>[drunk, bragging, trump, staffer, started, rus...</td>\n",
       "    </tr>\n",
       "    <tr>\n",
       "      <th>2</th>\n",
       "      <td>Sheriff David Clarke Becomes An Internet Joke...</td>\n",
       "      <td>On Friday, it was revealed that former Milwauk...</td>\n",
       "      <td>News</td>\n",
       "      <td>December 30, 2017</td>\n",
       "      <td>0</td>\n",
       "      <td>sheriff david clarke becomes an internet joke...</td>\n",
       "      <td>sheriff david clarke becomes an internet joke...</td>\n",
       "      <td>[sheriff, david, clarke, becomes, an, internet...</td>\n",
       "      <td>[sheriff, david, clarke, becomes, internet, jo...</td>\n",
       "    </tr>\n",
       "    <tr>\n",
       "      <th>3</th>\n",
       "      <td>Trump Is So Obsessed He Even Has Obama’s Name...</td>\n",
       "      <td>On Christmas day, Donald Trump announced that ...</td>\n",
       "      <td>News</td>\n",
       "      <td>December 29, 2017</td>\n",
       "      <td>0</td>\n",
       "      <td>trump is so obsessed he even has obama’s name...</td>\n",
       "      <td>trump is so obsessed he even has obama’s name...</td>\n",
       "      <td>[trump, is, so, obsessed, he, even, has, obama...</td>\n",
       "      <td>[trump, obsessed, even, obama, ’, name, coded,...</td>\n",
       "    </tr>\n",
       "    <tr>\n",
       "      <th>4</th>\n",
       "      <td>Pope Francis Just Called Out Donald Trump Dur...</td>\n",
       "      <td>Pope Francis used his annual Christmas Day mes...</td>\n",
       "      <td>News</td>\n",
       "      <td>December 25, 2017</td>\n",
       "      <td>0</td>\n",
       "      <td>pope francis just called out donald trump dur...</td>\n",
       "      <td>pope francis just called out donald trump dur...</td>\n",
       "      <td>[pope, francis, just, called, out, donald, tru...</td>\n",
       "      <td>[pope, francis, called, donald, trump, christm...</td>\n",
       "    </tr>\n",
       "  </tbody>\n",
       "</table>\n",
       "</div>"
      ],
      "text/plain": [
       "                                               title  \\\n",
       "0   Donald Trump Sends Out Embarrassing New Year’...   \n",
       "1   Drunk Bragging Trump Staffer Started Russian ...   \n",
       "2   Sheriff David Clarke Becomes An Internet Joke...   \n",
       "3   Trump Is So Obsessed He Even Has Obama’s Name...   \n",
       "4   Pope Francis Just Called Out Donald Trump Dur...   \n",
       "\n",
       "                                                text subject  \\\n",
       "0  Donald Trump just couldn t wish all Americans ...    News   \n",
       "1  House Intelligence Committee Chairman Devin Nu...    News   \n",
       "2  On Friday, it was revealed that former Milwauk...    News   \n",
       "3  On Christmas day, Donald Trump announced that ...    News   \n",
       "4  Pope Francis used his annual Christmas Day mes...    News   \n",
       "\n",
       "                date  labels  \\\n",
       "0  December 31, 2017       0   \n",
       "1  December 31, 2017       0   \n",
       "2  December 30, 2017       0   \n",
       "3  December 29, 2017       0   \n",
       "4  December 25, 2017       0   \n",
       "\n",
       "                                          final_text  \\\n",
       "0   donald trump sends out embarrassing new year’...   \n",
       "1   drunk bragging trump staffer started russian ...   \n",
       "2   sheriff david clarke becomes an internet joke...   \n",
       "3   trump is so obsessed he even has obama’s name...   \n",
       "4   pope francis just called out donald trump dur...   \n",
       "\n",
       "                                    clean_final_text  \\\n",
       "0   donald trump sends out embarrassing new year’...   \n",
       "1   drunk bragging trump staffer started russian ...   \n",
       "2   sheriff david clarke becomes an internet joke...   \n",
       "3   trump is so obsessed he even has obama’s name...   \n",
       "4   pope francis just called out donald trump dur...   \n",
       "\n",
       "                                 tokenize_final_text  \\\n",
       "0  [donald, trump, sends, out, embarrassing, new,...   \n",
       "1  [drunk, bragging, trump, staffer, started, rus...   \n",
       "2  [sheriff, david, clarke, becomes, an, internet...   \n",
       "3  [trump, is, so, obsessed, he, even, has, obama...   \n",
       "4  [pope, francis, just, called, out, donald, tru...   \n",
       "\n",
       "                                stopwords_clean_text  \n",
       "0  [donald, trump, sends, embarrassing, new, year...  \n",
       "1  [drunk, bragging, trump, staffer, started, rus...  \n",
       "2  [sheriff, david, clarke, becomes, internet, jo...  \n",
       "3  [trump, obsessed, even, obama, ’, name, coded,...  \n",
       "4  [pope, francis, called, donald, trump, christm...  "
      ]
     },
     "execution_count": 20,
     "metadata": {},
     "output_type": "execute_result"
    }
   ],
   "source": [
    "# Removing stopwords\n",
    "stopwords = set(stopwords.words('english'))\n",
    "df['stopwords_clean_text'] = df['tokenize_final_text'].apply(lambda x:[word for word in x if word not in stopwords])\n",
    "df.head()"
   ]
  },
  {
   "cell_type": "code",
   "execution_count": 21,
   "id": "4c9ddd6f",
   "metadata": {
    "execution": {
     "iopub.execute_input": "2023-04-12T23:07:56.867174Z",
     "iopub.status.busy": "2023-04-12T23:07:56.867174Z",
     "iopub.status.idle": "2023-04-12T23:08:20.955680Z",
     "shell.execute_reply": "2023-04-12T23:08:20.955680Z"
    },
    "papermill": {
     "duration": 24.095508,
     "end_time": "2023-04-12T23:08:20.957681",
     "exception": false,
     "start_time": "2023-04-12T23:07:56.862173",
     "status": "completed"
    },
    "tags": []
   },
   "outputs": [
    {
     "data": {
      "text/html": [
       "<div>\n",
       "<style scoped>\n",
       "    .dataframe tbody tr th:only-of-type {\n",
       "        vertical-align: middle;\n",
       "    }\n",
       "\n",
       "    .dataframe tbody tr th {\n",
       "        vertical-align: top;\n",
       "    }\n",
       "\n",
       "    .dataframe thead th {\n",
       "        text-align: right;\n",
       "    }\n",
       "</style>\n",
       "<table border=\"1\" class=\"dataframe\">\n",
       "  <thead>\n",
       "    <tr style=\"text-align: right;\">\n",
       "      <th></th>\n",
       "      <th>title</th>\n",
       "      <th>text</th>\n",
       "      <th>subject</th>\n",
       "      <th>date</th>\n",
       "      <th>labels</th>\n",
       "      <th>final_text</th>\n",
       "      <th>clean_final_text</th>\n",
       "      <th>tokenize_final_text</th>\n",
       "      <th>stopwords_clean_text</th>\n",
       "      <th>lemmatized_clean_text</th>\n",
       "    </tr>\n",
       "  </thead>\n",
       "  <tbody>\n",
       "    <tr>\n",
       "      <th>0</th>\n",
       "      <td>Donald Trump Sends Out Embarrassing New Year’...</td>\n",
       "      <td>Donald Trump just couldn t wish all Americans ...</td>\n",
       "      <td>News</td>\n",
       "      <td>December 31, 2017</td>\n",
       "      <td>0</td>\n",
       "      <td>donald trump sends out embarrassing new year’...</td>\n",
       "      <td>donald trump sends out embarrassing new year’...</td>\n",
       "      <td>[donald, trump, sends, out, embarrassing, new,...</td>\n",
       "      <td>[donald, trump, sends, embarrassing, new, year...</td>\n",
       "      <td>[donald, trump, sends, embarrassing, new, year...</td>\n",
       "    </tr>\n",
       "    <tr>\n",
       "      <th>1</th>\n",
       "      <td>Drunk Bragging Trump Staffer Started Russian ...</td>\n",
       "      <td>House Intelligence Committee Chairman Devin Nu...</td>\n",
       "      <td>News</td>\n",
       "      <td>December 31, 2017</td>\n",
       "      <td>0</td>\n",
       "      <td>drunk bragging trump staffer started russian ...</td>\n",
       "      <td>drunk bragging trump staffer started russian ...</td>\n",
       "      <td>[drunk, bragging, trump, staffer, started, rus...</td>\n",
       "      <td>[drunk, bragging, trump, staffer, started, rus...</td>\n",
       "      <td>[drunk, bragging, trump, staffer, started, rus...</td>\n",
       "    </tr>\n",
       "    <tr>\n",
       "      <th>2</th>\n",
       "      <td>Sheriff David Clarke Becomes An Internet Joke...</td>\n",
       "      <td>On Friday, it was revealed that former Milwauk...</td>\n",
       "      <td>News</td>\n",
       "      <td>December 30, 2017</td>\n",
       "      <td>0</td>\n",
       "      <td>sheriff david clarke becomes an internet joke...</td>\n",
       "      <td>sheriff david clarke becomes an internet joke...</td>\n",
       "      <td>[sheriff, david, clarke, becomes, an, internet...</td>\n",
       "      <td>[sheriff, david, clarke, becomes, internet, jo...</td>\n",
       "      <td>[sheriff, david, clarke, becomes, internet, jo...</td>\n",
       "    </tr>\n",
       "    <tr>\n",
       "      <th>3</th>\n",
       "      <td>Trump Is So Obsessed He Even Has Obama’s Name...</td>\n",
       "      <td>On Christmas day, Donald Trump announced that ...</td>\n",
       "      <td>News</td>\n",
       "      <td>December 29, 2017</td>\n",
       "      <td>0</td>\n",
       "      <td>trump is so obsessed he even has obama’s name...</td>\n",
       "      <td>trump is so obsessed he even has obama’s name...</td>\n",
       "      <td>[trump, is, so, obsessed, he, even, has, obama...</td>\n",
       "      <td>[trump, obsessed, even, obama, ’, name, coded,...</td>\n",
       "      <td>[trump, obsessed, even, obama, ’, name, coded,...</td>\n",
       "    </tr>\n",
       "    <tr>\n",
       "      <th>4</th>\n",
       "      <td>Pope Francis Just Called Out Donald Trump Dur...</td>\n",
       "      <td>Pope Francis used his annual Christmas Day mes...</td>\n",
       "      <td>News</td>\n",
       "      <td>December 25, 2017</td>\n",
       "      <td>0</td>\n",
       "      <td>pope francis just called out donald trump dur...</td>\n",
       "      <td>pope francis just called out donald trump dur...</td>\n",
       "      <td>[pope, francis, just, called, out, donald, tru...</td>\n",
       "      <td>[pope, francis, called, donald, trump, christm...</td>\n",
       "      <td>[pope, francis, called, donald, trump, christm...</td>\n",
       "    </tr>\n",
       "  </tbody>\n",
       "</table>\n",
       "</div>"
      ],
      "text/plain": [
       "                                               title  \\\n",
       "0   Donald Trump Sends Out Embarrassing New Year’...   \n",
       "1   Drunk Bragging Trump Staffer Started Russian ...   \n",
       "2   Sheriff David Clarke Becomes An Internet Joke...   \n",
       "3   Trump Is So Obsessed He Even Has Obama’s Name...   \n",
       "4   Pope Francis Just Called Out Donald Trump Dur...   \n",
       "\n",
       "                                                text subject  \\\n",
       "0  Donald Trump just couldn t wish all Americans ...    News   \n",
       "1  House Intelligence Committee Chairman Devin Nu...    News   \n",
       "2  On Friday, it was revealed that former Milwauk...    News   \n",
       "3  On Christmas day, Donald Trump announced that ...    News   \n",
       "4  Pope Francis used his annual Christmas Day mes...    News   \n",
       "\n",
       "                date  labels  \\\n",
       "0  December 31, 2017       0   \n",
       "1  December 31, 2017       0   \n",
       "2  December 30, 2017       0   \n",
       "3  December 29, 2017       0   \n",
       "4  December 25, 2017       0   \n",
       "\n",
       "                                          final_text  \\\n",
       "0   donald trump sends out embarrassing new year’...   \n",
       "1   drunk bragging trump staffer started russian ...   \n",
       "2   sheriff david clarke becomes an internet joke...   \n",
       "3   trump is so obsessed he even has obama’s name...   \n",
       "4   pope francis just called out donald trump dur...   \n",
       "\n",
       "                                    clean_final_text  \\\n",
       "0   donald trump sends out embarrassing new year’...   \n",
       "1   drunk bragging trump staffer started russian ...   \n",
       "2   sheriff david clarke becomes an internet joke...   \n",
       "3   trump is so obsessed he even has obama’s name...   \n",
       "4   pope francis just called out donald trump dur...   \n",
       "\n",
       "                                 tokenize_final_text  \\\n",
       "0  [donald, trump, sends, out, embarrassing, new,...   \n",
       "1  [drunk, bragging, trump, staffer, started, rus...   \n",
       "2  [sheriff, david, clarke, becomes, an, internet...   \n",
       "3  [trump, is, so, obsessed, he, even, has, obama...   \n",
       "4  [pope, francis, just, called, out, donald, tru...   \n",
       "\n",
       "                                stopwords_clean_text  \\\n",
       "0  [donald, trump, sends, embarrassing, new, year...   \n",
       "1  [drunk, bragging, trump, staffer, started, rus...   \n",
       "2  [sheriff, david, clarke, becomes, internet, jo...   \n",
       "3  [trump, obsessed, even, obama, ’, name, coded,...   \n",
       "4  [pope, francis, called, donald, trump, christm...   \n",
       "\n",
       "                               lemmatized_clean_text  \n",
       "0  [donald, trump, sends, embarrassing, new, year...  \n",
       "1  [drunk, bragging, trump, staffer, started, rus...  \n",
       "2  [sheriff, david, clarke, becomes, internet, jo...  \n",
       "3  [trump, obsessed, even, obama, ’, name, coded,...  \n",
       "4  [pope, francis, called, donald, trump, christm...  "
      ]
     },
     "execution_count": 21,
     "metadata": {},
     "output_type": "execute_result"
    }
   ],
   "source": [
    "# Performing lemmatization\n",
    "lemma = WordNetLemmatizer()\n",
    "\n",
    "def lemmatization(words):\n",
    "    return [lemma.lemmatize(word) for word in words]\n",
    "\n",
    "df['lemmatized_clean_text'] = df['stopwords_clean_text'].apply(lemmatization)\n",
    "\n",
    "df.head()"
   ]
  },
  {
   "cell_type": "code",
   "execution_count": 22,
   "id": "1e76c6b0",
   "metadata": {
    "execution": {
     "iopub.execute_input": "2023-04-12T23:08:20.968683Z",
     "iopub.status.busy": "2023-04-12T23:08:20.968683Z",
     "iopub.status.idle": "2023-04-12T23:08:20.986939Z",
     "shell.execute_reply": "2023-04-12T23:08:20.986939Z"
    },
    "papermill": {
     "duration": 0.026259,
     "end_time": "2023-04-12T23:08:20.988940",
     "exception": false,
     "start_time": "2023-04-12T23:08:20.962681",
     "status": "completed"
    },
    "tags": []
   },
   "outputs": [],
   "source": [
    "# Convert the list of tokens into back to the string\n",
    "# df['string_article_content'] = df['lemma_clean_article_content'].apply(' '.join)\n",
    "# df"
   ]
  },
  {
   "cell_type": "code",
   "execution_count": 23,
   "id": "09d621f9",
   "metadata": {
    "execution": {
     "iopub.execute_input": "2023-04-12T23:08:20.998943Z",
     "iopub.status.busy": "2023-04-12T23:08:20.998943Z",
     "iopub.status.idle": "2023-04-12T23:08:21.018816Z",
     "shell.execute_reply": "2023-04-12T23:08:21.018816Z"
    },
    "papermill": {
     "duration": 0.026862,
     "end_time": "2023-04-12T23:08:21.020802",
     "exception": false,
     "start_time": "2023-04-12T23:08:20.993940",
     "status": "completed"
    },
    "tags": []
   },
   "outputs": [],
   "source": [
    "df.drop(columns=['subject', 'date', 'tokenize_final_text', 'stopwords_clean_text'], axis = 1, inplace = True)"
   ]
  },
  {
   "cell_type": "code",
   "execution_count": 24,
   "id": "74478c38",
   "metadata": {
    "execution": {
     "iopub.execute_input": "2023-04-12T23:08:21.031803Z",
     "iopub.status.busy": "2023-04-12T23:08:21.031803Z",
     "iopub.status.idle": "2023-04-12T23:08:21.050803Z",
     "shell.execute_reply": "2023-04-12T23:08:21.050803Z"
    },
    "papermill": {
     "duration": 0.027001,
     "end_time": "2023-04-12T23:08:21.052804",
     "exception": false,
     "start_time": "2023-04-12T23:08:21.025803",
     "status": "completed"
    },
    "tags": []
   },
   "outputs": [
    {
     "data": {
      "text/plain": [
       "287.22537752238406"
      ]
     },
     "execution_count": 24,
     "metadata": {},
     "output_type": "execute_result"
    }
   ],
   "source": [
    "df['lemmatized_clean_text'].apply(len).mean()"
   ]
  },
  {
   "cell_type": "code",
   "execution_count": 25,
   "id": "28c2cd46",
   "metadata": {
    "execution": {
     "iopub.execute_input": "2023-04-12T23:08:21.063806Z",
     "iopub.status.busy": "2023-04-12T23:08:21.063806Z",
     "iopub.status.idle": "2023-04-12T23:08:21.083212Z",
     "shell.execute_reply": "2023-04-12T23:08:21.082212Z"
    },
    "papermill": {
     "duration": 0.026408,
     "end_time": "2023-04-12T23:08:21.084211",
     "exception": false,
     "start_time": "2023-04-12T23:08:21.057803",
     "status": "completed"
    },
    "tags": []
   },
   "outputs": [
    {
     "data": {
      "text/html": [
       "<div>\n",
       "<style scoped>\n",
       "    .dataframe tbody tr th:only-of-type {\n",
       "        vertical-align: middle;\n",
       "    }\n",
       "\n",
       "    .dataframe tbody tr th {\n",
       "        vertical-align: top;\n",
       "    }\n",
       "\n",
       "    .dataframe thead th {\n",
       "        text-align: right;\n",
       "    }\n",
       "</style>\n",
       "<table border=\"1\" class=\"dataframe\">\n",
       "  <thead>\n",
       "    <tr style=\"text-align: right;\">\n",
       "      <th></th>\n",
       "      <th>title</th>\n",
       "      <th>text</th>\n",
       "      <th>labels</th>\n",
       "      <th>final_text</th>\n",
       "      <th>clean_final_text</th>\n",
       "      <th>lemmatized_clean_text</th>\n",
       "    </tr>\n",
       "  </thead>\n",
       "  <tbody>\n",
       "    <tr>\n",
       "      <th>0</th>\n",
       "      <td>Donald Trump Sends Out Embarrassing New Year’...</td>\n",
       "      <td>Donald Trump just couldn t wish all Americans ...</td>\n",
       "      <td>0</td>\n",
       "      <td>donald trump sends out embarrassing new year’...</td>\n",
       "      <td>donald trump sends out embarrassing new year’...</td>\n",
       "      <td>[donald, trump, sends, embarrassing, new, year...</td>\n",
       "    </tr>\n",
       "    <tr>\n",
       "      <th>1</th>\n",
       "      <td>Drunk Bragging Trump Staffer Started Russian ...</td>\n",
       "      <td>House Intelligence Committee Chairman Devin Nu...</td>\n",
       "      <td>0</td>\n",
       "      <td>drunk bragging trump staffer started russian ...</td>\n",
       "      <td>drunk bragging trump staffer started russian ...</td>\n",
       "      <td>[drunk, bragging, trump, staffer, started, rus...</td>\n",
       "    </tr>\n",
       "    <tr>\n",
       "      <th>2</th>\n",
       "      <td>Sheriff David Clarke Becomes An Internet Joke...</td>\n",
       "      <td>On Friday, it was revealed that former Milwauk...</td>\n",
       "      <td>0</td>\n",
       "      <td>sheriff david clarke becomes an internet joke...</td>\n",
       "      <td>sheriff david clarke becomes an internet joke...</td>\n",
       "      <td>[sheriff, david, clarke, becomes, internet, jo...</td>\n",
       "    </tr>\n",
       "    <tr>\n",
       "      <th>3</th>\n",
       "      <td>Trump Is So Obsessed He Even Has Obama’s Name...</td>\n",
       "      <td>On Christmas day, Donald Trump announced that ...</td>\n",
       "      <td>0</td>\n",
       "      <td>trump is so obsessed he even has obama’s name...</td>\n",
       "      <td>trump is so obsessed he even has obama’s name...</td>\n",
       "      <td>[trump, obsessed, even, obama, ’, name, coded,...</td>\n",
       "    </tr>\n",
       "    <tr>\n",
       "      <th>4</th>\n",
       "      <td>Pope Francis Just Called Out Donald Trump Dur...</td>\n",
       "      <td>Pope Francis used his annual Christmas Day mes...</td>\n",
       "      <td>0</td>\n",
       "      <td>pope francis just called out donald trump dur...</td>\n",
       "      <td>pope francis just called out donald trump dur...</td>\n",
       "      <td>[pope, francis, called, donald, trump, christm...</td>\n",
       "    </tr>\n",
       "  </tbody>\n",
       "</table>\n",
       "</div>"
      ],
      "text/plain": [
       "                                               title  \\\n",
       "0   Donald Trump Sends Out Embarrassing New Year’...   \n",
       "1   Drunk Bragging Trump Staffer Started Russian ...   \n",
       "2   Sheriff David Clarke Becomes An Internet Joke...   \n",
       "3   Trump Is So Obsessed He Even Has Obama’s Name...   \n",
       "4   Pope Francis Just Called Out Donald Trump Dur...   \n",
       "\n",
       "                                                text  labels  \\\n",
       "0  Donald Trump just couldn t wish all Americans ...       0   \n",
       "1  House Intelligence Committee Chairman Devin Nu...       0   \n",
       "2  On Friday, it was revealed that former Milwauk...       0   \n",
       "3  On Christmas day, Donald Trump announced that ...       0   \n",
       "4  Pope Francis used his annual Christmas Day mes...       0   \n",
       "\n",
       "                                          final_text  \\\n",
       "0   donald trump sends out embarrassing new year’...   \n",
       "1   drunk bragging trump staffer started russian ...   \n",
       "2   sheriff david clarke becomes an internet joke...   \n",
       "3   trump is so obsessed he even has obama’s name...   \n",
       "4   pope francis just called out donald trump dur...   \n",
       "\n",
       "                                    clean_final_text  \\\n",
       "0   donald trump sends out embarrassing new year’...   \n",
       "1   drunk bragging trump staffer started russian ...   \n",
       "2   sheriff david clarke becomes an internet joke...   \n",
       "3   trump is so obsessed he even has obama’s name...   \n",
       "4   pope francis just called out donald trump dur...   \n",
       "\n",
       "                               lemmatized_clean_text  \n",
       "0  [donald, trump, sends, embarrassing, new, year...  \n",
       "1  [drunk, bragging, trump, staffer, started, rus...  \n",
       "2  [sheriff, david, clarke, becomes, internet, jo...  \n",
       "3  [trump, obsessed, even, obama, ’, name, coded,...  \n",
       "4  [pope, francis, called, donald, trump, christm...  "
      ]
     },
     "execution_count": 25,
     "metadata": {},
     "output_type": "execute_result"
    }
   ],
   "source": [
    "df.head()"
   ]
  },
  {
   "cell_type": "code",
   "execution_count": 26,
   "id": "6e3e7aae",
   "metadata": {
    "execution": {
     "iopub.execute_input": "2023-04-12T23:08:21.095210Z",
     "iopub.status.busy": "2023-04-12T23:08:21.095210Z",
     "iopub.status.idle": "2023-04-12T23:08:21.098210Z",
     "shell.execute_reply": "2023-04-12T23:08:21.098210Z"
    },
    "papermill": {
     "duration": 0.009999,
     "end_time": "2023-04-12T23:08:21.099212",
     "exception": false,
     "start_time": "2023-04-12T23:08:21.089213",
     "status": "completed"
    },
    "tags": []
   },
   "outputs": [],
   "source": [
    "dir = os.getcwd()\n",
    "change_dir = os.path.dirname(dir)\n",
    "subdir = \"Preprocessed_Dataset\""
   ]
  },
  {
   "cell_type": "code",
   "execution_count": 27,
   "id": "582505dc",
   "metadata": {
    "execution": {
     "iopub.execute_input": "2023-04-12T23:08:21.110214Z",
     "iopub.status.busy": "2023-04-12T23:08:21.110214Z",
     "iopub.status.idle": "2023-04-12T23:08:21.114210Z",
     "shell.execute_reply": "2023-04-12T23:08:21.114210Z"
    },
    "papermill": {
     "duration": 0.010999,
     "end_time": "2023-04-12T23:08:21.115211",
     "exception": false,
     "start_time": "2023-04-12T23:08:21.104212",
     "status": "completed"
    },
    "tags": []
   },
   "outputs": [
    {
     "name": "stdout",
     "output_type": "stream",
     "text": [
      "C:\\Users\\cobra\\project\\project\\Data_Preprocessing\\Preprocessed_Dataset\n"
     ]
    }
   ],
   "source": [
    "dir_path = os.path.join(change_dir, subdir)\n",
    "print(dir_path)"
   ]
  },
  {
   "cell_type": "code",
   "execution_count": 28,
   "id": "29293552",
   "metadata": {
    "execution": {
     "iopub.execute_input": "2023-04-12T23:08:21.126212Z",
     "iopub.status.busy": "2023-04-12T23:08:21.126212Z",
     "iopub.status.idle": "2023-04-12T23:08:21.145749Z",
     "shell.execute_reply": "2023-04-12T23:08:21.144449Z"
    },
    "papermill": {
     "duration": 0.027727,
     "end_time": "2023-04-12T23:08:21.147939",
     "exception": false,
     "start_time": "2023-04-12T23:08:21.120212",
     "status": "completed"
    },
    "tags": []
   },
   "outputs": [
    {
     "name": "stdout",
     "output_type": "stream",
     "text": [
      "Directory C:\\Users\\cobra\\project\\project\\Data_Preprocessing\\Preprocessed_Dataset already exists\n"
     ]
    }
   ],
   "source": [
    "if not os.path.exists(dir_path):\n",
    "    os.makedirs(dir_path)\n",
    "    print(f\"Created directory {dir_path}\")\n",
    "else:\n",
    "    print(f\"Directory {dir_path} already exists\")"
   ]
  },
  {
   "cell_type": "code",
   "execution_count": 29,
   "id": "616b9d5d",
   "metadata": {
    "execution": {
     "iopub.execute_input": "2023-04-12T23:08:21.158938Z",
     "iopub.status.busy": "2023-04-12T23:08:21.158938Z",
     "iopub.status.idle": "2023-04-12T23:08:21.176384Z",
     "shell.execute_reply": "2023-04-12T23:08:21.175332Z"
    },
    "papermill": {
     "duration": 0.025443,
     "end_time": "2023-04-12T23:08:21.178381",
     "exception": false,
     "start_time": "2023-04-12T23:08:21.152938",
     "status": "completed"
    },
    "tags": []
   },
   "outputs": [
    {
     "data": {
      "text/plain": [
       "'C:\\\\Users\\\\cobra\\\\project\\\\project\\\\Data_Preprocessing\\\\ISOT_Dataset'"
      ]
     },
     "execution_count": 29,
     "metadata": {},
     "output_type": "execute_result"
    }
   ],
   "source": [
    "os.getcwd()"
   ]
  },
  {
   "cell_type": "code",
   "execution_count": 30,
   "id": "627e6c17",
   "metadata": {
    "execution": {
     "iopub.execute_input": "2023-04-12T23:08:21.189426Z",
     "iopub.status.busy": "2023-04-12T23:08:21.189426Z",
     "iopub.status.idle": "2023-04-12T23:08:28.211519Z",
     "shell.execute_reply": "2023-04-12T23:08:28.210508Z"
    },
    "papermill": {
     "duration": 7.029104,
     "end_time": "2023-04-12T23:08:28.212507",
     "exception": false,
     "start_time": "2023-04-12T23:08:21.183403",
     "status": "completed"
    },
    "tags": []
   },
   "outputs": [],
   "source": [
    "df.to_csv('../Preprocessed_Dataset/ISOT_Preprocessed_Data.csv')"
   ]
  },
  {
   "cell_type": "code",
   "execution_count": null,
   "id": "c15a0966",
   "metadata": {
    "papermill": {
     "duration": 0.004999,
     "end_time": "2023-04-12T23:08:28.223509",
     "exception": false,
     "start_time": "2023-04-12T23:08:28.218510",
     "status": "completed"
    },
    "tags": []
   },
   "outputs": [],
   "source": []
  }
 ],
 "metadata": {
  "kernelspec": {
   "display_name": "base",
   "language": "python",
   "name": "python3"
  },
  "language_info": {
   "codemirror_mode": {
    "name": "ipython",
    "version": 3
   },
   "file_extension": ".py",
   "mimetype": "text/x-python",
   "name": "python",
   "nbconvert_exporter": "python",
   "pygments_lexer": "ipython3",
   "version": "3.9.13"
  },
  "papermill": {
   "default_parameters": {},
   "duration": 105.806525,
   "end_time": "2023-04-12T23:08:30.139521",
   "environment_variables": {},
   "exception": null,
   "input_path": "ISOT_Data_Preprocessing.ipynb",
   "output_path": "ISOT_Data_Preprocessing.ipynb",
   "parameters": {},
   "start_time": "2023-04-12T23:06:44.332996",
   "version": "2.4.0"
  }
 },
 "nbformat": 4,
 "nbformat_minor": 5
}