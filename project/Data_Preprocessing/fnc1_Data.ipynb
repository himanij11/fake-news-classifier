{
 "cells": [
  {
   "cell_type": "code",
   "execution_count": 1,
   "id": "21092b07",
   "metadata": {
    "execution": {
     "iopub.execute_input": "2023-04-12T23:08:39.315522Z",
     "iopub.status.busy": "2023-04-12T23:08:39.315522Z",
     "iopub.status.idle": "2023-04-12T23:08:39.629517Z",
     "shell.execute_reply": "2023-04-12T23:08:39.629517Z"
    },
    "papermill": {
     "duration": 0.320034,
     "end_time": "2023-04-12T23:08:39.631517",
     "exception": false,
     "start_time": "2023-04-12T23:08:39.311483",
     "status": "completed"
    },
    "tags": []
   },
   "outputs": [],
   "source": [
    "import os\n",
    "import pandas as pd"
   ]
  },
  {
   "cell_type": "code",
   "execution_count": 2,
   "id": "0a4ea952",
   "metadata": {
    "execution": {
     "iopub.execute_input": "2023-04-12T23:08:39.637521Z",
     "iopub.status.busy": "2023-04-12T23:08:39.637521Z",
     "iopub.status.idle": "2023-04-12T23:08:39.678717Z",
     "shell.execute_reply": "2023-04-12T23:08:39.677687Z"
    },
    "papermill": {
     "duration": 0.046193,
     "end_time": "2023-04-12T23:08:39.679712",
     "exception": false,
     "start_time": "2023-04-12T23:08:39.633519",
     "status": "completed"
    },
    "tags": []
   },
   "outputs": [
    {
     "name": "stdout",
     "output_type": "stream",
     "text": [
      "C:\\Users\\cobra\\project\\project\\Data_Preprocessing\n"
     ]
    }
   ],
   "source": [
    "current_directory = os.path.abspath(os.getcwd())\n",
    "print(current_directory)\n",
    "os.chdir(f\"{current_directory}/fnc1_Dataset\")"
   ]
  },
  {
   "cell_type": "code",
   "execution_count": 3,
   "id": "2c902dab",
   "metadata": {
    "execution": {
     "iopub.execute_input": "2023-04-12T23:08:39.684714Z",
     "iopub.status.busy": "2023-04-12T23:08:39.684714Z",
     "iopub.status.idle": "2023-04-12T23:08:39.692569Z",
     "shell.execute_reply": "2023-04-12T23:08:39.692569Z"
    },
    "papermill": {
     "duration": 0.012854,
     "end_time": "2023-04-12T23:08:39.694568",
     "exception": false,
     "start_time": "2023-04-12T23:08:39.681714",
     "status": "completed"
    },
    "tags": []
   },
   "outputs": [
    {
     "name": "stdout",
     "output_type": "stream",
     "text": [
      "C:\\Users\\cobra\\project\\project\\Data_Preprocessing\\fnc1_Dataset\\train_bodies.csv\n"
     ]
    }
   ],
   "source": [
    "fnc1_csv_path_bodies = os.path.join(os.getcwd(), 'train_bodies.csv')\n",
    "print(fnc1_csv_path_bodies)"
   ]
  },
  {
   "cell_type": "code",
   "execution_count": 4,
   "id": "fbd3c762",
   "metadata": {
    "execution": {
     "iopub.execute_input": "2023-04-12T23:08:39.699569Z",
     "iopub.status.busy": "2023-04-12T23:08:39.698570Z",
     "iopub.status.idle": "2023-04-12T23:08:39.771062Z",
     "shell.execute_reply": "2023-04-12T23:08:39.771062Z"
    },
    "papermill": {
     "duration": 0.075509,
     "end_time": "2023-04-12T23:08:39.772080",
     "exception": false,
     "start_time": "2023-04-12T23:08:39.696571",
     "status": "completed"
    },
    "tags": []
   },
   "outputs": [
    {
     "data": {
      "text/html": [
       "<div>\n",
       "<style scoped>\n",
       "    .dataframe tbody tr th:only-of-type {\n",
       "        vertical-align: middle;\n",
       "    }\n",
       "\n",
       "    .dataframe tbody tr th {\n",
       "        vertical-align: top;\n",
       "    }\n",
       "\n",
       "    .dataframe thead th {\n",
       "        text-align: right;\n",
       "    }\n",
       "</style>\n",
       "<table border=\"1\" class=\"dataframe\">\n",
       "  <thead>\n",
       "    <tr style=\"text-align: right;\">\n",
       "      <th></th>\n",
       "      <th>Body ID</th>\n",
       "      <th>articleBody</th>\n",
       "    </tr>\n",
       "  </thead>\n",
       "  <tbody>\n",
       "    <tr>\n",
       "      <th>0</th>\n",
       "      <td>0</td>\n",
       "      <td>A small meteorite crashed into a wooded area i...</td>\n",
       "    </tr>\n",
       "    <tr>\n",
       "      <th>1</th>\n",
       "      <td>4</td>\n",
       "      <td>Last week we hinted at what was to come as Ebo...</td>\n",
       "    </tr>\n",
       "    <tr>\n",
       "      <th>2</th>\n",
       "      <td>5</td>\n",
       "      <td>(NEWSER) – Wonder how long a Quarter Pounder w...</td>\n",
       "    </tr>\n",
       "    <tr>\n",
       "      <th>3</th>\n",
       "      <td>6</td>\n",
       "      <td>Posting photos of a gun-toting child online, I...</td>\n",
       "    </tr>\n",
       "    <tr>\n",
       "      <th>4</th>\n",
       "      <td>7</td>\n",
       "      <td>At least 25 suspected Boko Haram insurgents we...</td>\n",
       "    </tr>\n",
       "  </tbody>\n",
       "</table>\n",
       "</div>"
      ],
      "text/plain": [
       "   Body ID                                        articleBody\n",
       "0        0  A small meteorite crashed into a wooded area i...\n",
       "1        4  Last week we hinted at what was to come as Ebo...\n",
       "2        5  (NEWSER) – Wonder how long a Quarter Pounder w...\n",
       "3        6  Posting photos of a gun-toting child online, I...\n",
       "4        7  At least 25 suspected Boko Haram insurgents we..."
      ]
     },
     "execution_count": 4,
     "metadata": {},
     "output_type": "execute_result"
    }
   ],
   "source": [
    "df_1 = pd.read_csv(fnc1_csv_path_bodies)\n",
    "df_1.head()"
   ]
  },
  {
   "cell_type": "code",
   "execution_count": 5,
   "id": "becf768e",
   "metadata": {
    "execution": {
     "iopub.execute_input": "2023-04-12T23:08:39.778083Z",
     "iopub.status.busy": "2023-04-12T23:08:39.778083Z",
     "iopub.status.idle": "2023-04-12T23:08:39.787078Z",
     "shell.execute_reply": "2023-04-12T23:08:39.787078Z"
    },
    "papermill": {
     "duration": 0.013,
     "end_time": "2023-04-12T23:08:39.788082",
     "exception": false,
     "start_time": "2023-04-12T23:08:39.775082",
     "status": "completed"
    },
    "tags": []
   },
   "outputs": [
    {
     "data": {
      "text/plain": [
       "(1683, 2)"
      ]
     },
     "execution_count": 5,
     "metadata": {},
     "output_type": "execute_result"
    }
   ],
   "source": [
    "df_1.shape"
   ]
  },
  {
   "cell_type": "code",
   "execution_count": 6,
   "id": "4ccf7d6f",
   "metadata": {
    "execution": {
     "iopub.execute_input": "2023-04-12T23:08:39.794080Z",
     "iopub.status.busy": "2023-04-12T23:08:39.794080Z",
     "iopub.status.idle": "2023-04-12T23:08:39.803078Z",
     "shell.execute_reply": "2023-04-12T23:08:39.803078Z"
    },
    "papermill": {
     "duration": 0.012999,
     "end_time": "2023-04-12T23:08:39.804080",
     "exception": false,
     "start_time": "2023-04-12T23:08:39.791081",
     "status": "completed"
    },
    "tags": []
   },
   "outputs": [
    {
     "name": "stdout",
     "output_type": "stream",
     "text": [
      "C:\\Users\\cobra\\project\\project\\Data_Preprocessing\\fnc1_Dataset\\train_stances.csv\n"
     ]
    }
   ],
   "source": [
    "fnc1_csv_path_stances = os.path.join(os.getcwd(), 'train_stances.csv')\n",
    "print(fnc1_csv_path_stances)"
   ]
  },
  {
   "cell_type": "code",
   "execution_count": 7,
   "id": "4839eaaa",
   "metadata": {
    "execution": {
     "iopub.execute_input": "2023-04-12T23:08:39.810079Z",
     "iopub.status.busy": "2023-04-12T23:08:39.810079Z",
     "iopub.status.idle": "2023-04-12T23:08:39.930088Z",
     "shell.execute_reply": "2023-04-12T23:08:39.929078Z"
    },
    "papermill": {
     "duration": 0.123998,
     "end_time": "2023-04-12T23:08:39.931079",
     "exception": false,
     "start_time": "2023-04-12T23:08:39.807081",
     "status": "completed"
    },
    "tags": []
   },
   "outputs": [
    {
     "data": {
      "text/html": [
       "<div>\n",
       "<style scoped>\n",
       "    .dataframe tbody tr th:only-of-type {\n",
       "        vertical-align: middle;\n",
       "    }\n",
       "\n",
       "    .dataframe tbody tr th {\n",
       "        vertical-align: top;\n",
       "    }\n",
       "\n",
       "    .dataframe thead th {\n",
       "        text-align: right;\n",
       "    }\n",
       "</style>\n",
       "<table border=\"1\" class=\"dataframe\">\n",
       "  <thead>\n",
       "    <tr style=\"text-align: right;\">\n",
       "      <th></th>\n",
       "      <th>Headline</th>\n",
       "      <th>Body ID</th>\n",
       "      <th>Stance</th>\n",
       "    </tr>\n",
       "  </thead>\n",
       "  <tbody>\n",
       "    <tr>\n",
       "      <th>0</th>\n",
       "      <td>Police find mass graves with at least '15 bodi...</td>\n",
       "      <td>712</td>\n",
       "      <td>unrelated</td>\n",
       "    </tr>\n",
       "    <tr>\n",
       "      <th>1</th>\n",
       "      <td>Hundreds of Palestinians flee floods in Gaza a...</td>\n",
       "      <td>158</td>\n",
       "      <td>agree</td>\n",
       "    </tr>\n",
       "    <tr>\n",
       "      <th>2</th>\n",
       "      <td>Christian Bale passes on role of Steve Jobs, a...</td>\n",
       "      <td>137</td>\n",
       "      <td>unrelated</td>\n",
       "    </tr>\n",
       "    <tr>\n",
       "      <th>3</th>\n",
       "      <td>HBO and Apple in Talks for $15/Month Apple TV ...</td>\n",
       "      <td>1034</td>\n",
       "      <td>unrelated</td>\n",
       "    </tr>\n",
       "    <tr>\n",
       "      <th>4</th>\n",
       "      <td>Spider burrowed through tourist's stomach and ...</td>\n",
       "      <td>1923</td>\n",
       "      <td>disagree</td>\n",
       "    </tr>\n",
       "  </tbody>\n",
       "</table>\n",
       "</div>"
      ],
      "text/plain": [
       "                                            Headline  Body ID     Stance\n",
       "0  Police find mass graves with at least '15 bodi...      712  unrelated\n",
       "1  Hundreds of Palestinians flee floods in Gaza a...      158      agree\n",
       "2  Christian Bale passes on role of Steve Jobs, a...      137  unrelated\n",
       "3  HBO and Apple in Talks for $15/Month Apple TV ...     1034  unrelated\n",
       "4  Spider burrowed through tourist's stomach and ...     1923   disagree"
      ]
     },
     "execution_count": 7,
     "metadata": {},
     "output_type": "execute_result"
    }
   ],
   "source": [
    "df_2 = pd.read_csv(fnc1_csv_path_stances)\n",
    "df_2.head()"
   ]
  },
  {
   "cell_type": "code",
   "execution_count": 8,
   "id": "7085eb35",
   "metadata": {
    "execution": {
     "iopub.execute_input": "2023-04-12T23:08:39.937079Z",
     "iopub.status.busy": "2023-04-12T23:08:39.937079Z",
     "iopub.status.idle": "2023-04-12T23:08:39.945135Z",
     "shell.execute_reply": "2023-04-12T23:08:39.945135Z"
    },
    "papermill": {
     "duration": 0.012998,
     "end_time": "2023-04-12T23:08:39.947078",
     "exception": false,
     "start_time": "2023-04-12T23:08:39.934080",
     "status": "completed"
    },
    "tags": []
   },
   "outputs": [
    {
     "data": {
      "text/plain": [
       "(49972, 3)"
      ]
     },
     "execution_count": 8,
     "metadata": {},
     "output_type": "execute_result"
    }
   ],
   "source": [
    "df_2.shape"
   ]
  },
  {
   "cell_type": "code",
   "execution_count": 9,
   "id": "e9eacb91",
   "metadata": {
    "execution": {
     "iopub.execute_input": "2023-04-12T23:08:39.953080Z",
     "iopub.status.busy": "2023-04-12T23:08:39.952082Z",
     "iopub.status.idle": "2023-04-12T23:08:39.978104Z",
     "shell.execute_reply": "2023-04-12T23:08:39.977087Z"
    },
    "papermill": {
     "duration": 0.030025,
     "end_time": "2023-04-12T23:08:39.979105",
     "exception": false,
     "start_time": "2023-04-12T23:08:39.949080",
     "status": "completed"
    },
    "tags": []
   },
   "outputs": [
    {
     "data": {
      "text/html": [
       "<div>\n",
       "<style scoped>\n",
       "    .dataframe tbody tr th:only-of-type {\n",
       "        vertical-align: middle;\n",
       "    }\n",
       "\n",
       "    .dataframe tbody tr th {\n",
       "        vertical-align: top;\n",
       "    }\n",
       "\n",
       "    .dataframe thead th {\n",
       "        text-align: right;\n",
       "    }\n",
       "</style>\n",
       "<table border=\"1\" class=\"dataframe\">\n",
       "  <thead>\n",
       "    <tr style=\"text-align: right;\">\n",
       "      <th></th>\n",
       "      <th>Body ID</th>\n",
       "      <th>articleBody</th>\n",
       "      <th>Headline</th>\n",
       "      <th>Stance</th>\n",
       "    </tr>\n",
       "  </thead>\n",
       "  <tbody>\n",
       "    <tr>\n",
       "      <th>0</th>\n",
       "      <td>0</td>\n",
       "      <td>A small meteorite crashed into a wooded area i...</td>\n",
       "      <td>Soldier shot, Parliament locked down after gun...</td>\n",
       "      <td>unrelated</td>\n",
       "    </tr>\n",
       "    <tr>\n",
       "      <th>1</th>\n",
       "      <td>0</td>\n",
       "      <td>A small meteorite crashed into a wooded area i...</td>\n",
       "      <td>Tourist dubbed ‘Spider Man’ after spider burro...</td>\n",
       "      <td>unrelated</td>\n",
       "    </tr>\n",
       "    <tr>\n",
       "      <th>2</th>\n",
       "      <td>0</td>\n",
       "      <td>A small meteorite crashed into a wooded area i...</td>\n",
       "      <td>Luke Somers 'killed in failed rescue attempt i...</td>\n",
       "      <td>unrelated</td>\n",
       "    </tr>\n",
       "    <tr>\n",
       "      <th>3</th>\n",
       "      <td>0</td>\n",
       "      <td>A small meteorite crashed into a wooded area i...</td>\n",
       "      <td>BREAKING: Soldier shot at War Memorial in Ottawa</td>\n",
       "      <td>unrelated</td>\n",
       "    </tr>\n",
       "    <tr>\n",
       "      <th>4</th>\n",
       "      <td>0</td>\n",
       "      <td>A small meteorite crashed into a wooded area i...</td>\n",
       "      <td>Giant 8ft 9in catfish weighing 19 stone caught...</td>\n",
       "      <td>unrelated</td>\n",
       "    </tr>\n",
       "  </tbody>\n",
       "</table>\n",
       "</div>"
      ],
      "text/plain": [
       "   Body ID                                        articleBody  \\\n",
       "0        0  A small meteorite crashed into a wooded area i...   \n",
       "1        0  A small meteorite crashed into a wooded area i...   \n",
       "2        0  A small meteorite crashed into a wooded area i...   \n",
       "3        0  A small meteorite crashed into a wooded area i...   \n",
       "4        0  A small meteorite crashed into a wooded area i...   \n",
       "\n",
       "                                            Headline     Stance  \n",
       "0  Soldier shot, Parliament locked down after gun...  unrelated  \n",
       "1  Tourist dubbed ‘Spider Man’ after spider burro...  unrelated  \n",
       "2  Luke Somers 'killed in failed rescue attempt i...  unrelated  \n",
       "3   BREAKING: Soldier shot at War Memorial in Ottawa  unrelated  \n",
       "4  Giant 8ft 9in catfish weighing 19 stone caught...  unrelated  "
      ]
     },
     "execution_count": 9,
     "metadata": {},
     "output_type": "execute_result"
    }
   ],
   "source": [
    "df_3 = pd.merge(df_1, df_2, on= 'Body ID')\n",
    "df_3.head()"
   ]
  },
  {
   "cell_type": "code",
   "execution_count": 10,
   "id": "6b6f77ee",
   "metadata": {
    "execution": {
     "iopub.execute_input": "2023-04-12T23:08:39.985104Z",
     "iopub.status.busy": "2023-04-12T23:08:39.985104Z",
     "iopub.status.idle": "2023-04-12T23:08:39.992103Z",
     "shell.execute_reply": "2023-04-12T23:08:39.992103Z"
    },
    "papermill": {
     "duration": 0.011001,
     "end_time": "2023-04-12T23:08:39.993108",
     "exception": false,
     "start_time": "2023-04-12T23:08:39.982107",
     "status": "completed"
    },
    "tags": []
   },
   "outputs": [
    {
     "data": {
      "text/plain": [
       "(49972, 4)"
      ]
     },
     "execution_count": 10,
     "metadata": {},
     "output_type": "execute_result"
    }
   ],
   "source": [
    "df_3.shape"
   ]
  },
  {
   "cell_type": "code",
   "execution_count": 11,
   "id": "6b5e4ed3",
   "metadata": {
    "execution": {
     "iopub.execute_input": "2023-04-12T23:08:39.999107Z",
     "iopub.status.busy": "2023-04-12T23:08:39.999107Z",
     "iopub.status.idle": "2023-04-12T23:08:40.023249Z",
     "shell.execute_reply": "2023-04-12T23:08:40.023249Z"
    },
    "papermill": {
     "duration": 0.028153,
     "end_time": "2023-04-12T23:08:40.024258",
     "exception": false,
     "start_time": "2023-04-12T23:08:39.996105",
     "status": "completed"
    },
    "tags": []
   },
   "outputs": [
    {
     "name": "stderr",
     "output_type": "stream",
     "text": [
      "C:\\Users\\cobra\\AppData\\Local\\Temp\\ipykernel_5632\\510537326.py:3: SettingWithCopyWarning: \n",
      "A value is trying to be set on a copy of a slice from a DataFrame\n",
      "\n",
      "See the caveats in the documentation: https://pandas.pydata.org/pandas-docs/stable/user_guide/indexing.html#returning-a-view-versus-a-copy\n",
      "  final_df.drop(columns = ['index'], inplace = True)\n"
     ]
    },
    {
     "data": {
      "text/html": [
       "<div>\n",
       "<style scoped>\n",
       "    .dataframe tbody tr th:only-of-type {\n",
       "        vertical-align: middle;\n",
       "    }\n",
       "\n",
       "    .dataframe tbody tr th {\n",
       "        vertical-align: top;\n",
       "    }\n",
       "\n",
       "    .dataframe thead th {\n",
       "        text-align: right;\n",
       "    }\n",
       "</style>\n",
       "<table border=\"1\" class=\"dataframe\">\n",
       "  <thead>\n",
       "    <tr style=\"text-align: right;\">\n",
       "      <th></th>\n",
       "      <th>Body ID</th>\n",
       "      <th>articleBody</th>\n",
       "      <th>Headline</th>\n",
       "      <th>Stance</th>\n",
       "    </tr>\n",
       "  </thead>\n",
       "  <tbody>\n",
       "    <tr>\n",
       "      <th>0</th>\n",
       "      <td>0</td>\n",
       "      <td>A small meteorite crashed into a wooded area i...</td>\n",
       "      <td>Small Meteorite Strikes in Nicaragua's Capital...</td>\n",
       "      <td>agree</td>\n",
       "    </tr>\n",
       "    <tr>\n",
       "      <th>1</th>\n",
       "      <td>8</td>\n",
       "      <td>There is so much fake stuff on the Internet in...</td>\n",
       "      <td>What was fake on the Internet this week: Obama...</td>\n",
       "      <td>agree</td>\n",
       "    </tr>\n",
       "    <tr>\n",
       "      <th>2</th>\n",
       "      <td>9</td>\n",
       "      <td>(CNN) -- A meteorite crashed down in Managua, ...</td>\n",
       "      <td>Meteorite makes big crater in Nicaragua, gover...</td>\n",
       "      <td>agree</td>\n",
       "    </tr>\n",
       "    <tr>\n",
       "      <th>3</th>\n",
       "      <td>9</td>\n",
       "      <td>(CNN) -- A meteorite crashed down in Managua, ...</td>\n",
       "      <td>Small Meteorite Strikes in Nicaragua's Capital...</td>\n",
       "      <td>agree</td>\n",
       "    </tr>\n",
       "    <tr>\n",
       "      <th>4</th>\n",
       "      <td>13</td>\n",
       "      <td>A SOLDIER has been shot at Canada’s National W...</td>\n",
       "      <td>A soldier has been shot at Canada’s war memori...</td>\n",
       "      <td>agree</td>\n",
       "    </tr>\n",
       "  </tbody>\n",
       "</table>\n",
       "</div>"
      ],
      "text/plain": [
       "   Body ID                                        articleBody  \\\n",
       "0        0  A small meteorite crashed into a wooded area i...   \n",
       "1        8  There is so much fake stuff on the Internet in...   \n",
       "2        9  (CNN) -- A meteorite crashed down in Managua, ...   \n",
       "3        9  (CNN) -- A meteorite crashed down in Managua, ...   \n",
       "4       13  A SOLDIER has been shot at Canada’s National W...   \n",
       "\n",
       "                                            Headline Stance  \n",
       "0  Small Meteorite Strikes in Nicaragua's Capital...  agree  \n",
       "1  What was fake on the Internet this week: Obama...  agree  \n",
       "2  Meteorite makes big crater in Nicaragua, gover...  agree  \n",
       "3  Small Meteorite Strikes in Nicaragua's Capital...  agree  \n",
       "4  A soldier has been shot at Canada’s war memori...  agree  "
      ]
     },
     "execution_count": 11,
     "metadata": {},
     "output_type": "execute_result"
    }
   ],
   "source": [
    "final_df = df_3[(df_3['Stance'] == 'disagree') | (df_3['Stance'] == 'agree')]\n",
    "final_df.reset_index(inplace = True)\n",
    "final_df.drop(columns = ['index'], inplace = True)\n",
    "final_df.head()"
   ]
  },
  {
   "cell_type": "code",
   "execution_count": 12,
   "id": "a9c5996a",
   "metadata": {
    "execution": {
     "iopub.execute_input": "2023-04-12T23:08:40.031254Z",
     "iopub.status.busy": "2023-04-12T23:08:40.031254Z",
     "iopub.status.idle": "2023-04-12T23:08:40.038434Z",
     "shell.execute_reply": "2023-04-12T23:08:40.038434Z"
    },
    "papermill": {
     "duration": 0.0122,
     "end_time": "2023-04-12T23:08:40.039454",
     "exception": false,
     "start_time": "2023-04-12T23:08:40.027254",
     "status": "completed"
    },
    "tags": []
   },
   "outputs": [
    {
     "data": {
      "text/plain": [
       "(4518, 4)"
      ]
     },
     "execution_count": 12,
     "metadata": {},
     "output_type": "execute_result"
    }
   ],
   "source": [
    "final_df.shape"
   ]
  },
  {
   "cell_type": "code",
   "execution_count": 13,
   "id": "c6169e26",
   "metadata": {
    "execution": {
     "iopub.execute_input": "2023-04-12T23:08:40.046452Z",
     "iopub.status.busy": "2023-04-12T23:08:40.046452Z",
     "iopub.status.idle": "2023-04-12T23:08:40.054450Z",
     "shell.execute_reply": "2023-04-12T23:08:40.054450Z"
    },
    "papermill": {
     "duration": 0.013001,
     "end_time": "2023-04-12T23:08:40.055451",
     "exception": false,
     "start_time": "2023-04-12T23:08:40.042450",
     "status": "completed"
    },
    "tags": []
   },
   "outputs": [
    {
     "name": "stderr",
     "output_type": "stream",
     "text": [
      "C:\\Users\\cobra\\AppData\\Local\\Temp\\ipykernel_5632\\1111030013.py:7: SettingWithCopyWarning: \n",
      "A value is trying to be set on a copy of a slice from a DataFrame.\n",
      "Try using .loc[row_indexer,col_indexer] = value instead\n",
      "\n",
      "See the caveats in the documentation: https://pandas.pydata.org/pandas-docs/stable/user_guide/indexing.html#returning-a-view-versus-a-copy\n",
      "  final_df['labels'] = final_df['Stance'].apply(assign_label)\n"
     ]
    },
    {
     "data": {
      "text/html": [
       "<div>\n",
       "<style scoped>\n",
       "    .dataframe tbody tr th:only-of-type {\n",
       "        vertical-align: middle;\n",
       "    }\n",
       "\n",
       "    .dataframe tbody tr th {\n",
       "        vertical-align: top;\n",
       "    }\n",
       "\n",
       "    .dataframe thead th {\n",
       "        text-align: right;\n",
       "    }\n",
       "</style>\n",
       "<table border=\"1\" class=\"dataframe\">\n",
       "  <thead>\n",
       "    <tr style=\"text-align: right;\">\n",
       "      <th></th>\n",
       "      <th>Body ID</th>\n",
       "      <th>articleBody</th>\n",
       "      <th>Headline</th>\n",
       "      <th>Stance</th>\n",
       "      <th>labels</th>\n",
       "    </tr>\n",
       "  </thead>\n",
       "  <tbody>\n",
       "    <tr>\n",
       "      <th>0</th>\n",
       "      <td>0</td>\n",
       "      <td>A small meteorite crashed into a wooded area i...</td>\n",
       "      <td>Small Meteorite Strikes in Nicaragua's Capital...</td>\n",
       "      <td>agree</td>\n",
       "      <td>1</td>\n",
       "    </tr>\n",
       "    <tr>\n",
       "      <th>1</th>\n",
       "      <td>8</td>\n",
       "      <td>There is so much fake stuff on the Internet in...</td>\n",
       "      <td>What was fake on the Internet this week: Obama...</td>\n",
       "      <td>agree</td>\n",
       "      <td>1</td>\n",
       "    </tr>\n",
       "    <tr>\n",
       "      <th>2</th>\n",
       "      <td>9</td>\n",
       "      <td>(CNN) -- A meteorite crashed down in Managua, ...</td>\n",
       "      <td>Meteorite makes big crater in Nicaragua, gover...</td>\n",
       "      <td>agree</td>\n",
       "      <td>1</td>\n",
       "    </tr>\n",
       "    <tr>\n",
       "      <th>3</th>\n",
       "      <td>9</td>\n",
       "      <td>(CNN) -- A meteorite crashed down in Managua, ...</td>\n",
       "      <td>Small Meteorite Strikes in Nicaragua's Capital...</td>\n",
       "      <td>agree</td>\n",
       "      <td>1</td>\n",
       "    </tr>\n",
       "    <tr>\n",
       "      <th>4</th>\n",
       "      <td>13</td>\n",
       "      <td>A SOLDIER has been shot at Canada’s National W...</td>\n",
       "      <td>A soldier has been shot at Canada’s war memori...</td>\n",
       "      <td>agree</td>\n",
       "      <td>1</td>\n",
       "    </tr>\n",
       "  </tbody>\n",
       "</table>\n",
       "</div>"
      ],
      "text/plain": [
       "   Body ID                                        articleBody  \\\n",
       "0        0  A small meteorite crashed into a wooded area i...   \n",
       "1        8  There is so much fake stuff on the Internet in...   \n",
       "2        9  (CNN) -- A meteorite crashed down in Managua, ...   \n",
       "3        9  (CNN) -- A meteorite crashed down in Managua, ...   \n",
       "4       13  A SOLDIER has been shot at Canada’s National W...   \n",
       "\n",
       "                                            Headline Stance  labels  \n",
       "0  Small Meteorite Strikes in Nicaragua's Capital...  agree       1  \n",
       "1  What was fake on the Internet this week: Obama...  agree       1  \n",
       "2  Meteorite makes big crater in Nicaragua, gover...  agree       1  \n",
       "3  Small Meteorite Strikes in Nicaragua's Capital...  agree       1  \n",
       "4  A soldier has been shot at Canada’s war memori...  agree       1  "
      ]
     },
     "execution_count": 13,
     "metadata": {},
     "output_type": "execute_result"
    }
   ],
   "source": [
    "def assign_label(x):\n",
    "    if x == 'agree':\n",
    "        return 1\n",
    "    else:\n",
    "        return 0\n",
    "\n",
    "final_df['labels'] = final_df['Stance'].apply(assign_label)\n",
    "final_df.head()"
   ]
  },
  {
   "cell_type": "code",
   "execution_count": 14,
   "id": "5adb3558",
   "metadata": {
    "execution": {
     "iopub.execute_input": "2023-04-12T23:08:40.062451Z",
     "iopub.status.busy": "2023-04-12T23:08:40.062451Z",
     "iopub.status.idle": "2023-04-12T23:08:40.070323Z",
     "shell.execute_reply": "2023-04-12T23:08:40.070323Z"
    },
    "papermill": {
     "duration": 0.012874,
     "end_time": "2023-04-12T23:08:40.071324",
     "exception": false,
     "start_time": "2023-04-12T23:08:40.058450",
     "status": "completed"
    },
    "tags": []
   },
   "outputs": [
    {
     "data": {
      "text/plain": [
       "(4518, 5)"
      ]
     },
     "execution_count": 14,
     "metadata": {},
     "output_type": "execute_result"
    }
   ],
   "source": [
    "final_df.shape"
   ]
  },
  {
   "cell_type": "code",
   "execution_count": 15,
   "id": "94eaee1b",
   "metadata": {
    "execution": {
     "iopub.execute_input": "2023-04-12T23:08:40.078326Z",
     "iopub.status.busy": "2023-04-12T23:08:40.078326Z",
     "iopub.status.idle": "2023-04-12T23:08:40.086184Z",
     "shell.execute_reply": "2023-04-12T23:08:40.086119Z"
    },
    "papermill": {
     "duration": 0.013805,
     "end_time": "2023-04-12T23:08:40.088128",
     "exception": false,
     "start_time": "2023-04-12T23:08:40.074323",
     "status": "completed"
    },
    "tags": []
   },
   "outputs": [],
   "source": [
    "# df_3[df_3['Body ID'] == 0].shape"
   ]
  },
  {
   "cell_type": "code",
   "execution_count": 16,
   "id": "296a67a2",
   "metadata": {
    "execution": {
     "iopub.execute_input": "2023-04-12T23:08:40.095125Z",
     "iopub.status.busy": "2023-04-12T23:08:40.094123Z",
     "iopub.status.idle": "2023-04-12T23:08:40.101859Z",
     "shell.execute_reply": "2023-04-12T23:08:40.101859Z"
    },
    "papermill": {
     "duration": 0.011754,
     "end_time": "2023-04-12T23:08:40.102877",
     "exception": false,
     "start_time": "2023-04-12T23:08:40.091123",
     "status": "completed"
    },
    "tags": []
   },
   "outputs": [
    {
     "data": {
      "text/plain": [
       "'C:\\\\Users\\\\cobra\\\\project\\\\project\\\\Data_Preprocessing\\\\fnc1_Dataset'"
      ]
     },
     "execution_count": 16,
     "metadata": {},
     "output_type": "execute_result"
    }
   ],
   "source": [
    "os.getcwd()"
   ]
  },
  {
   "cell_type": "code",
   "execution_count": 17,
   "id": "89f7f0db",
   "metadata": {
    "execution": {
     "iopub.execute_input": "2023-04-12T23:08:40.109875Z",
     "iopub.status.busy": "2023-04-12T23:08:40.109875Z",
     "iopub.status.idle": "2023-04-12T23:08:40.257875Z",
     "shell.execute_reply": "2023-04-12T23:08:40.257875Z"
    },
    "papermill": {
     "duration": 0.154001,
     "end_time": "2023-04-12T23:08:40.259875",
     "exception": false,
     "start_time": "2023-04-12T23:08:40.105874",
     "status": "completed"
    },
    "tags": []
   },
   "outputs": [],
   "source": [
    "final_df.to_csv('FNC1_Combined_Data.csv', index=False)"
   ]
  }
 ],
 "metadata": {
  "kernelspec": {
   "display_name": "base",
   "language": "python",
   "name": "python3"
  },
  "language_info": {
   "codemirror_mode": {
    "name": "ipython",
    "version": 3
   },
   "file_extension": ".py",
   "mimetype": "text/x-python",
   "name": "python",
   "nbconvert_exporter": "python",
   "pygments_lexer": "ipython3",
   "version": "3.9.13"
  },
  "papermill": {
   "default_parameters": {},
   "duration": 2.978323,
   "end_time": "2023-04-12T23:08:40.495679",
   "environment_variables": {},
   "exception": null,
   "input_path": "fnc1_Data.ipynb",
   "output_path": "fnc1_Data.ipynb",
   "parameters": {},
   "start_time": "2023-04-12T23:08:37.517356",
   "version": "2.4.0"
  }
 },
 "nbformat": 4,
 "nbformat_minor": 5
}