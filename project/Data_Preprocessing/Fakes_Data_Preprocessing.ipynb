{
 "cells": [
  {
   "cell_type": "code",
   "execution_count": 1,
   "id": "8b7f6043",
   "metadata": {
    "execution": {
     "iopub.execute_input": "2023-04-12T23:06:03.547357Z",
     "iopub.status.busy": "2023-04-12T23:06:03.546356Z",
     "iopub.status.idle": "2023-04-12T23:06:11.029501Z",
     "shell.execute_reply": "2023-04-12T23:06:11.028473Z"
    },
    "papermill": {
     "duration": 7.48913,
     "end_time": "2023-04-12T23:06:11.030500",
     "exception": false,
     "start_time": "2023-04-12T23:06:03.541370",
     "status": "completed"
    },
    "tags": []
   },
   "outputs": [],
   "source": [
    "import os\n",
    "import numpy as np\n",
    "import pandas as pd\n",
    "import re\n",
    "import nltk\n",
    "from nltk.corpus import stopwords\n",
    "from nltk.tokenize import word_tokenize\n",
    "from nltk.stem import WordNetLemmatizer"
   ]
  },
  {
   "cell_type": "code",
   "execution_count": 2,
   "id": "ae97c9a6",
   "metadata": {
    "execution": {
     "iopub.execute_input": "2023-04-12T23:06:11.038525Z",
     "iopub.status.busy": "2023-04-12T23:06:11.038525Z",
     "iopub.status.idle": "2023-04-12T23:06:12.729029Z",
     "shell.execute_reply": "2023-04-12T23:06:12.729029Z"
    },
    "papermill": {
     "duration": 1.696554,
     "end_time": "2023-04-12T23:06:12.731043",
     "exception": false,
     "start_time": "2023-04-12T23:06:11.034489",
     "status": "completed"
    },
    "tags": []
   },
   "outputs": [
    {
     "name": "stderr",
     "output_type": "stream",
     "text": [
      "[nltk_data] Downloading package stopwords to\n",
      "[nltk_data]     C:\\Users\\cobra\\AppData\\Roaming\\nltk_data...\n",
      "[nltk_data]   Unzipping corpora\\stopwords.zip.\n",
      "[nltk_data] Downloading package punkt to\n",
      "[nltk_data]     C:\\Users\\cobra\\AppData\\Roaming\\nltk_data...\n"
     ]
    },
    {
     "name": "stderr",
     "output_type": "stream",
     "text": [
      "[nltk_data]   Unzipping tokenizers\\punkt.zip.\n",
      "[nltk_data] Downloading package wordnet to\n",
      "[nltk_data]     C:\\Users\\cobra\\AppData\\Roaming\\nltk_data...\n"
     ]
    },
    {
     "name": "stderr",
     "output_type": "stream",
     "text": [
      "[nltk_data] Downloading package omw-1.4 to\n",
      "[nltk_data]     C:\\Users\\cobra\\AppData\\Roaming\\nltk_data...\n"
     ]
    },
    {
     "data": {
      "text/plain": [
       "True"
      ]
     },
     "execution_count": 2,
     "metadata": {},
     "output_type": "execute_result"
    }
   ],
   "source": [
    "# Download the required NLTK packages\n",
    "nltk.download('stopwords')\n",
    "nltk.download('punkt')\n",
    "nltk.download('wordnet')\n",
    "nltk.download('omw-1.4')"
   ]
  },
  {
   "cell_type": "code",
   "execution_count": 3,
   "id": "82dd12ba",
   "metadata": {
    "execution": {
     "iopub.execute_input": "2023-04-12T23:06:12.739045Z",
     "iopub.status.busy": "2023-04-12T23:06:12.739045Z",
     "iopub.status.idle": "2023-04-12T23:06:12.744323Z",
     "shell.execute_reply": "2023-04-12T23:06:12.744323Z"
    },
    "papermill": {
     "duration": 0.011296,
     "end_time": "2023-04-12T23:06:12.745339",
     "exception": false,
     "start_time": "2023-04-12T23:06:12.734043",
     "status": "completed"
    },
    "tags": []
   },
   "outputs": [],
   "source": [
    "# current_directory = os.path.abspath(os.getcwd())\n",
    "# print(current_directory)\n",
    "# parent_dir = os.path.dirname(current_directory)\n",
    "# print(parent_dir)\n",
    "# os.chdir(f\"{parent_dir}/FAKES_Dataset\")\n",
    "# fakes_csv_path = os.path.join(os.getcwd(), 'FA-KES-Dataset.csv')\n",
    "# print(fakes_csv_path)"
   ]
  },
  {
   "cell_type": "code",
   "execution_count": 4,
   "id": "7d5038b0",
   "metadata": {
    "execution": {
     "iopub.execute_input": "2023-04-12T23:06:12.753372Z",
     "iopub.status.busy": "2023-04-12T23:06:12.753372Z",
     "iopub.status.idle": "2023-04-12T23:06:12.759852Z",
     "shell.execute_reply": "2023-04-12T23:06:12.759852Z"
    },
    "papermill": {
     "duration": 0.012542,
     "end_time": "2023-04-12T23:06:12.761880",
     "exception": false,
     "start_time": "2023-04-12T23:06:12.749338",
     "status": "completed"
    },
    "tags": []
   },
   "outputs": [
    {
     "name": "stdout",
     "output_type": "stream",
     "text": [
      "C:\\Users\\cobra\\project\\project\\Data_Preprocessing\n"
     ]
    }
   ],
   "source": [
    "current_directory = os.path.abspath(os.getcwd())\n",
    "print(current_directory)\n",
    "os.chdir(f\"{current_directory}/FAKES_Dataset\")"
   ]
  },
  {
   "cell_type": "code",
   "execution_count": 5,
   "id": "a47e25a6",
   "metadata": {
    "execution": {
     "iopub.execute_input": "2023-04-12T23:06:12.769880Z",
     "iopub.status.busy": "2023-04-12T23:06:12.769880Z",
     "iopub.status.idle": "2023-04-12T23:06:12.775869Z",
     "shell.execute_reply": "2023-04-12T23:06:12.775869Z"
    },
    "papermill": {
     "duration": 0.01199,
     "end_time": "2023-04-12T23:06:12.776872",
     "exception": false,
     "start_time": "2023-04-12T23:06:12.764882",
     "status": "completed"
    },
    "tags": []
   },
   "outputs": [
    {
     "data": {
      "text/plain": [
       "'C:\\\\Users\\\\cobra\\\\project\\\\project\\\\Data_Preprocessing\\\\FAKES_Dataset'"
      ]
     },
     "execution_count": 5,
     "metadata": {},
     "output_type": "execute_result"
    }
   ],
   "source": [
    "os.getcwd()"
   ]
  },
  {
   "cell_type": "code",
   "execution_count": 6,
   "id": "47e76006",
   "metadata": {
    "execution": {
     "iopub.execute_input": "2023-04-12T23:06:12.785871Z",
     "iopub.status.busy": "2023-04-12T23:06:12.785871Z",
     "iopub.status.idle": "2023-04-12T23:06:12.791869Z",
     "shell.execute_reply": "2023-04-12T23:06:12.791869Z"
    },
    "papermill": {
     "duration": 0.012002,
     "end_time": "2023-04-12T23:06:12.792871",
     "exception": false,
     "start_time": "2023-04-12T23:06:12.780869",
     "status": "completed"
    },
    "tags": []
   },
   "outputs": [
    {
     "name": "stdout",
     "output_type": "stream",
     "text": [
      "C:\\Users\\cobra\\project\\project\\Data_Preprocessing\\FAKES_Dataset\\FA-KES-Dataset.csv\n"
     ]
    }
   ],
   "source": [
    "fakes_csv_path = os.path.join(os.getcwd(), 'FA-KES-Dataset.csv')\n",
    "print(fakes_csv_path)"
   ]
  },
  {
   "cell_type": "code",
   "execution_count": 7,
   "id": "83e1a9e5",
   "metadata": {
    "execution": {
     "iopub.execute_input": "2023-04-12T23:06:12.801872Z",
     "iopub.status.busy": "2023-04-12T23:06:12.801872Z",
     "iopub.status.idle": "2023-04-12T23:06:12.853869Z",
     "shell.execute_reply": "2023-04-12T23:06:12.853869Z"
    },
    "papermill": {
     "duration": 0.058999,
     "end_time": "2023-04-12T23:06:12.855868",
     "exception": false,
     "start_time": "2023-04-12T23:06:12.796869",
     "status": "completed"
    },
    "tags": []
   },
   "outputs": [
    {
     "data": {
      "text/html": [
       "<div>\n",
       "<style scoped>\n",
       "    .dataframe tbody tr th:only-of-type {\n",
       "        vertical-align: middle;\n",
       "    }\n",
       "\n",
       "    .dataframe tbody tr th {\n",
       "        vertical-align: top;\n",
       "    }\n",
       "\n",
       "    .dataframe thead th {\n",
       "        text-align: right;\n",
       "    }\n",
       "</style>\n",
       "<table border=\"1\" class=\"dataframe\">\n",
       "  <thead>\n",
       "    <tr style=\"text-align: right;\">\n",
       "      <th></th>\n",
       "      <th>unit_id</th>\n",
       "      <th>article_title</th>\n",
       "      <th>article_content</th>\n",
       "      <th>source</th>\n",
       "      <th>date</th>\n",
       "      <th>location</th>\n",
       "      <th>labels</th>\n",
       "    </tr>\n",
       "  </thead>\n",
       "  <tbody>\n",
       "    <tr>\n",
       "      <th>0</th>\n",
       "      <td>1914947530</td>\n",
       "      <td>Syria attack symptoms consistent with nerve ag...</td>\n",
       "      <td>Wed 05 Apr 2017 Syria attack symptoms consiste...</td>\n",
       "      <td>nna</td>\n",
       "      <td>4/5/2017</td>\n",
       "      <td>idlib</td>\n",
       "      <td>0</td>\n",
       "    </tr>\n",
       "    <tr>\n",
       "      <th>1</th>\n",
       "      <td>1914947532</td>\n",
       "      <td>Homs governor says U.S. attack caused deaths b...</td>\n",
       "      <td>Fri 07 Apr 2017 at 0914 Homs governor says U.S...</td>\n",
       "      <td>nna</td>\n",
       "      <td>4/7/2017</td>\n",
       "      <td>homs</td>\n",
       "      <td>0</td>\n",
       "    </tr>\n",
       "    <tr>\n",
       "      <th>2</th>\n",
       "      <td>1914947533</td>\n",
       "      <td>Death toll from Aleppo bomb attack at least 112</td>\n",
       "      <td>Sun 16 Apr 2017 Death toll from Aleppo bomb at...</td>\n",
       "      <td>nna</td>\n",
       "      <td>4/16/2017</td>\n",
       "      <td>aleppo</td>\n",
       "      <td>0</td>\n",
       "    </tr>\n",
       "    <tr>\n",
       "      <th>3</th>\n",
       "      <td>1914947534</td>\n",
       "      <td>Aleppo bomb blast kills six Syrian state TV</td>\n",
       "      <td>Wed 19 Apr 2017 Aleppo bomb blast kills six Sy...</td>\n",
       "      <td>nna</td>\n",
       "      <td>4/19/2017</td>\n",
       "      <td>aleppo</td>\n",
       "      <td>0</td>\n",
       "    </tr>\n",
       "    <tr>\n",
       "      <th>4</th>\n",
       "      <td>1914947535</td>\n",
       "      <td>29 Syria Rebels Dead in Fighting for Key Alepp...</td>\n",
       "      <td>Sun 10 Jul 2016 29 Syria Rebels Dead in Fighti...</td>\n",
       "      <td>nna</td>\n",
       "      <td>7/10/2016</td>\n",
       "      <td>aleppo</td>\n",
       "      <td>0</td>\n",
       "    </tr>\n",
       "  </tbody>\n",
       "</table>\n",
       "</div>"
      ],
      "text/plain": [
       "      unit_id                                      article_title  \\\n",
       "0  1914947530  Syria attack symptoms consistent with nerve ag...   \n",
       "1  1914947532  Homs governor says U.S. attack caused deaths b...   \n",
       "2  1914947533    Death toll from Aleppo bomb attack at least 112   \n",
       "3  1914947534        Aleppo bomb blast kills six Syrian state TV   \n",
       "4  1914947535  29 Syria Rebels Dead in Fighting for Key Alepp...   \n",
       "\n",
       "                                     article_content source       date  \\\n",
       "0  Wed 05 Apr 2017 Syria attack symptoms consiste...    nna   4/5/2017   \n",
       "1  Fri 07 Apr 2017 at 0914 Homs governor says U.S...    nna   4/7/2017   \n",
       "2  Sun 16 Apr 2017 Death toll from Aleppo bomb at...    nna  4/16/2017   \n",
       "3  Wed 19 Apr 2017 Aleppo bomb blast kills six Sy...    nna  4/19/2017   \n",
       "4  Sun 10 Jul 2016 29 Syria Rebels Dead in Fighti...    nna  7/10/2016   \n",
       "\n",
       "  location  labels  \n",
       "0    idlib       0  \n",
       "1     homs       0  \n",
       "2   aleppo       0  \n",
       "3   aleppo       0  \n",
       "4   aleppo       0  "
      ]
     },
     "execution_count": 7,
     "metadata": {},
     "output_type": "execute_result"
    }
   ],
   "source": [
    "df = pd.read_csv(fakes_csv_path, encoding = 'utf-8', encoding_errors = 'ignore')\n",
    "df.head()"
   ]
  },
  {
   "cell_type": "code",
   "execution_count": 8,
   "id": "0704c19c",
   "metadata": {
    "execution": {
     "iopub.execute_input": "2023-04-12T23:06:12.864870Z",
     "iopub.status.busy": "2023-04-12T23:06:12.864870Z",
     "iopub.status.idle": "2023-04-12T23:06:12.886400Z",
     "shell.execute_reply": "2023-04-12T23:06:12.885375Z"
    },
    "papermill": {
     "duration": 0.027524,
     "end_time": "2023-04-12T23:06:12.887393",
     "exception": false,
     "start_time": "2023-04-12T23:06:12.859869",
     "status": "completed"
    },
    "tags": []
   },
   "outputs": [
    {
     "data": {
      "text/html": [
       "<div>\n",
       "<style scoped>\n",
       "    .dataframe tbody tr th:only-of-type {\n",
       "        vertical-align: middle;\n",
       "    }\n",
       "\n",
       "    .dataframe tbody tr th {\n",
       "        vertical-align: top;\n",
       "    }\n",
       "\n",
       "    .dataframe thead th {\n",
       "        text-align: right;\n",
       "    }\n",
       "</style>\n",
       "<table border=\"1\" class=\"dataframe\">\n",
       "  <thead>\n",
       "    <tr style=\"text-align: right;\">\n",
       "      <th></th>\n",
       "      <th>unit_id</th>\n",
       "      <th>article_title</th>\n",
       "      <th>article_content</th>\n",
       "      <th>source</th>\n",
       "      <th>date</th>\n",
       "      <th>location</th>\n",
       "      <th>labels</th>\n",
       "      <th>final_article</th>\n",
       "    </tr>\n",
       "  </thead>\n",
       "  <tbody>\n",
       "    <tr>\n",
       "      <th>0</th>\n",
       "      <td>1914947530</td>\n",
       "      <td>Syria attack symptoms consistent with nerve ag...</td>\n",
       "      <td>Wed 05 Apr 2017 Syria attack symptoms consiste...</td>\n",
       "      <td>nna</td>\n",
       "      <td>4/5/2017</td>\n",
       "      <td>idlib</td>\n",
       "      <td>0</td>\n",
       "      <td>Syria attack symptoms consistent with nerve ag...</td>\n",
       "    </tr>\n",
       "    <tr>\n",
       "      <th>1</th>\n",
       "      <td>1914947532</td>\n",
       "      <td>Homs governor says U.S. attack caused deaths b...</td>\n",
       "      <td>Fri 07 Apr 2017 at 0914 Homs governor says U.S...</td>\n",
       "      <td>nna</td>\n",
       "      <td>4/7/2017</td>\n",
       "      <td>homs</td>\n",
       "      <td>0</td>\n",
       "      <td>Homs governor says U.S. attack caused deaths b...</td>\n",
       "    </tr>\n",
       "    <tr>\n",
       "      <th>2</th>\n",
       "      <td>1914947533</td>\n",
       "      <td>Death toll from Aleppo bomb attack at least 112</td>\n",
       "      <td>Sun 16 Apr 2017 Death toll from Aleppo bomb at...</td>\n",
       "      <td>nna</td>\n",
       "      <td>4/16/2017</td>\n",
       "      <td>aleppo</td>\n",
       "      <td>0</td>\n",
       "      <td>Death toll from Aleppo bomb attack at least 11...</td>\n",
       "    </tr>\n",
       "    <tr>\n",
       "      <th>3</th>\n",
       "      <td>1914947534</td>\n",
       "      <td>Aleppo bomb blast kills six Syrian state TV</td>\n",
       "      <td>Wed 19 Apr 2017 Aleppo bomb blast kills six Sy...</td>\n",
       "      <td>nna</td>\n",
       "      <td>4/19/2017</td>\n",
       "      <td>aleppo</td>\n",
       "      <td>0</td>\n",
       "      <td>Aleppo bomb blast kills six Syrian state TV We...</td>\n",
       "    </tr>\n",
       "    <tr>\n",
       "      <th>4</th>\n",
       "      <td>1914947535</td>\n",
       "      <td>29 Syria Rebels Dead in Fighting for Key Alepp...</td>\n",
       "      <td>Sun 10 Jul 2016 29 Syria Rebels Dead in Fighti...</td>\n",
       "      <td>nna</td>\n",
       "      <td>7/10/2016</td>\n",
       "      <td>aleppo</td>\n",
       "      <td>0</td>\n",
       "      <td>29 Syria Rebels Dead in Fighting for Key Alepp...</td>\n",
       "    </tr>\n",
       "  </tbody>\n",
       "</table>\n",
       "</div>"
      ],
      "text/plain": [
       "      unit_id                                      article_title  \\\n",
       "0  1914947530  Syria attack symptoms consistent with nerve ag...   \n",
       "1  1914947532  Homs governor says U.S. attack caused deaths b...   \n",
       "2  1914947533    Death toll from Aleppo bomb attack at least 112   \n",
       "3  1914947534        Aleppo bomb blast kills six Syrian state TV   \n",
       "4  1914947535  29 Syria Rebels Dead in Fighting for Key Alepp...   \n",
       "\n",
       "                                     article_content source       date  \\\n",
       "0  Wed 05 Apr 2017 Syria attack symptoms consiste...    nna   4/5/2017   \n",
       "1  Fri 07 Apr 2017 at 0914 Homs governor says U.S...    nna   4/7/2017   \n",
       "2  Sun 16 Apr 2017 Death toll from Aleppo bomb at...    nna  4/16/2017   \n",
       "3  Wed 19 Apr 2017 Aleppo bomb blast kills six Sy...    nna  4/19/2017   \n",
       "4  Sun 10 Jul 2016 29 Syria Rebels Dead in Fighti...    nna  7/10/2016   \n",
       "\n",
       "  location  labels                                      final_article  \n",
       "0    idlib       0  Syria attack symptoms consistent with nerve ag...  \n",
       "1     homs       0  Homs governor says U.S. attack caused deaths b...  \n",
       "2   aleppo       0  Death toll from Aleppo bomb attack at least 11...  \n",
       "3   aleppo       0  Aleppo bomb blast kills six Syrian state TV We...  \n",
       "4   aleppo       0  29 Syria Rebels Dead in Fighting for Key Alepp...  "
      ]
     },
     "execution_count": 8,
     "metadata": {},
     "output_type": "execute_result"
    }
   ],
   "source": [
    "df['final_article'] = df['article_title'] + \" \" + df['article_content']\n",
    "df.head()"
   ]
  },
  {
   "cell_type": "code",
   "execution_count": 9,
   "id": "97918bb4",
   "metadata": {
    "execution": {
     "iopub.execute_input": "2023-04-12T23:06:12.896395Z",
     "iopub.status.busy": "2023-04-12T23:06:12.896395Z",
     "iopub.status.idle": "2023-04-12T23:06:12.916072Z",
     "shell.execute_reply": "2023-04-12T23:06:12.916072Z"
    },
    "papermill": {
     "duration": 0.026682,
     "end_time": "2023-04-12T23:06:12.918075",
     "exception": false,
     "start_time": "2023-04-12T23:06:12.891393",
     "status": "completed"
    },
    "tags": []
   },
   "outputs": [
    {
     "data": {
      "text/html": [
       "<div>\n",
       "<style scoped>\n",
       "    .dataframe tbody tr th:only-of-type {\n",
       "        vertical-align: middle;\n",
       "    }\n",
       "\n",
       "    .dataframe tbody tr th {\n",
       "        vertical-align: top;\n",
       "    }\n",
       "\n",
       "    .dataframe thead th {\n",
       "        text-align: right;\n",
       "    }\n",
       "</style>\n",
       "<table border=\"1\" class=\"dataframe\">\n",
       "  <thead>\n",
       "    <tr style=\"text-align: right;\">\n",
       "      <th></th>\n",
       "      <th>unit_id</th>\n",
       "      <th>article_title</th>\n",
       "      <th>article_content</th>\n",
       "      <th>source</th>\n",
       "      <th>date</th>\n",
       "      <th>location</th>\n",
       "      <th>labels</th>\n",
       "      <th>final_article</th>\n",
       "    </tr>\n",
       "  </thead>\n",
       "  <tbody>\n",
       "    <tr>\n",
       "      <th>463</th>\n",
       "      <td>1926479049</td>\n",
       "      <td>6 citizens killed 22 injured in terrorist atta...</td>\n",
       "      <td>18 November 2016 6 citizens killed 22 injured ...</td>\n",
       "      <td>sana</td>\n",
       "      <td>11/18/2016</td>\n",
       "      <td>aleppo</td>\n",
       "      <td>0</td>\n",
       "      <td>6 citizens killed 22 injured in terrorist atta...</td>\n",
       "    </tr>\n",
       "    <tr>\n",
       "      <th>464</th>\n",
       "      <td>1926479049</td>\n",
       "      <td>6 citizens killed 22 injured in terrorist atta...</td>\n",
       "      <td>18 November 2016 6 citizens killed 22 injured ...</td>\n",
       "      <td>sana</td>\n",
       "      <td>11/18/2016</td>\n",
       "      <td>aleppo</td>\n",
       "      <td>0</td>\n",
       "      <td>6 citizens killed 22 injured in terrorist atta...</td>\n",
       "    </tr>\n",
       "  </tbody>\n",
       "</table>\n",
       "</div>"
      ],
      "text/plain": [
       "        unit_id                                      article_title  \\\n",
       "463  1926479049  6 citizens killed 22 injured in terrorist atta...   \n",
       "464  1926479049  6 citizens killed 22 injured in terrorist atta...   \n",
       "\n",
       "                                       article_content source        date  \\\n",
       "463  18 November 2016 6 citizens killed 22 injured ...   sana  11/18/2016   \n",
       "464  18 November 2016 6 citizens killed 22 injured ...   sana  11/18/2016   \n",
       "\n",
       "    location  labels                                      final_article  \n",
       "463   aleppo       0  6 citizens killed 22 injured in terrorist atta...  \n",
       "464   aleppo       0  6 citizens killed 22 injured in terrorist atta...  "
      ]
     },
     "execution_count": 9,
     "metadata": {},
     "output_type": "execute_result"
    }
   ],
   "source": [
    "df[df.duplicated()]"
   ]
  },
  {
   "cell_type": "code",
   "execution_count": 10,
   "id": "1c7ec8e0",
   "metadata": {
    "execution": {
     "iopub.execute_input": "2023-04-12T23:06:12.927120Z",
     "iopub.status.busy": "2023-04-12T23:06:12.927120Z",
     "iopub.status.idle": "2023-04-12T23:06:12.932122Z",
     "shell.execute_reply": "2023-04-12T23:06:12.932122Z"
    },
    "papermill": {
     "duration": 0.011052,
     "end_time": "2023-04-12T23:06:12.933123",
     "exception": false,
     "start_time": "2023-04-12T23:06:12.922071",
     "status": "completed"
    },
    "tags": []
   },
   "outputs": [
    {
     "data": {
      "text/plain": [
       "0      2345\n",
       "1      2195\n",
       "2      1495\n",
       "3       456\n",
       "4       553\n",
       "       ... \n",
       "799    1518\n",
       "800     783\n",
       "801    1481\n",
       "802    1559\n",
       "803    2654\n",
       "Name: final_article, Length: 804, dtype: int64"
      ]
     },
     "execution_count": 10,
     "metadata": {},
     "output_type": "execute_result"
    }
   ],
   "source": [
    "df['final_article'].str.len()"
   ]
  },
  {
   "cell_type": "code",
   "execution_count": 11,
   "id": "451bd259",
   "metadata": {
    "execution": {
     "iopub.execute_input": "2023-04-12T23:06:12.943120Z",
     "iopub.status.busy": "2023-04-12T23:06:12.942110Z",
     "iopub.status.idle": "2023-04-12T23:06:12.948122Z",
     "shell.execute_reply": "2023-04-12T23:06:12.948122Z"
    },
    "papermill": {
     "duration": 0.010988,
     "end_time": "2023-04-12T23:06:12.949110",
     "exception": false,
     "start_time": "2023-04-12T23:06:12.938122",
     "status": "completed"
    },
    "tags": []
   },
   "outputs": [],
   "source": [
    "df['final_article'] = df['final_article'].str.lower()"
   ]
  },
  {
   "cell_type": "code",
   "execution_count": 12,
   "id": "8dd53baa",
   "metadata": {
    "execution": {
     "iopub.execute_input": "2023-04-12T23:06:12.959112Z",
     "iopub.status.busy": "2023-04-12T23:06:12.958110Z",
     "iopub.status.idle": "2023-04-12T23:06:12.979386Z",
     "shell.execute_reply": "2023-04-12T23:06:12.978333Z"
    },
    "papermill": {
     "duration": 0.027271,
     "end_time": "2023-04-12T23:06:12.980380",
     "exception": false,
     "start_time": "2023-04-12T23:06:12.953109",
     "status": "completed"
    },
    "tags": []
   },
   "outputs": [
    {
     "data": {
      "text/html": [
       "<div>\n",
       "<style scoped>\n",
       "    .dataframe tbody tr th:only-of-type {\n",
       "        vertical-align: middle;\n",
       "    }\n",
       "\n",
       "    .dataframe tbody tr th {\n",
       "        vertical-align: top;\n",
       "    }\n",
       "\n",
       "    .dataframe thead th {\n",
       "        text-align: right;\n",
       "    }\n",
       "</style>\n",
       "<table border=\"1\" class=\"dataframe\">\n",
       "  <thead>\n",
       "    <tr style=\"text-align: right;\">\n",
       "      <th></th>\n",
       "      <th>unit_id</th>\n",
       "      <th>article_title</th>\n",
       "      <th>article_content</th>\n",
       "      <th>source</th>\n",
       "      <th>date</th>\n",
       "      <th>location</th>\n",
       "      <th>labels</th>\n",
       "      <th>final_article</th>\n",
       "    </tr>\n",
       "  </thead>\n",
       "  <tbody>\n",
       "    <tr>\n",
       "      <th>0</th>\n",
       "      <td>1914947530</td>\n",
       "      <td>Syria attack symptoms consistent with nerve ag...</td>\n",
       "      <td>Wed 05 Apr 2017 Syria attack symptoms consiste...</td>\n",
       "      <td>nna</td>\n",
       "      <td>4/5/2017</td>\n",
       "      <td>idlib</td>\n",
       "      <td>0</td>\n",
       "      <td>syria attack symptoms consistent with nerve ag...</td>\n",
       "    </tr>\n",
       "    <tr>\n",
       "      <th>1</th>\n",
       "      <td>1914947532</td>\n",
       "      <td>Homs governor says U.S. attack caused deaths b...</td>\n",
       "      <td>Fri 07 Apr 2017 at 0914 Homs governor says U.S...</td>\n",
       "      <td>nna</td>\n",
       "      <td>4/7/2017</td>\n",
       "      <td>homs</td>\n",
       "      <td>0</td>\n",
       "      <td>homs governor says u.s. attack caused deaths b...</td>\n",
       "    </tr>\n",
       "    <tr>\n",
       "      <th>2</th>\n",
       "      <td>1914947533</td>\n",
       "      <td>Death toll from Aleppo bomb attack at least 112</td>\n",
       "      <td>Sun 16 Apr 2017 Death toll from Aleppo bomb at...</td>\n",
       "      <td>nna</td>\n",
       "      <td>4/16/2017</td>\n",
       "      <td>aleppo</td>\n",
       "      <td>0</td>\n",
       "      <td>death toll from aleppo bomb attack at least 11...</td>\n",
       "    </tr>\n",
       "    <tr>\n",
       "      <th>3</th>\n",
       "      <td>1914947534</td>\n",
       "      <td>Aleppo bomb blast kills six Syrian state TV</td>\n",
       "      <td>Wed 19 Apr 2017 Aleppo bomb blast kills six Sy...</td>\n",
       "      <td>nna</td>\n",
       "      <td>4/19/2017</td>\n",
       "      <td>aleppo</td>\n",
       "      <td>0</td>\n",
       "      <td>aleppo bomb blast kills six syrian state tv we...</td>\n",
       "    </tr>\n",
       "    <tr>\n",
       "      <th>4</th>\n",
       "      <td>1914947535</td>\n",
       "      <td>29 Syria Rebels Dead in Fighting for Key Alepp...</td>\n",
       "      <td>Sun 10 Jul 2016 29 Syria Rebels Dead in Fighti...</td>\n",
       "      <td>nna</td>\n",
       "      <td>7/10/2016</td>\n",
       "      <td>aleppo</td>\n",
       "      <td>0</td>\n",
       "      <td>29 syria rebels dead in fighting for key alepp...</td>\n",
       "    </tr>\n",
       "  </tbody>\n",
       "</table>\n",
       "</div>"
      ],
      "text/plain": [
       "      unit_id                                      article_title  \\\n",
       "0  1914947530  Syria attack symptoms consistent with nerve ag...   \n",
       "1  1914947532  Homs governor says U.S. attack caused deaths b...   \n",
       "2  1914947533    Death toll from Aleppo bomb attack at least 112   \n",
       "3  1914947534        Aleppo bomb blast kills six Syrian state TV   \n",
       "4  1914947535  29 Syria Rebels Dead in Fighting for Key Alepp...   \n",
       "\n",
       "                                     article_content source       date  \\\n",
       "0  Wed 05 Apr 2017 Syria attack symptoms consiste...    nna   4/5/2017   \n",
       "1  Fri 07 Apr 2017 at 0914 Homs governor says U.S...    nna   4/7/2017   \n",
       "2  Sun 16 Apr 2017 Death toll from Aleppo bomb at...    nna  4/16/2017   \n",
       "3  Wed 19 Apr 2017 Aleppo bomb blast kills six Sy...    nna  4/19/2017   \n",
       "4  Sun 10 Jul 2016 29 Syria Rebels Dead in Fighti...    nna  7/10/2016   \n",
       "\n",
       "  location  labels                                      final_article  \n",
       "0    idlib       0  syria attack symptoms consistent with nerve ag...  \n",
       "1     homs       0  homs governor says u.s. attack caused deaths b...  \n",
       "2   aleppo       0  death toll from aleppo bomb attack at least 11...  \n",
       "3   aleppo       0  aleppo bomb blast kills six syrian state tv we...  \n",
       "4   aleppo       0  29 syria rebels dead in fighting for key alepp...  "
      ]
     },
     "execution_count": 12,
     "metadata": {},
     "output_type": "execute_result"
    }
   ],
   "source": [
    "df.head()"
   ]
  },
  {
   "cell_type": "code",
   "execution_count": 13,
   "id": "f4405213",
   "metadata": {
    "execution": {
     "iopub.execute_input": "2023-04-12T23:06:12.990380Z",
     "iopub.status.busy": "2023-04-12T23:06:12.990380Z",
     "iopub.status.idle": "2023-04-12T23:06:13.009732Z",
     "shell.execute_reply": "2023-04-12T23:06:13.009732Z"
    },
    "papermill": {
     "duration": 0.026366,
     "end_time": "2023-04-12T23:06:13.011748",
     "exception": false,
     "start_time": "2023-04-12T23:06:12.985382",
     "status": "completed"
    },
    "tags": []
   },
   "outputs": [
    {
     "data": {
      "text/plain": [
       "1    426\n",
       "0    378\n",
       "Name: labels, dtype: int64"
      ]
     },
     "execution_count": 13,
     "metadata": {},
     "output_type": "execute_result"
    }
   ],
   "source": [
    "df['labels'].value_counts()"
   ]
  },
  {
   "cell_type": "code",
   "execution_count": 14,
   "id": "f55fec36",
   "metadata": {
    "execution": {
     "iopub.execute_input": "2023-04-12T23:06:13.020748Z",
     "iopub.status.busy": "2023-04-12T23:06:13.020748Z",
     "iopub.status.idle": "2023-04-12T23:06:13.041840Z",
     "shell.execute_reply": "2023-04-12T23:06:13.040745Z"
    },
    "papermill": {
     "duration": 0.027108,
     "end_time": "2023-04-12T23:06:13.042856",
     "exception": false,
     "start_time": "2023-04-12T23:06:13.015748",
     "status": "completed"
    },
    "tags": []
   },
   "outputs": [
    {
     "data": {
      "text/plain": [
       "unit_id            0\n",
       "article_title      0\n",
       "article_content    0\n",
       "source             0\n",
       "date               0\n",
       "location           0\n",
       "labels             0\n",
       "final_article      0\n",
       "dtype: int64"
      ]
     },
     "execution_count": 14,
     "metadata": {},
     "output_type": "execute_result"
    }
   ],
   "source": [
    "df.isna().sum()"
   ]
  },
  {
   "cell_type": "code",
   "execution_count": 15,
   "id": "3b0ab34e",
   "metadata": {
    "execution": {
     "iopub.execute_input": "2023-04-12T23:06:13.053855Z",
     "iopub.status.busy": "2023-04-12T23:06:13.052853Z",
     "iopub.status.idle": "2023-04-12T23:06:13.087085Z",
     "shell.execute_reply": "2023-04-12T23:06:13.087085Z"
    },
    "papermill": {
     "duration": 0.04025,
     "end_time": "2023-04-12T23:06:13.088102",
     "exception": false,
     "start_time": "2023-04-12T23:06:13.047852",
     "status": "completed"
    },
    "tags": []
   },
   "outputs": [
    {
     "name": "stderr",
     "output_type": "stream",
     "text": [
      "C:\\Users\\cobra\\AppData\\Local\\Temp\\ipykernel_31572\\1049594794.py:5: UserWarning: This pattern is interpreted as a regular expression, and has match groups. To actually get the groups, use str.extract.\n",
      "  url_count = df.final_article.str.contains(url_regex, regex=True)\n"
     ]
    },
    {
     "data": {
      "text/plain": [
       "(151,)"
      ]
     },
     "execution_count": 15,
     "metadata": {},
     "output_type": "execute_result"
    }
   ],
   "source": [
    "# Getting count of rows containing urls\n",
    "url_regex = r'[-a-zA-Z0-9@:%._\\+~#=]{1,256}\\.[a-zA-Z0-9()]{1,6}\\b([-a-zA-Z0-9()@:%_\\+.~#?&//=]*)'\n",
    "# url_regex = r'https?://\\S+|www\\.\\S+'\n",
    "# url_regex = r'(https?:\\/\\/(?:www\\.)?[-a-zA-Z0-9@:%._+~#=]{1,256}]\\.[a-zA-Z0-9()]{1,6}[-a-zA-Z0-9()@:%_+.~#?&/=]*)'\n",
    "url_count = df.final_article.str.contains(url_regex, regex=True)\n",
    "# url_count[url_count]\n",
    "url_count[url_count].shape"
   ]
  },
  {
   "cell_type": "code",
   "execution_count": 16,
   "id": "47953661",
   "metadata": {
    "execution": {
     "iopub.execute_input": "2023-04-12T23:06:13.098092Z",
     "iopub.status.busy": "2023-04-12T23:06:13.098092Z",
     "iopub.status.idle": "2023-04-12T23:06:13.102102Z",
     "shell.execute_reply": "2023-04-12T23:06:13.102102Z"
    },
    "papermill": {
     "duration": 0.009998,
     "end_time": "2023-04-12T23:06:13.103102",
     "exception": false,
     "start_time": "2023-04-12T23:06:13.093104",
     "status": "completed"
    },
    "tags": []
   },
   "outputs": [
    {
     "data": {
      "text/plain": [
       "0       True\n",
       "1       True\n",
       "2      False\n",
       "3      False\n",
       "4      False\n",
       "       ...  \n",
       "799    False\n",
       "800    False\n",
       "801    False\n",
       "802    False\n",
       "803    False\n",
       "Name: final_article, Length: 804, dtype: bool"
      ]
     },
     "execution_count": 16,
     "metadata": {},
     "output_type": "execute_result"
    }
   ],
   "source": [
    "url_count"
   ]
  },
  {
   "cell_type": "code",
   "execution_count": 17,
   "id": "d2a6864b",
   "metadata": {
    "execution": {
     "iopub.execute_input": "2023-04-12T23:06:13.113102Z",
     "iopub.status.busy": "2023-04-12T23:06:13.113102Z",
     "iopub.status.idle": "2023-04-12T23:06:13.150821Z",
     "shell.execute_reply": "2023-04-12T23:06:13.149809Z"
    },
    "papermill": {
     "duration": 0.043711,
     "end_time": "2023-04-12T23:06:13.151815",
     "exception": false,
     "start_time": "2023-04-12T23:06:13.108104",
     "status": "completed"
    },
    "tags": []
   },
   "outputs": [],
   "source": [
    "## Removing URLs from the input text\n",
    "def remove_url(url_text):\n",
    "    # url = re.compile(r'https?://\\S+|www\\.\\S+')\n",
    "    url = re.compile(r'[-a-zA-Z0-9@:%._\\+~#=]{1,256}\\.[a-zA-Z0-9()]{1,6}\\b([-a-zA-Z0-9()@:%_\\+.~#?&//=]*)')\n",
    "    # re.sub(r'http\\S+', ' ', url_text)\n",
    "    return url.sub(r'', url_text)\n",
    "\n",
    "df['clean_final_article'] = df['final_article'].apply(remove_url)"
   ]
  },
  {
   "cell_type": "code",
   "execution_count": 18,
   "id": "b66feadc",
   "metadata": {
    "execution": {
     "iopub.execute_input": "2023-04-12T23:06:13.162427Z",
     "iopub.status.busy": "2023-04-12T23:06:13.162427Z",
     "iopub.status.idle": "2023-04-12T23:06:13.182394Z",
     "shell.execute_reply": "2023-04-12T23:06:13.181363Z"
    },
    "papermill": {
     "duration": 0.028757,
     "end_time": "2023-04-12T23:06:13.184571",
     "exception": false,
     "start_time": "2023-04-12T23:06:13.155814",
     "status": "completed"
    },
    "tags": []
   },
   "outputs": [
    {
     "data": {
      "text/html": [
       "<div>\n",
       "<style scoped>\n",
       "    .dataframe tbody tr th:only-of-type {\n",
       "        vertical-align: middle;\n",
       "    }\n",
       "\n",
       "    .dataframe tbody tr th {\n",
       "        vertical-align: top;\n",
       "    }\n",
       "\n",
       "    .dataframe thead th {\n",
       "        text-align: right;\n",
       "    }\n",
       "</style>\n",
       "<table border=\"1\" class=\"dataframe\">\n",
       "  <thead>\n",
       "    <tr style=\"text-align: right;\">\n",
       "      <th></th>\n",
       "      <th>unit_id</th>\n",
       "      <th>article_title</th>\n",
       "      <th>article_content</th>\n",
       "      <th>source</th>\n",
       "      <th>date</th>\n",
       "      <th>location</th>\n",
       "      <th>labels</th>\n",
       "      <th>final_article</th>\n",
       "      <th>clean_final_article</th>\n",
       "    </tr>\n",
       "  </thead>\n",
       "  <tbody>\n",
       "    <tr>\n",
       "      <th>0</th>\n",
       "      <td>1914947530</td>\n",
       "      <td>Syria attack symptoms consistent with nerve ag...</td>\n",
       "      <td>Wed 05 Apr 2017 Syria attack symptoms consiste...</td>\n",
       "      <td>nna</td>\n",
       "      <td>4/5/2017</td>\n",
       "      <td>idlib</td>\n",
       "      <td>0</td>\n",
       "      <td>syria attack symptoms consistent with nerve ag...</td>\n",
       "      <td>syria attack symptoms consistent with nerve ag...</td>\n",
       "    </tr>\n",
       "    <tr>\n",
       "      <th>1</th>\n",
       "      <td>1914947532</td>\n",
       "      <td>Homs governor says U.S. attack caused deaths b...</td>\n",
       "      <td>Fri 07 Apr 2017 at 0914 Homs governor says U.S...</td>\n",
       "      <td>nna</td>\n",
       "      <td>4/7/2017</td>\n",
       "      <td>homs</td>\n",
       "      <td>0</td>\n",
       "      <td>homs governor says u.s. attack caused deaths b...</td>\n",
       "      <td>homs governor says  attack caused deaths but d...</td>\n",
       "    </tr>\n",
       "    <tr>\n",
       "      <th>2</th>\n",
       "      <td>1914947533</td>\n",
       "      <td>Death toll from Aleppo bomb attack at least 112</td>\n",
       "      <td>Sun 16 Apr 2017 Death toll from Aleppo bomb at...</td>\n",
       "      <td>nna</td>\n",
       "      <td>4/16/2017</td>\n",
       "      <td>aleppo</td>\n",
       "      <td>0</td>\n",
       "      <td>death toll from aleppo bomb attack at least 11...</td>\n",
       "      <td>death toll from aleppo bomb attack at least 11...</td>\n",
       "    </tr>\n",
       "    <tr>\n",
       "      <th>3</th>\n",
       "      <td>1914947534</td>\n",
       "      <td>Aleppo bomb blast kills six Syrian state TV</td>\n",
       "      <td>Wed 19 Apr 2017 Aleppo bomb blast kills six Sy...</td>\n",
       "      <td>nna</td>\n",
       "      <td>4/19/2017</td>\n",
       "      <td>aleppo</td>\n",
       "      <td>0</td>\n",
       "      <td>aleppo bomb blast kills six syrian state tv we...</td>\n",
       "      <td>aleppo bomb blast kills six syrian state tv we...</td>\n",
       "    </tr>\n",
       "    <tr>\n",
       "      <th>4</th>\n",
       "      <td>1914947535</td>\n",
       "      <td>29 Syria Rebels Dead in Fighting for Key Alepp...</td>\n",
       "      <td>Sun 10 Jul 2016 29 Syria Rebels Dead in Fighti...</td>\n",
       "      <td>nna</td>\n",
       "      <td>7/10/2016</td>\n",
       "      <td>aleppo</td>\n",
       "      <td>0</td>\n",
       "      <td>29 syria rebels dead in fighting for key alepp...</td>\n",
       "      <td>29 syria rebels dead in fighting for key alepp...</td>\n",
       "    </tr>\n",
       "  </tbody>\n",
       "</table>\n",
       "</div>"
      ],
      "text/plain": [
       "      unit_id                                      article_title  \\\n",
       "0  1914947530  Syria attack symptoms consistent with nerve ag...   \n",
       "1  1914947532  Homs governor says U.S. attack caused deaths b...   \n",
       "2  1914947533    Death toll from Aleppo bomb attack at least 112   \n",
       "3  1914947534        Aleppo bomb blast kills six Syrian state TV   \n",
       "4  1914947535  29 Syria Rebels Dead in Fighting for Key Alepp...   \n",
       "\n",
       "                                     article_content source       date  \\\n",
       "0  Wed 05 Apr 2017 Syria attack symptoms consiste...    nna   4/5/2017   \n",
       "1  Fri 07 Apr 2017 at 0914 Homs governor says U.S...    nna   4/7/2017   \n",
       "2  Sun 16 Apr 2017 Death toll from Aleppo bomb at...    nna  4/16/2017   \n",
       "3  Wed 19 Apr 2017 Aleppo bomb blast kills six Sy...    nna  4/19/2017   \n",
       "4  Sun 10 Jul 2016 29 Syria Rebels Dead in Fighti...    nna  7/10/2016   \n",
       "\n",
       "  location  labels                                      final_article  \\\n",
       "0    idlib       0  syria attack symptoms consistent with nerve ag...   \n",
       "1     homs       0  homs governor says u.s. attack caused deaths b...   \n",
       "2   aleppo       0  death toll from aleppo bomb attack at least 11...   \n",
       "3   aleppo       0  aleppo bomb blast kills six syrian state tv we...   \n",
       "4   aleppo       0  29 syria rebels dead in fighting for key alepp...   \n",
       "\n",
       "                                 clean_final_article  \n",
       "0  syria attack symptoms consistent with nerve ag...  \n",
       "1  homs governor says  attack caused deaths but d...  \n",
       "2  death toll from aleppo bomb attack at least 11...  \n",
       "3  aleppo bomb blast kills six syrian state tv we...  \n",
       "4  29 syria rebels dead in fighting for key alepp...  "
      ]
     },
     "execution_count": 18,
     "metadata": {},
     "output_type": "execute_result"
    }
   ],
   "source": [
    "df.head()"
   ]
  },
  {
   "cell_type": "code",
   "execution_count": 19,
   "id": "59cd95cc",
   "metadata": {
    "execution": {
     "iopub.execute_input": "2023-04-12T23:06:13.194561Z",
     "iopub.status.busy": "2023-04-12T23:06:13.194561Z",
     "iopub.status.idle": "2023-04-12T23:06:13.227601Z",
     "shell.execute_reply": "2023-04-12T23:06:13.227601Z"
    },
    "papermill": {
     "duration": 0.040031,
     "end_time": "2023-04-12T23:06:13.228601",
     "exception": false,
     "start_time": "2023-04-12T23:06:13.188570",
     "status": "completed"
    },
    "tags": []
   },
   "outputs": [
    {
     "name": "stderr",
     "output_type": "stream",
     "text": [
      "C:\\Users\\cobra\\AppData\\Local\\Temp\\ipykernel_31572\\746054768.py:2: UserWarning: This pattern is interpreted as a regular expression, and has match groups. To actually get the groups, use str.extract.\n",
      "  n_url_count = df.clean_final_article.str.contains(url_regex, regex=True)\n"
     ]
    },
    {
     "data": {
      "text/plain": [
       "0      False\n",
       "1      False\n",
       "2      False\n",
       "3      False\n",
       "4      False\n",
       "       ...  \n",
       "799    False\n",
       "800    False\n",
       "801    False\n",
       "802    False\n",
       "803    False\n",
       "Name: clean_final_article, Length: 804, dtype: bool"
      ]
     },
     "execution_count": 19,
     "metadata": {},
     "output_type": "execute_result"
    }
   ],
   "source": [
    "# Checking again if the article contains url or not\n",
    "n_url_count = df.clean_final_article.str.contains(url_regex, regex=True)\n",
    "n_url_count"
   ]
  },
  {
   "cell_type": "code",
   "execution_count": 20,
   "id": "7de822ab",
   "metadata": {
    "execution": {
     "iopub.execute_input": "2023-04-12T23:06:13.239599Z",
     "iopub.status.busy": "2023-04-12T23:06:13.238590Z",
     "iopub.status.idle": "2023-04-12T23:06:13.259621Z",
     "shell.execute_reply": "2023-04-12T23:06:13.259621Z"
    },
    "papermill": {
     "duration": 0.028023,
     "end_time": "2023-04-12T23:06:13.261624",
     "exception": false,
     "start_time": "2023-04-12T23:06:13.233601",
     "status": "completed"
    },
    "tags": []
   },
   "outputs": [
    {
     "name": "stdout",
     "output_type": "stream",
     "text": [
      "['i', 'me', 'my', 'myself', 'we', 'our', 'ours', 'ourselves', 'you', \"you're\", \"you've\", \"you'll\", \"you'd\", 'your', 'yours', 'yourself', 'yourselves', 'he', 'him', 'his', 'himself', 'she', \"she's\", 'her', 'hers', 'herself', 'it', \"it's\", 'its', 'itself', 'they', 'them', 'their', 'theirs', 'themselves', 'what', 'which', 'who', 'whom', 'this', 'that', \"that'll\", 'these', 'those', 'am', 'is', 'are', 'was', 'were', 'be', 'been', 'being', 'have', 'has', 'had', 'having', 'do', 'does', 'did', 'doing', 'a', 'an', 'the', 'and', 'but', 'if', 'or', 'because', 'as', 'until', 'while', 'of', 'at', 'by', 'for', 'with', 'about', 'against', 'between', 'into', 'through', 'during', 'before', 'after', 'above', 'below', 'to', 'from', 'up', 'down', 'in', 'out', 'on', 'off', 'over', 'under', 'again', 'further', 'then', 'once', 'here', 'there', 'when', 'where', 'why', 'how', 'all', 'any', 'both', 'each', 'few', 'more', 'most', 'other', 'some', 'such', 'no', 'nor', 'not', 'only', 'own', 'same', 'so', 'than', 'too', 'very', 's', 't', 'can', 'will', 'just', 'don', \"don't\", 'should', \"should've\", 'now', 'd', 'll', 'm', 'o', 're', 've', 'y', 'ain', 'aren', \"aren't\", 'couldn', \"couldn't\", 'didn', \"didn't\", 'doesn', \"doesn't\", 'hadn', \"hadn't\", 'hasn', \"hasn't\", 'haven', \"haven't\", 'isn', \"isn't\", 'ma', 'mightn', \"mightn't\", 'mustn', \"mustn't\", 'needn', \"needn't\", 'shan', \"shan't\", 'shouldn', \"shouldn't\", 'wasn', \"wasn't\", 'weren', \"weren't\", 'won', \"won't\", 'wouldn', \"wouldn't\"]\n"
     ]
    }
   ],
   "source": [
    "print(stopwords.words('english'))"
   ]
  },
  {
   "cell_type": "code",
   "execution_count": 21,
   "id": "184ff9bb",
   "metadata": {
    "execution": {
     "iopub.execute_input": "2023-04-12T23:06:13.271621Z",
     "iopub.status.busy": "2023-04-12T23:06:13.271621Z",
     "iopub.status.idle": "2023-04-12T23:06:14.112658Z",
     "shell.execute_reply": "2023-04-12T23:06:14.111655Z"
    },
    "papermill": {
     "duration": 0.848035,
     "end_time": "2023-04-12T23:06:14.113655",
     "exception": false,
     "start_time": "2023-04-12T23:06:13.265620",
     "status": "completed"
    },
    "tags": []
   },
   "outputs": [
    {
     "data": {
      "text/html": [
       "<div>\n",
       "<style scoped>\n",
       "    .dataframe tbody tr th:only-of-type {\n",
       "        vertical-align: middle;\n",
       "    }\n",
       "\n",
       "    .dataframe tbody tr th {\n",
       "        vertical-align: top;\n",
       "    }\n",
       "\n",
       "    .dataframe thead th {\n",
       "        text-align: right;\n",
       "    }\n",
       "</style>\n",
       "<table border=\"1\" class=\"dataframe\">\n",
       "  <thead>\n",
       "    <tr style=\"text-align: right;\">\n",
       "      <th></th>\n",
       "      <th>unit_id</th>\n",
       "      <th>article_title</th>\n",
       "      <th>article_content</th>\n",
       "      <th>source</th>\n",
       "      <th>date</th>\n",
       "      <th>location</th>\n",
       "      <th>labels</th>\n",
       "      <th>final_article</th>\n",
       "      <th>clean_final_article</th>\n",
       "      <th>tokenize_final_article</th>\n",
       "    </tr>\n",
       "  </thead>\n",
       "  <tbody>\n",
       "    <tr>\n",
       "      <th>0</th>\n",
       "      <td>1914947530</td>\n",
       "      <td>Syria attack symptoms consistent with nerve ag...</td>\n",
       "      <td>Wed 05 Apr 2017 Syria attack symptoms consiste...</td>\n",
       "      <td>nna</td>\n",
       "      <td>4/5/2017</td>\n",
       "      <td>idlib</td>\n",
       "      <td>0</td>\n",
       "      <td>syria attack symptoms consistent with nerve ag...</td>\n",
       "      <td>syria attack symptoms consistent with nerve ag...</td>\n",
       "      <td>[syria, attack, symptoms, consistent, with, ne...</td>\n",
       "    </tr>\n",
       "    <tr>\n",
       "      <th>1</th>\n",
       "      <td>1914947532</td>\n",
       "      <td>Homs governor says U.S. attack caused deaths b...</td>\n",
       "      <td>Fri 07 Apr 2017 at 0914 Homs governor says U.S...</td>\n",
       "      <td>nna</td>\n",
       "      <td>4/7/2017</td>\n",
       "      <td>homs</td>\n",
       "      <td>0</td>\n",
       "      <td>homs governor says u.s. attack caused deaths b...</td>\n",
       "      <td>homs governor says  attack caused deaths but d...</td>\n",
       "      <td>[homs, governor, says, attack, caused, deaths,...</td>\n",
       "    </tr>\n",
       "    <tr>\n",
       "      <th>2</th>\n",
       "      <td>1914947533</td>\n",
       "      <td>Death toll from Aleppo bomb attack at least 112</td>\n",
       "      <td>Sun 16 Apr 2017 Death toll from Aleppo bomb at...</td>\n",
       "      <td>nna</td>\n",
       "      <td>4/16/2017</td>\n",
       "      <td>aleppo</td>\n",
       "      <td>0</td>\n",
       "      <td>death toll from aleppo bomb attack at least 11...</td>\n",
       "      <td>death toll from aleppo bomb attack at least 11...</td>\n",
       "      <td>[death, toll, from, aleppo, bomb, attack, at, ...</td>\n",
       "    </tr>\n",
       "    <tr>\n",
       "      <th>3</th>\n",
       "      <td>1914947534</td>\n",
       "      <td>Aleppo bomb blast kills six Syrian state TV</td>\n",
       "      <td>Wed 19 Apr 2017 Aleppo bomb blast kills six Sy...</td>\n",
       "      <td>nna</td>\n",
       "      <td>4/19/2017</td>\n",
       "      <td>aleppo</td>\n",
       "      <td>0</td>\n",
       "      <td>aleppo bomb blast kills six syrian state tv we...</td>\n",
       "      <td>aleppo bomb blast kills six syrian state tv we...</td>\n",
       "      <td>[aleppo, bomb, blast, kills, six, syrian, stat...</td>\n",
       "    </tr>\n",
       "    <tr>\n",
       "      <th>4</th>\n",
       "      <td>1914947535</td>\n",
       "      <td>29 Syria Rebels Dead in Fighting for Key Alepp...</td>\n",
       "      <td>Sun 10 Jul 2016 29 Syria Rebels Dead in Fighti...</td>\n",
       "      <td>nna</td>\n",
       "      <td>7/10/2016</td>\n",
       "      <td>aleppo</td>\n",
       "      <td>0</td>\n",
       "      <td>29 syria rebels dead in fighting for key alepp...</td>\n",
       "      <td>29 syria rebels dead in fighting for key alepp...</td>\n",
       "      <td>[29, syria, rebels, dead, in, fighting, for, k...</td>\n",
       "    </tr>\n",
       "  </tbody>\n",
       "</table>\n",
       "</div>"
      ],
      "text/plain": [
       "      unit_id                                      article_title  \\\n",
       "0  1914947530  Syria attack symptoms consistent with nerve ag...   \n",
       "1  1914947532  Homs governor says U.S. attack caused deaths b...   \n",
       "2  1914947533    Death toll from Aleppo bomb attack at least 112   \n",
       "3  1914947534        Aleppo bomb blast kills six Syrian state TV   \n",
       "4  1914947535  29 Syria Rebels Dead in Fighting for Key Alepp...   \n",
       "\n",
       "                                     article_content source       date  \\\n",
       "0  Wed 05 Apr 2017 Syria attack symptoms consiste...    nna   4/5/2017   \n",
       "1  Fri 07 Apr 2017 at 0914 Homs governor says U.S...    nna   4/7/2017   \n",
       "2  Sun 16 Apr 2017 Death toll from Aleppo bomb at...    nna  4/16/2017   \n",
       "3  Wed 19 Apr 2017 Aleppo bomb blast kills six Sy...    nna  4/19/2017   \n",
       "4  Sun 10 Jul 2016 29 Syria Rebels Dead in Fighti...    nna  7/10/2016   \n",
       "\n",
       "  location  labels                                      final_article  \\\n",
       "0    idlib       0  syria attack symptoms consistent with nerve ag...   \n",
       "1     homs       0  homs governor says u.s. attack caused deaths b...   \n",
       "2   aleppo       0  death toll from aleppo bomb attack at least 11...   \n",
       "3   aleppo       0  aleppo bomb blast kills six syrian state tv we...   \n",
       "4   aleppo       0  29 syria rebels dead in fighting for key alepp...   \n",
       "\n",
       "                                 clean_final_article  \\\n",
       "0  syria attack symptoms consistent with nerve ag...   \n",
       "1  homs governor says  attack caused deaths but d...   \n",
       "2  death toll from aleppo bomb attack at least 11...   \n",
       "3  aleppo bomb blast kills six syrian state tv we...   \n",
       "4  29 syria rebels dead in fighting for key alepp...   \n",
       "\n",
       "                              tokenize_final_article  \n",
       "0  [syria, attack, symptoms, consistent, with, ne...  \n",
       "1  [homs, governor, says, attack, caused, deaths,...  \n",
       "2  [death, toll, from, aleppo, bomb, attack, at, ...  \n",
       "3  [aleppo, bomb, blast, kills, six, syrian, stat...  \n",
       "4  [29, syria, rebels, dead, in, fighting, for, k...  "
      ]
     },
     "execution_count": 21,
     "metadata": {},
     "output_type": "execute_result"
    }
   ],
   "source": [
    "# Performing tokenization\n",
    "df['tokenize_final_article'] = df['clean_final_article'].apply(word_tokenize)\n",
    "df.head()"
   ]
  },
  {
   "cell_type": "code",
   "execution_count": 22,
   "id": "114a8db8",
   "metadata": {
    "execution": {
     "iopub.execute_input": "2023-04-12T23:06:14.124655Z",
     "iopub.status.busy": "2023-04-12T23:06:14.123655Z",
     "iopub.status.idle": "2023-04-12T23:06:14.159673Z",
     "shell.execute_reply": "2023-04-12T23:06:14.159673Z"
    },
    "papermill": {
     "duration": 0.043019,
     "end_time": "2023-04-12T23:06:14.161674",
     "exception": false,
     "start_time": "2023-04-12T23:06:14.118655",
     "status": "completed"
    },
    "tags": []
   },
   "outputs": [
    {
     "data": {
      "text/html": [
       "<div>\n",
       "<style scoped>\n",
       "    .dataframe tbody tr th:only-of-type {\n",
       "        vertical-align: middle;\n",
       "    }\n",
       "\n",
       "    .dataframe tbody tr th {\n",
       "        vertical-align: top;\n",
       "    }\n",
       "\n",
       "    .dataframe thead th {\n",
       "        text-align: right;\n",
       "    }\n",
       "</style>\n",
       "<table border=\"1\" class=\"dataframe\">\n",
       "  <thead>\n",
       "    <tr style=\"text-align: right;\">\n",
       "      <th></th>\n",
       "      <th>unit_id</th>\n",
       "      <th>article_title</th>\n",
       "      <th>article_content</th>\n",
       "      <th>source</th>\n",
       "      <th>date</th>\n",
       "      <th>location</th>\n",
       "      <th>labels</th>\n",
       "      <th>final_article</th>\n",
       "      <th>clean_final_article</th>\n",
       "      <th>tokenize_final_article</th>\n",
       "      <th>stopwords_clean_final_article</th>\n",
       "    </tr>\n",
       "  </thead>\n",
       "  <tbody>\n",
       "    <tr>\n",
       "      <th>0</th>\n",
       "      <td>1914947530</td>\n",
       "      <td>Syria attack symptoms consistent with nerve ag...</td>\n",
       "      <td>Wed 05 Apr 2017 Syria attack symptoms consiste...</td>\n",
       "      <td>nna</td>\n",
       "      <td>4/5/2017</td>\n",
       "      <td>idlib</td>\n",
       "      <td>0</td>\n",
       "      <td>syria attack symptoms consistent with nerve ag...</td>\n",
       "      <td>syria attack symptoms consistent with nerve ag...</td>\n",
       "      <td>[syria, attack, symptoms, consistent, with, ne...</td>\n",
       "      <td>[syria, attack, symptoms, consistent, nerve, a...</td>\n",
       "    </tr>\n",
       "    <tr>\n",
       "      <th>1</th>\n",
       "      <td>1914947532</td>\n",
       "      <td>Homs governor says U.S. attack caused deaths b...</td>\n",
       "      <td>Fri 07 Apr 2017 at 0914 Homs governor says U.S...</td>\n",
       "      <td>nna</td>\n",
       "      <td>4/7/2017</td>\n",
       "      <td>homs</td>\n",
       "      <td>0</td>\n",
       "      <td>homs governor says u.s. attack caused deaths b...</td>\n",
       "      <td>homs governor says  attack caused deaths but d...</td>\n",
       "      <td>[homs, governor, says, attack, caused, deaths,...</td>\n",
       "      <td>[homs, governor, says, attack, caused, deaths,...</td>\n",
       "    </tr>\n",
       "    <tr>\n",
       "      <th>2</th>\n",
       "      <td>1914947533</td>\n",
       "      <td>Death toll from Aleppo bomb attack at least 112</td>\n",
       "      <td>Sun 16 Apr 2017 Death toll from Aleppo bomb at...</td>\n",
       "      <td>nna</td>\n",
       "      <td>4/16/2017</td>\n",
       "      <td>aleppo</td>\n",
       "      <td>0</td>\n",
       "      <td>death toll from aleppo bomb attack at least 11...</td>\n",
       "      <td>death toll from aleppo bomb attack at least 11...</td>\n",
       "      <td>[death, toll, from, aleppo, bomb, attack, at, ...</td>\n",
       "      <td>[death, toll, aleppo, bomb, attack, least, 112...</td>\n",
       "    </tr>\n",
       "    <tr>\n",
       "      <th>3</th>\n",
       "      <td>1914947534</td>\n",
       "      <td>Aleppo bomb blast kills six Syrian state TV</td>\n",
       "      <td>Wed 19 Apr 2017 Aleppo bomb blast kills six Sy...</td>\n",
       "      <td>nna</td>\n",
       "      <td>4/19/2017</td>\n",
       "      <td>aleppo</td>\n",
       "      <td>0</td>\n",
       "      <td>aleppo bomb blast kills six syrian state tv we...</td>\n",
       "      <td>aleppo bomb blast kills six syrian state tv we...</td>\n",
       "      <td>[aleppo, bomb, blast, kills, six, syrian, stat...</td>\n",
       "      <td>[aleppo, bomb, blast, kills, six, syrian, stat...</td>\n",
       "    </tr>\n",
       "    <tr>\n",
       "      <th>4</th>\n",
       "      <td>1914947535</td>\n",
       "      <td>29 Syria Rebels Dead in Fighting for Key Alepp...</td>\n",
       "      <td>Sun 10 Jul 2016 29 Syria Rebels Dead in Fighti...</td>\n",
       "      <td>nna</td>\n",
       "      <td>7/10/2016</td>\n",
       "      <td>aleppo</td>\n",
       "      <td>0</td>\n",
       "      <td>29 syria rebels dead in fighting for key alepp...</td>\n",
       "      <td>29 syria rebels dead in fighting for key alepp...</td>\n",
       "      <td>[29, syria, rebels, dead, in, fighting, for, k...</td>\n",
       "      <td>[29, syria, rebels, dead, fighting, key, alepp...</td>\n",
       "    </tr>\n",
       "  </tbody>\n",
       "</table>\n",
       "</div>"
      ],
      "text/plain": [
       "      unit_id                                      article_title  \\\n",
       "0  1914947530  Syria attack symptoms consistent with nerve ag...   \n",
       "1  1914947532  Homs governor says U.S. attack caused deaths b...   \n",
       "2  1914947533    Death toll from Aleppo bomb attack at least 112   \n",
       "3  1914947534        Aleppo bomb blast kills six Syrian state TV   \n",
       "4  1914947535  29 Syria Rebels Dead in Fighting for Key Alepp...   \n",
       "\n",
       "                                     article_content source       date  \\\n",
       "0  Wed 05 Apr 2017 Syria attack symptoms consiste...    nna   4/5/2017   \n",
       "1  Fri 07 Apr 2017 at 0914 Homs governor says U.S...    nna   4/7/2017   \n",
       "2  Sun 16 Apr 2017 Death toll from Aleppo bomb at...    nna  4/16/2017   \n",
       "3  Wed 19 Apr 2017 Aleppo bomb blast kills six Sy...    nna  4/19/2017   \n",
       "4  Sun 10 Jul 2016 29 Syria Rebels Dead in Fighti...    nna  7/10/2016   \n",
       "\n",
       "  location  labels                                      final_article  \\\n",
       "0    idlib       0  syria attack symptoms consistent with nerve ag...   \n",
       "1     homs       0  homs governor says u.s. attack caused deaths b...   \n",
       "2   aleppo       0  death toll from aleppo bomb attack at least 11...   \n",
       "3   aleppo       0  aleppo bomb blast kills six syrian state tv we...   \n",
       "4   aleppo       0  29 syria rebels dead in fighting for key alepp...   \n",
       "\n",
       "                                 clean_final_article  \\\n",
       "0  syria attack symptoms consistent with nerve ag...   \n",
       "1  homs governor says  attack caused deaths but d...   \n",
       "2  death toll from aleppo bomb attack at least 11...   \n",
       "3  aleppo bomb blast kills six syrian state tv we...   \n",
       "4  29 syria rebels dead in fighting for key alepp...   \n",
       "\n",
       "                              tokenize_final_article  \\\n",
       "0  [syria, attack, symptoms, consistent, with, ne...   \n",
       "1  [homs, governor, says, attack, caused, deaths,...   \n",
       "2  [death, toll, from, aleppo, bomb, attack, at, ...   \n",
       "3  [aleppo, bomb, blast, kills, six, syrian, stat...   \n",
       "4  [29, syria, rebels, dead, in, fighting, for, k...   \n",
       "\n",
       "                       stopwords_clean_final_article  \n",
       "0  [syria, attack, symptoms, consistent, nerve, a...  \n",
       "1  [homs, governor, says, attack, caused, deaths,...  \n",
       "2  [death, toll, aleppo, bomb, attack, least, 112...  \n",
       "3  [aleppo, bomb, blast, kills, six, syrian, stat...  \n",
       "4  [29, syria, rebels, dead, fighting, key, alepp...  "
      ]
     },
     "execution_count": 22,
     "metadata": {},
     "output_type": "execute_result"
    }
   ],
   "source": [
    "# Removing stopwords\n",
    "stopwords = set(stopwords.words('english'))\n",
    "df['stopwords_clean_final_article'] = df['tokenize_final_article'].apply(lambda x:[word for word in x if word not in stopwords])\n",
    "df.head()"
   ]
  },
  {
   "cell_type": "code",
   "execution_count": 23,
   "id": "44edb594",
   "metadata": {
    "execution": {
     "iopub.execute_input": "2023-04-12T23:06:14.173277Z",
     "iopub.status.busy": "2023-04-12T23:06:14.172267Z",
     "iopub.status.idle": "2023-04-12T23:06:15.365266Z",
     "shell.execute_reply": "2023-04-12T23:06:15.365266Z"
    },
    "papermill": {
     "duration": 1.199019,
     "end_time": "2023-04-12T23:06:15.366274",
     "exception": false,
     "start_time": "2023-04-12T23:06:14.167255",
     "status": "completed"
    },
    "tags": []
   },
   "outputs": [
    {
     "data": {
      "text/html": [
       "<div>\n",
       "<style scoped>\n",
       "    .dataframe tbody tr th:only-of-type {\n",
       "        vertical-align: middle;\n",
       "    }\n",
       "\n",
       "    .dataframe tbody tr th {\n",
       "        vertical-align: top;\n",
       "    }\n",
       "\n",
       "    .dataframe thead th {\n",
       "        text-align: right;\n",
       "    }\n",
       "</style>\n",
       "<table border=\"1\" class=\"dataframe\">\n",
       "  <thead>\n",
       "    <tr style=\"text-align: right;\">\n",
       "      <th></th>\n",
       "      <th>unit_id</th>\n",
       "      <th>article_title</th>\n",
       "      <th>article_content</th>\n",
       "      <th>source</th>\n",
       "      <th>date</th>\n",
       "      <th>location</th>\n",
       "      <th>labels</th>\n",
       "      <th>final_article</th>\n",
       "      <th>clean_final_article</th>\n",
       "      <th>tokenize_final_article</th>\n",
       "      <th>stopwords_clean_final_article</th>\n",
       "      <th>lemmatized_clean_final_article</th>\n",
       "    </tr>\n",
       "  </thead>\n",
       "  <tbody>\n",
       "    <tr>\n",
       "      <th>0</th>\n",
       "      <td>1914947530</td>\n",
       "      <td>Syria attack symptoms consistent with nerve ag...</td>\n",
       "      <td>Wed 05 Apr 2017 Syria attack symptoms consiste...</td>\n",
       "      <td>nna</td>\n",
       "      <td>4/5/2017</td>\n",
       "      <td>idlib</td>\n",
       "      <td>0</td>\n",
       "      <td>syria attack symptoms consistent with nerve ag...</td>\n",
       "      <td>syria attack symptoms consistent with nerve ag...</td>\n",
       "      <td>[syria, attack, symptoms, consistent, with, ne...</td>\n",
       "      <td>[syria, attack, symptoms, consistent, nerve, a...</td>\n",
       "      <td>[syria, attack, symptom, consistent, nerve, ag...</td>\n",
       "    </tr>\n",
       "    <tr>\n",
       "      <th>1</th>\n",
       "      <td>1914947532</td>\n",
       "      <td>Homs governor says U.S. attack caused deaths b...</td>\n",
       "      <td>Fri 07 Apr 2017 at 0914 Homs governor says U.S...</td>\n",
       "      <td>nna</td>\n",
       "      <td>4/7/2017</td>\n",
       "      <td>homs</td>\n",
       "      <td>0</td>\n",
       "      <td>homs governor says u.s. attack caused deaths b...</td>\n",
       "      <td>homs governor says  attack caused deaths but d...</td>\n",
       "      <td>[homs, governor, says, attack, caused, deaths,...</td>\n",
       "      <td>[homs, governor, says, attack, caused, deaths,...</td>\n",
       "      <td>[homs, governor, say, attack, caused, death, d...</td>\n",
       "    </tr>\n",
       "    <tr>\n",
       "      <th>2</th>\n",
       "      <td>1914947533</td>\n",
       "      <td>Death toll from Aleppo bomb attack at least 112</td>\n",
       "      <td>Sun 16 Apr 2017 Death toll from Aleppo bomb at...</td>\n",
       "      <td>nna</td>\n",
       "      <td>4/16/2017</td>\n",
       "      <td>aleppo</td>\n",
       "      <td>0</td>\n",
       "      <td>death toll from aleppo bomb attack at least 11...</td>\n",
       "      <td>death toll from aleppo bomb attack at least 11...</td>\n",
       "      <td>[death, toll, from, aleppo, bomb, attack, at, ...</td>\n",
       "      <td>[death, toll, aleppo, bomb, attack, least, 112...</td>\n",
       "      <td>[death, toll, aleppo, bomb, attack, least, 112...</td>\n",
       "    </tr>\n",
       "    <tr>\n",
       "      <th>3</th>\n",
       "      <td>1914947534</td>\n",
       "      <td>Aleppo bomb blast kills six Syrian state TV</td>\n",
       "      <td>Wed 19 Apr 2017 Aleppo bomb blast kills six Sy...</td>\n",
       "      <td>nna</td>\n",
       "      <td>4/19/2017</td>\n",
       "      <td>aleppo</td>\n",
       "      <td>0</td>\n",
       "      <td>aleppo bomb blast kills six syrian state tv we...</td>\n",
       "      <td>aleppo bomb blast kills six syrian state tv we...</td>\n",
       "      <td>[aleppo, bomb, blast, kills, six, syrian, stat...</td>\n",
       "      <td>[aleppo, bomb, blast, kills, six, syrian, stat...</td>\n",
       "      <td>[aleppo, bomb, blast, kill, six, syrian, state...</td>\n",
       "    </tr>\n",
       "    <tr>\n",
       "      <th>4</th>\n",
       "      <td>1914947535</td>\n",
       "      <td>29 Syria Rebels Dead in Fighting for Key Alepp...</td>\n",
       "      <td>Sun 10 Jul 2016 29 Syria Rebels Dead in Fighti...</td>\n",
       "      <td>nna</td>\n",
       "      <td>7/10/2016</td>\n",
       "      <td>aleppo</td>\n",
       "      <td>0</td>\n",
       "      <td>29 syria rebels dead in fighting for key alepp...</td>\n",
       "      <td>29 syria rebels dead in fighting for key alepp...</td>\n",
       "      <td>[29, syria, rebels, dead, in, fighting, for, k...</td>\n",
       "      <td>[29, syria, rebels, dead, fighting, key, alepp...</td>\n",
       "      <td>[29, syria, rebel, dead, fighting, key, aleppo...</td>\n",
       "    </tr>\n",
       "  </tbody>\n",
       "</table>\n",
       "</div>"
      ],
      "text/plain": [
       "      unit_id                                      article_title  \\\n",
       "0  1914947530  Syria attack symptoms consistent with nerve ag...   \n",
       "1  1914947532  Homs governor says U.S. attack caused deaths b...   \n",
       "2  1914947533    Death toll from Aleppo bomb attack at least 112   \n",
       "3  1914947534        Aleppo bomb blast kills six Syrian state TV   \n",
       "4  1914947535  29 Syria Rebels Dead in Fighting for Key Alepp...   \n",
       "\n",
       "                                     article_content source       date  \\\n",
       "0  Wed 05 Apr 2017 Syria attack symptoms consiste...    nna   4/5/2017   \n",
       "1  Fri 07 Apr 2017 at 0914 Homs governor says U.S...    nna   4/7/2017   \n",
       "2  Sun 16 Apr 2017 Death toll from Aleppo bomb at...    nna  4/16/2017   \n",
       "3  Wed 19 Apr 2017 Aleppo bomb blast kills six Sy...    nna  4/19/2017   \n",
       "4  Sun 10 Jul 2016 29 Syria Rebels Dead in Fighti...    nna  7/10/2016   \n",
       "\n",
       "  location  labels                                      final_article  \\\n",
       "0    idlib       0  syria attack symptoms consistent with nerve ag...   \n",
       "1     homs       0  homs governor says u.s. attack caused deaths b...   \n",
       "2   aleppo       0  death toll from aleppo bomb attack at least 11...   \n",
       "3   aleppo       0  aleppo bomb blast kills six syrian state tv we...   \n",
       "4   aleppo       0  29 syria rebels dead in fighting for key alepp...   \n",
       "\n",
       "                                 clean_final_article  \\\n",
       "0  syria attack symptoms consistent with nerve ag...   \n",
       "1  homs governor says  attack caused deaths but d...   \n",
       "2  death toll from aleppo bomb attack at least 11...   \n",
       "3  aleppo bomb blast kills six syrian state tv we...   \n",
       "4  29 syria rebels dead in fighting for key alepp...   \n",
       "\n",
       "                              tokenize_final_article  \\\n",
       "0  [syria, attack, symptoms, consistent, with, ne...   \n",
       "1  [homs, governor, says, attack, caused, deaths,...   \n",
       "2  [death, toll, from, aleppo, bomb, attack, at, ...   \n",
       "3  [aleppo, bomb, blast, kills, six, syrian, stat...   \n",
       "4  [29, syria, rebels, dead, in, fighting, for, k...   \n",
       "\n",
       "                       stopwords_clean_final_article  \\\n",
       "0  [syria, attack, symptoms, consistent, nerve, a...   \n",
       "1  [homs, governor, says, attack, caused, deaths,...   \n",
       "2  [death, toll, aleppo, bomb, attack, least, 112...   \n",
       "3  [aleppo, bomb, blast, kills, six, syrian, stat...   \n",
       "4  [29, syria, rebels, dead, fighting, key, alepp...   \n",
       "\n",
       "                      lemmatized_clean_final_article  \n",
       "0  [syria, attack, symptom, consistent, nerve, ag...  \n",
       "1  [homs, governor, say, attack, caused, death, d...  \n",
       "2  [death, toll, aleppo, bomb, attack, least, 112...  \n",
       "3  [aleppo, bomb, blast, kill, six, syrian, state...  \n",
       "4  [29, syria, rebel, dead, fighting, key, aleppo...  "
      ]
     },
     "execution_count": 23,
     "metadata": {},
     "output_type": "execute_result"
    }
   ],
   "source": [
    "# Performing lemmatization\n",
    "lemma = WordNetLemmatizer()\n",
    "\n",
    "def lemmatization(words):\n",
    "    return [lemma.lemmatize(word) for word in words]\n",
    "\n",
    "df['lemmatized_clean_final_article'] = df['stopwords_clean_final_article'].apply(lemmatization)\n",
    "\n",
    "df.head()"
   ]
  },
  {
   "cell_type": "code",
   "execution_count": 24,
   "id": "ded39725",
   "metadata": {
    "execution": {
     "iopub.execute_input": "2023-04-12T23:06:15.377266Z",
     "iopub.status.busy": "2023-04-12T23:06:15.377266Z",
     "iopub.status.idle": "2023-04-12T23:06:15.381266Z",
     "shell.execute_reply": "2023-04-12T23:06:15.381266Z"
    },
    "papermill": {
     "duration": 0.011,
     "end_time": "2023-04-12T23:06:15.382266",
     "exception": false,
     "start_time": "2023-04-12T23:06:15.371266",
     "status": "completed"
    },
    "tags": []
   },
   "outputs": [],
   "source": [
    "# Convert the list of tokens into back to the string\n",
    "# df['string_article_content'] = df['lemma_clean_article_content'].apply(' '.join)\n",
    "# df"
   ]
  },
  {
   "cell_type": "code",
   "execution_count": 25,
   "id": "a35ecac1",
   "metadata": {
    "execution": {
     "iopub.execute_input": "2023-04-12T23:06:15.393268Z",
     "iopub.status.busy": "2023-04-12T23:06:15.393268Z",
     "iopub.status.idle": "2023-04-12T23:06:15.397267Z",
     "shell.execute_reply": "2023-04-12T23:06:15.397267Z"
    },
    "papermill": {
     "duration": 0.011001,
     "end_time": "2023-04-12T23:06:15.398267",
     "exception": false,
     "start_time": "2023-04-12T23:06:15.387266",
     "status": "completed"
    },
    "tags": []
   },
   "outputs": [],
   "source": [
    "# df.drop(columns=['clean_article_content', 'tokenize_article', 'stopwords_clean_article_content'], axis = 1, inplace = True)"
   ]
  },
  {
   "cell_type": "code",
   "execution_count": 26,
   "id": "e2506952",
   "metadata": {
    "execution": {
     "iopub.execute_input": "2023-04-12T23:06:15.409268Z",
     "iopub.status.busy": "2023-04-12T23:06:15.409268Z",
     "iopub.status.idle": "2023-04-12T23:06:15.413266Z",
     "shell.execute_reply": "2023-04-12T23:06:15.413266Z"
    },
    "papermill": {
     "duration": 0.011001,
     "end_time": "2023-04-12T23:06:15.414267",
     "exception": false,
     "start_time": "2023-04-12T23:06:15.403266",
     "status": "completed"
    },
    "tags": []
   },
   "outputs": [
    {
     "data": {
      "text/plain": [
       "221.9452736318408"
      ]
     },
     "execution_count": 26,
     "metadata": {},
     "output_type": "execute_result"
    }
   ],
   "source": [
    "df['lemmatized_clean_final_article'].apply(len).mean()"
   ]
  },
  {
   "cell_type": "code",
   "execution_count": 27,
   "id": "ec8271d5",
   "metadata": {
    "execution": {
     "iopub.execute_input": "2023-04-12T23:06:15.425266Z",
     "iopub.status.busy": "2023-04-12T23:06:15.425266Z",
     "iopub.status.idle": "2023-04-12T23:06:15.445163Z",
     "shell.execute_reply": "2023-04-12T23:06:15.445163Z"
    },
    "papermill": {
     "duration": 0.0269,
     "end_time": "2023-04-12T23:06:15.446166",
     "exception": false,
     "start_time": "2023-04-12T23:06:15.419266",
     "status": "completed"
    },
    "tags": []
   },
   "outputs": [
    {
     "data": {
      "text/html": [
       "<div>\n",
       "<style scoped>\n",
       "    .dataframe tbody tr th:only-of-type {\n",
       "        vertical-align: middle;\n",
       "    }\n",
       "\n",
       "    .dataframe tbody tr th {\n",
       "        vertical-align: top;\n",
       "    }\n",
       "\n",
       "    .dataframe thead th {\n",
       "        text-align: right;\n",
       "    }\n",
       "</style>\n",
       "<table border=\"1\" class=\"dataframe\">\n",
       "  <thead>\n",
       "    <tr style=\"text-align: right;\">\n",
       "      <th></th>\n",
       "      <th>unit_id</th>\n",
       "      <th>article_title</th>\n",
       "      <th>article_content</th>\n",
       "      <th>source</th>\n",
       "      <th>date</th>\n",
       "      <th>location</th>\n",
       "      <th>labels</th>\n",
       "      <th>final_article</th>\n",
       "      <th>clean_final_article</th>\n",
       "      <th>tokenize_final_article</th>\n",
       "      <th>stopwords_clean_final_article</th>\n",
       "      <th>lemmatized_clean_final_article</th>\n",
       "    </tr>\n",
       "  </thead>\n",
       "  <tbody>\n",
       "    <tr>\n",
       "      <th>0</th>\n",
       "      <td>1914947530</td>\n",
       "      <td>Syria attack symptoms consistent with nerve ag...</td>\n",
       "      <td>Wed 05 Apr 2017 Syria attack symptoms consiste...</td>\n",
       "      <td>nna</td>\n",
       "      <td>4/5/2017</td>\n",
       "      <td>idlib</td>\n",
       "      <td>0</td>\n",
       "      <td>syria attack symptoms consistent with nerve ag...</td>\n",
       "      <td>syria attack symptoms consistent with nerve ag...</td>\n",
       "      <td>[syria, attack, symptoms, consistent, with, ne...</td>\n",
       "      <td>[syria, attack, symptoms, consistent, nerve, a...</td>\n",
       "      <td>[syria, attack, symptom, consistent, nerve, ag...</td>\n",
       "    </tr>\n",
       "    <tr>\n",
       "      <th>1</th>\n",
       "      <td>1914947532</td>\n",
       "      <td>Homs governor says U.S. attack caused deaths b...</td>\n",
       "      <td>Fri 07 Apr 2017 at 0914 Homs governor says U.S...</td>\n",
       "      <td>nna</td>\n",
       "      <td>4/7/2017</td>\n",
       "      <td>homs</td>\n",
       "      <td>0</td>\n",
       "      <td>homs governor says u.s. attack caused deaths b...</td>\n",
       "      <td>homs governor says  attack caused deaths but d...</td>\n",
       "      <td>[homs, governor, says, attack, caused, deaths,...</td>\n",
       "      <td>[homs, governor, says, attack, caused, deaths,...</td>\n",
       "      <td>[homs, governor, say, attack, caused, death, d...</td>\n",
       "    </tr>\n",
       "    <tr>\n",
       "      <th>2</th>\n",
       "      <td>1914947533</td>\n",
       "      <td>Death toll from Aleppo bomb attack at least 112</td>\n",
       "      <td>Sun 16 Apr 2017 Death toll from Aleppo bomb at...</td>\n",
       "      <td>nna</td>\n",
       "      <td>4/16/2017</td>\n",
       "      <td>aleppo</td>\n",
       "      <td>0</td>\n",
       "      <td>death toll from aleppo bomb attack at least 11...</td>\n",
       "      <td>death toll from aleppo bomb attack at least 11...</td>\n",
       "      <td>[death, toll, from, aleppo, bomb, attack, at, ...</td>\n",
       "      <td>[death, toll, aleppo, bomb, attack, least, 112...</td>\n",
       "      <td>[death, toll, aleppo, bomb, attack, least, 112...</td>\n",
       "    </tr>\n",
       "    <tr>\n",
       "      <th>3</th>\n",
       "      <td>1914947534</td>\n",
       "      <td>Aleppo bomb blast kills six Syrian state TV</td>\n",
       "      <td>Wed 19 Apr 2017 Aleppo bomb blast kills six Sy...</td>\n",
       "      <td>nna</td>\n",
       "      <td>4/19/2017</td>\n",
       "      <td>aleppo</td>\n",
       "      <td>0</td>\n",
       "      <td>aleppo bomb blast kills six syrian state tv we...</td>\n",
       "      <td>aleppo bomb blast kills six syrian state tv we...</td>\n",
       "      <td>[aleppo, bomb, blast, kills, six, syrian, stat...</td>\n",
       "      <td>[aleppo, bomb, blast, kills, six, syrian, stat...</td>\n",
       "      <td>[aleppo, bomb, blast, kill, six, syrian, state...</td>\n",
       "    </tr>\n",
       "    <tr>\n",
       "      <th>4</th>\n",
       "      <td>1914947535</td>\n",
       "      <td>29 Syria Rebels Dead in Fighting for Key Alepp...</td>\n",
       "      <td>Sun 10 Jul 2016 29 Syria Rebels Dead in Fighti...</td>\n",
       "      <td>nna</td>\n",
       "      <td>7/10/2016</td>\n",
       "      <td>aleppo</td>\n",
       "      <td>0</td>\n",
       "      <td>29 syria rebels dead in fighting for key alepp...</td>\n",
       "      <td>29 syria rebels dead in fighting for key alepp...</td>\n",
       "      <td>[29, syria, rebels, dead, in, fighting, for, k...</td>\n",
       "      <td>[29, syria, rebels, dead, fighting, key, alepp...</td>\n",
       "      <td>[29, syria, rebel, dead, fighting, key, aleppo...</td>\n",
       "    </tr>\n",
       "  </tbody>\n",
       "</table>\n",
       "</div>"
      ],
      "text/plain": [
       "      unit_id                                      article_title  \\\n",
       "0  1914947530  Syria attack symptoms consistent with nerve ag...   \n",
       "1  1914947532  Homs governor says U.S. attack caused deaths b...   \n",
       "2  1914947533    Death toll from Aleppo bomb attack at least 112   \n",
       "3  1914947534        Aleppo bomb blast kills six Syrian state TV   \n",
       "4  1914947535  29 Syria Rebels Dead in Fighting for Key Alepp...   \n",
       "\n",
       "                                     article_content source       date  \\\n",
       "0  Wed 05 Apr 2017 Syria attack symptoms consiste...    nna   4/5/2017   \n",
       "1  Fri 07 Apr 2017 at 0914 Homs governor says U.S...    nna   4/7/2017   \n",
       "2  Sun 16 Apr 2017 Death toll from Aleppo bomb at...    nna  4/16/2017   \n",
       "3  Wed 19 Apr 2017 Aleppo bomb blast kills six Sy...    nna  4/19/2017   \n",
       "4  Sun 10 Jul 2016 29 Syria Rebels Dead in Fighti...    nna  7/10/2016   \n",
       "\n",
       "  location  labels                                      final_article  \\\n",
       "0    idlib       0  syria attack symptoms consistent with nerve ag...   \n",
       "1     homs       0  homs governor says u.s. attack caused deaths b...   \n",
       "2   aleppo       0  death toll from aleppo bomb attack at least 11...   \n",
       "3   aleppo       0  aleppo bomb blast kills six syrian state tv we...   \n",
       "4   aleppo       0  29 syria rebels dead in fighting for key alepp...   \n",
       "\n",
       "                                 clean_final_article  \\\n",
       "0  syria attack symptoms consistent with nerve ag...   \n",
       "1  homs governor says  attack caused deaths but d...   \n",
       "2  death toll from aleppo bomb attack at least 11...   \n",
       "3  aleppo bomb blast kills six syrian state tv we...   \n",
       "4  29 syria rebels dead in fighting for key alepp...   \n",
       "\n",
       "                              tokenize_final_article  \\\n",
       "0  [syria, attack, symptoms, consistent, with, ne...   \n",
       "1  [homs, governor, says, attack, caused, deaths,...   \n",
       "2  [death, toll, from, aleppo, bomb, attack, at, ...   \n",
       "3  [aleppo, bomb, blast, kills, six, syrian, stat...   \n",
       "4  [29, syria, rebels, dead, in, fighting, for, k...   \n",
       "\n",
       "                       stopwords_clean_final_article  \\\n",
       "0  [syria, attack, symptoms, consistent, nerve, a...   \n",
       "1  [homs, governor, says, attack, caused, deaths,...   \n",
       "2  [death, toll, aleppo, bomb, attack, least, 112...   \n",
       "3  [aleppo, bomb, blast, kills, six, syrian, stat...   \n",
       "4  [29, syria, rebels, dead, fighting, key, alepp...   \n",
       "\n",
       "                      lemmatized_clean_final_article  \n",
       "0  [syria, attack, symptom, consistent, nerve, ag...  \n",
       "1  [homs, governor, say, attack, caused, death, d...  \n",
       "2  [death, toll, aleppo, bomb, attack, least, 112...  \n",
       "3  [aleppo, bomb, blast, kill, six, syrian, state...  \n",
       "4  [29, syria, rebel, dead, fighting, key, aleppo...  "
      ]
     },
     "execution_count": 27,
     "metadata": {},
     "output_type": "execute_result"
    }
   ],
   "source": [
    "df.head()"
   ]
  },
  {
   "cell_type": "code",
   "execution_count": 28,
   "id": "d187526a",
   "metadata": {
    "execution": {
     "iopub.execute_input": "2023-04-12T23:06:15.458762Z",
     "iopub.status.busy": "2023-04-12T23:06:15.458762Z",
     "iopub.status.idle": "2023-04-12T23:06:15.476788Z",
     "shell.execute_reply": "2023-04-12T23:06:15.475750Z"
    },
    "papermill": {
     "duration": 0.025049,
     "end_time": "2023-04-12T23:06:15.477788",
     "exception": false,
     "start_time": "2023-04-12T23:06:15.452739",
     "status": "completed"
    },
    "tags": []
   },
   "outputs": [],
   "source": [
    "dir = os.getcwd()\n",
    "change_dir = os.path.dirname(dir)\n",
    "subdir = \"Preprocessed_Dataset\""
   ]
  },
  {
   "cell_type": "code",
   "execution_count": 29,
   "id": "06e10a5e",
   "metadata": {
    "execution": {
     "iopub.execute_input": "2023-04-12T23:06:15.490180Z",
     "iopub.status.busy": "2023-04-12T23:06:15.490180Z",
     "iopub.status.idle": "2023-04-12T23:06:15.507764Z",
     "shell.execute_reply": "2023-04-12T23:06:15.506717Z"
    },
    "papermill": {
     "duration": 0.025595,
     "end_time": "2023-04-12T23:06:15.509765",
     "exception": false,
     "start_time": "2023-04-12T23:06:15.484170",
     "status": "completed"
    },
    "tags": []
   },
   "outputs": [],
   "source": [
    "# print(dir)\n",
    "# print(change_dir)\n",
    "# print(subdir)"
   ]
  },
  {
   "cell_type": "code",
   "execution_count": 30,
   "id": "33a7bd80",
   "metadata": {
    "execution": {
     "iopub.execute_input": "2023-04-12T23:06:15.520806Z",
     "iopub.status.busy": "2023-04-12T23:06:15.520806Z",
     "iopub.status.idle": "2023-04-12T23:06:15.539048Z",
     "shell.execute_reply": "2023-04-12T23:06:15.538011Z"
    },
    "papermill": {
     "duration": 0.026244,
     "end_time": "2023-04-12T23:06:15.541047",
     "exception": false,
     "start_time": "2023-04-12T23:06:15.514803",
     "status": "completed"
    },
    "tags": []
   },
   "outputs": [
    {
     "name": "stdout",
     "output_type": "stream",
     "text": [
      "C:\\Users\\cobra\\project\\project\\Data_Preprocessing\\Preprocessed_Dataset\n"
     ]
    }
   ],
   "source": [
    "dir_path = os.path.join(change_dir, subdir)\n",
    "print(dir_path)"
   ]
  },
  {
   "cell_type": "code",
   "execution_count": 31,
   "id": "bf71ae5e",
   "metadata": {
    "execution": {
     "iopub.execute_input": "2023-04-12T23:06:15.552047Z",
     "iopub.status.busy": "2023-04-12T23:06:15.552047Z",
     "iopub.status.idle": "2023-04-12T23:06:15.570394Z",
     "shell.execute_reply": "2023-04-12T23:06:15.569577Z"
    },
    "papermill": {
     "duration": 0.026364,
     "end_time": "2023-04-12T23:06:15.572411",
     "exception": false,
     "start_time": "2023-04-12T23:06:15.546047",
     "status": "completed"
    },
    "tags": []
   },
   "outputs": [
    {
     "name": "stdout",
     "output_type": "stream",
     "text": [
      "Created directory C:\\Users\\cobra\\project\\project\\Data_Preprocessing\\Preprocessed_Dataset\n"
     ]
    }
   ],
   "source": [
    "if not os.path.exists(dir_path):\n",
    "    os.makedirs(dir_path)\n",
    "    print(f\"Created directory {dir_path}\")\n",
    "else:\n",
    "    print(f\"Directory {dir_path} already exists\")"
   ]
  },
  {
   "cell_type": "code",
   "execution_count": 32,
   "id": "40bc93c0",
   "metadata": {
    "execution": {
     "iopub.execute_input": "2023-04-12T23:06:15.584017Z",
     "iopub.status.busy": "2023-04-12T23:06:15.584017Z",
     "iopub.status.idle": "2023-04-12T23:06:15.601771Z",
     "shell.execute_reply": "2023-04-12T23:06:15.600788Z"
    },
    "papermill": {
     "duration": 0.024779,
     "end_time": "2023-04-12T23:06:15.602771",
     "exception": false,
     "start_time": "2023-04-12T23:06:15.577992",
     "status": "completed"
    },
    "tags": []
   },
   "outputs": [
    {
     "data": {
      "text/plain": [
       "'C:\\\\Users\\\\cobra\\\\project\\\\project\\\\Data_Preprocessing\\\\FAKES_Dataset'"
      ]
     },
     "execution_count": 32,
     "metadata": {},
     "output_type": "execute_result"
    }
   ],
   "source": [
    "os.getcwd()"
   ]
  },
  {
   "cell_type": "code",
   "execution_count": 33,
   "id": "3d4580ed",
   "metadata": {
    "execution": {
     "iopub.execute_input": "2023-04-12T23:06:15.614772Z",
     "iopub.status.busy": "2023-04-12T23:06:15.614772Z",
     "iopub.status.idle": "2023-04-12T23:06:15.804261Z",
     "shell.execute_reply": "2023-04-12T23:06:15.803259Z"
    },
    "papermill": {
     "duration": 0.19649,
     "end_time": "2023-04-12T23:06:15.805260",
     "exception": false,
     "start_time": "2023-04-12T23:06:15.608770",
     "status": "completed"
    },
    "tags": []
   },
   "outputs": [],
   "source": [
    "df.to_csv('../Preprocessed_Dataset/Fakes_Preprocessed_Data.csv')"
   ]
  }
 ],
 "metadata": {
  "kernelspec": {
   "display_name": "base",
   "language": "python",
   "name": "python3"
  },
  "language_info": {
   "codemirror_mode": {
    "name": "ipython",
    "version": 3
   },
   "file_extension": ".py",
   "mimetype": "text/x-python",
   "name": "python",
   "nbconvert_exporter": "python",
   "pygments_lexer": "ipython3",
   "version": "3.9.13"
  },
  "papermill": {
   "default_parameters": {},
   "duration": 14.591366,
   "end_time": "2023-04-12T23:06:16.389260",
   "environment_variables": {},
   "exception": null,
   "input_path": "Fakes_Data_Preprocessing.ipynb",
   "output_path": "Fakes_Data_Preprocessing.ipynb",
   "parameters": {},
   "start_time": "2023-04-12T23:06:01.797894",
   "version": "2.4.0"
  }
 },
 "nbformat": 4,
 "nbformat_minor": 5
}