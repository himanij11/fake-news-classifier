{
 "cells": [
  {
   "attachments": {},
   "cell_type": "markdown",
   "metadata": {},
   "source": [
    "# Project.ipynb\n",
    "\n",
    "This notebook contains documentation to run everything in this project."
   ]
  },
  {
   "attachments": {},
   "cell_type": "markdown",
   "metadata": {},
   "source": [
    "## Prerequisites\n",
    "\n",
    "Before proceeding with the following subsections, it is assumed that the user has downloaded all the required data to run each Python notebook or script in this project and everything is in the correct directory structure as in the repository. "
   ]
  },
  {
   "attachments": {},
   "cell_type": "markdown",
   "metadata": {},
   "source": [
    "### Requirements\n",
    "For running models on GPU on personal computers, we need the anaconda virtual environment and install `keras-gpu` (conda install -c anaconda keras-gpu) and `tensorflow-gpu` (conda install -c anaconda tensorflow-gpu)."
   ]
  },
  {
   "cell_type": "code",
   "execution_count": null,
   "metadata": {},
   "outputs": [],
   "source": [
    "# Un comment the next line to install keras-gpu\n",
    "# conda install -c anaconda keras-gpu"
   ]
  },
  {
   "cell_type": "code",
   "execution_count": null,
   "metadata": {},
   "outputs": [],
   "source": [
    "# Un comment the next line to install tensorflow-gpu\n",
    "# conda install -c anaconda tensorflow-gp"
   ]
  },
  {
   "cell_type": "code",
   "execution_count": null,
   "metadata": {},
   "outputs": [],
   "source": [
    "# !pip install -r requirements.txt"
   ]
  },
  {
   "attachments": {},
   "cell_type": "markdown",
   "metadata": {},
   "source": [
    "# Directories\n",
    "\n",
    "The code in this project is organized into the following directories:\n",
    "\n",
    ">Project(main dir)\n",
    "- Data_Preprocessing\n",
    "- model\n",
    "- Results\n",
    "\n",
    "\n",
    ">model\n",
    "\n",
    "The subdirectories in this repository contain various scripts and files for different models used in the project. In below cells we gave a brief description of what is contained in each subdirectory, but for more detailed information, readers should refer to the README.md file within each directory. If users want to reproduce the evaluation of models that are not mentioned in the `output.ipynb` file, they should refer to the README.md file in the model Directory. This file provides comprehensive documentation on how to run the `<model>.ipynb` files.\n",
    "\n",
    ">Data_preprocessing\n",
    "\n",
    "The subdirectories in this repository contain various directory and files for different data preprocessing used in the project.for more detailed information, readers should refer to the README.md file within each directory. If users want to run the data preprocessing, they should refer to the  README.md file in the Data preprocessing Directory. This file provides comprehensive documentation on how to run the `<DataPreprocessing>.ipynb` files.\n",
    "\n",
    ">Result\n",
    "\n",
    "The subdirectories in this repository contain images of the results produces by different models."
   ]
  },
  {
   "attachments": {},
   "cell_type": "markdown",
   "metadata": {},
   "source": [
    "### Project\n",
    "\n",
    "This directory contains all sub directories (see below) and Moreover it contains `project.ipynb` to reproduce the best results.  See `README.md` and `project.ipynb` for more information on reproducing results."
   ]
  },
  {
   "attachments": {},
   "cell_type": "markdown",
   "metadata": {},
   "source": [
    "### Data_preprocessing\n",
    "This directory contains all the codes to do Preprocessing along with the Folders of the respected dataset. Kindly refer `Data_Preprossing/README.md` for more details."
   ]
  },
  {
   "attachments": {},
   "cell_type": "markdown",
   "metadata": {},
   "source": [
    "### model\n",
    "This directory contains all the code to execute different models. Please see `model/README.md` for details on each script in the directory."
   ]
  },
  {
   "attachments": {},
   "cell_type": "markdown",
   "metadata": {},
   "source": [
    "### results\n",
    "This directory contains all the results images i.e all the graphs and the best results. TO view every results please check its respected `<model>.ipynb` file in the model directory."
   ]
  }
 ],
 "metadata": {
  "language_info": {
   "name": "python"
  },
  "orig_nbformat": 4
 },
 "nbformat": 4,
 "nbformat_minor": 2
}
