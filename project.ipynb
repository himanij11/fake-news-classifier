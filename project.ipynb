{
 "cells": [
  {
   "cell_type": "markdown",
   "metadata": {},
   "source": [
    "## Output.ipynb"
   ]
  },
  {
   "cell_type": "markdown",
   "metadata": {},
   "source": [
    "This notebook contains detailed instructions on how to reproduce the results of this project."
   ]
  },
  {
   "cell_type": "markdown",
   "metadata": {},
   "source": [
    "For this project, we are using the three datasets.\n",
    "1. FAKES Dataset -  https://zenodo.org/record/2607278#.ZDcDVS_MIdW\n",
    "2. ISOT Dataset - https://onlineacademiccommunity.uvic.ca/isot/?utm_medium=redirect&utm_source=%2Fdatasets%2Ffake-news%2Findex.php&utm_campaign=redirect-usage\n",
    "3. fn-c1 Dataset - https://github.com/FakeNewsChallenge/fnc-1"
   ]
  },
  {
   "cell_type": "markdown",
   "metadata": {},
   "source": [
    "The first step is to preprocess all the three datasets before providing the input to the model."
   ]
  },
  {
   "cell_type": "markdown",
   "metadata": {},
   "source": [
    "## Data Preprocessing"
   ]
  },
  {
   "cell_type": "markdown",
   "metadata": {},
   "source": [
    "### 1. FAKES Dataset"
   ]
  },
  {
   "cell_type": "markdown",
   "metadata": {},
   "source": [
    "The following cell allows the user to preprocess the FAKES dataset."
   ]
  },
  {
   "cell_type": "code",
   "execution_count": 1,
   "metadata": {},
   "outputs": [],
   "source": [
    "import os\n",
    "from IPython.display import Image"
   ]
  },
  {
   "cell_type": "code",
   "execution_count": 3,
   "metadata": {},
   "outputs": [
    {
     "name": "stdout",
     "output_type": "stream",
     "text": [
      "\\\\wsl.localhost\\Ubuntu-22.04\\home\\tommy\\nlpclass-1231-g-text_mafias\\project\n"
     ]
    }
   ],
   "source": [
    "main_directory = os.getcwd()\n",
    "print(main_directory)"
   ]
  },
  {
   "cell_type": "code",
   "execution_count": 3,
   "metadata": {},
   "outputs": [
    {
     "name": "stdout",
     "output_type": "stream",
     "text": [
      "Looking in indexes: https://pypi.org/simple, https://pypi.ngc.nvidia.com\n",
      "Requirement already satisfied: papermill in d:\\anaconda\\envs\\keras_gpu\\lib\\site-packages (2.4.0)\n",
      "Requirement already satisfied: requests in d:\\anaconda\\envs\\keras_gpu\\lib\\site-packages (from papermill) (2.28.1)\n",
      "Requirement already satisfied: tqdm>=4.32.2 in d:\\anaconda\\envs\\keras_gpu\\lib\\site-packages (from papermill) (4.65.0)\n",
      "Requirement already satisfied: nbformat>=5.1.2 in d:\\anaconda\\envs\\keras_gpu\\lib\\site-packages (from papermill) (5.8.0)\n",
      "Requirement already satisfied: entrypoints in d:\\anaconda\\envs\\keras_gpu\\lib\\site-packages (from papermill) (0.4)\n",
      "Requirement already satisfied: ansiwrap in d:\\anaconda\\envs\\keras_gpu\\lib\\site-packages (from papermill) (0.8.4)\n",
      "Requirement already satisfied: nbclient>=0.2.0 in d:\\anaconda\\envs\\keras_gpu\\lib\\site-packages (from papermill) (0.7.3)\n",
      "Requirement already satisfied: tenacity in d:\\anaconda\\envs\\keras_gpu\\lib\\site-packages (from papermill) (8.2.2)\n",
      "Requirement already satisfied: click in d:\\anaconda\\envs\\keras_gpu\\lib\\site-packages (from papermill) (8.0.4)\n",
      "Requirement already satisfied: pyyaml in d:\\anaconda\\envs\\keras_gpu\\lib\\site-packages (from papermill) (6.0)\n",
      "Requirement already satisfied: jupyter-core!=5.0.*,>=4.12 in d:\\anaconda\\envs\\keras_gpu\\lib\\site-packages (from nbclient>=0.2.0->papermill) (5.3.0)\n",
      "Requirement already satisfied: jupyter-client>=6.1.12 in d:\\anaconda\\envs\\keras_gpu\\lib\\site-packages (from nbclient>=0.2.0->papermill) (7.4.9)\n",
      "Requirement already satisfied: traitlets>=5.3 in d:\\anaconda\\envs\\keras_gpu\\lib\\site-packages (from nbclient>=0.2.0->papermill) (5.9.0)\n",
      "Requirement already satisfied: jsonschema>=2.6 in d:\\anaconda\\envs\\keras_gpu\\lib\\site-packages (from nbformat>=5.1.2->papermill) (4.17.3)\n",
      "Requirement already satisfied: fastjsonschema in d:\\anaconda\\envs\\keras_gpu\\lib\\site-packages (from nbformat>=5.1.2->papermill) (2.16.3)\n",
      "Requirement already satisfied: colorama in d:\\anaconda\\envs\\keras_gpu\\lib\\site-packages (from tqdm>=4.32.2->papermill) (0.4.6)\n",
      "Requirement already satisfied: textwrap3>=0.9.2 in d:\\anaconda\\envs\\keras_gpu\\lib\\site-packages (from ansiwrap->papermill) (0.9.2)\n",
      "Requirement already satisfied: urllib3<1.27,>=1.21.1 in d:\\anaconda\\envs\\keras_gpu\\lib\\site-packages (from requests->papermill) (1.26.14)\n",
      "Requirement already satisfied: certifi>=2017.4.17 in d:\\anaconda\\envs\\keras_gpu\\lib\\site-packages (from requests->papermill) (2022.12.7)\n",
      "Requirement already satisfied: idna<4,>=2.5 in d:\\anaconda\\envs\\keras_gpu\\lib\\site-packages (from requests->papermill) (3.4)\n",
      "Requirement already satisfied: charset-normalizer<3,>=2 in d:\\anaconda\\envs\\keras_gpu\\lib\\site-packages (from requests->papermill) (2.0.4)\n",
      "Requirement already satisfied: attrs>=17.4.0 in d:\\anaconda\\envs\\keras_gpu\\lib\\site-packages (from jsonschema>=2.6->nbformat>=5.1.2->papermill) (22.1.0)\n",
      "Requirement already satisfied: pyrsistent!=0.17.0,!=0.17.1,!=0.17.2,>=0.14.0 in d:\\anaconda\\envs\\keras_gpu\\lib\\site-packages (from jsonschema>=2.6->nbformat>=5.1.2->papermill) (0.19.3)\n",
      "Requirement already satisfied: nest-asyncio>=1.5.4 in d:\\anaconda\\envs\\keras_gpu\\lib\\site-packages (from jupyter-client>=6.1.12->nbclient>=0.2.0->papermill) (1.5.6)\n",
      "Requirement already satisfied: tornado>=6.2 in d:\\anaconda\\envs\\keras_gpu\\lib\\site-packages (from jupyter-client>=6.1.12->nbclient>=0.2.0->papermill) (6.2)\n",
      "Requirement already satisfied: python-dateutil>=2.8.2 in d:\\anaconda\\envs\\keras_gpu\\lib\\site-packages (from jupyter-client>=6.1.12->nbclient>=0.2.0->papermill) (2.8.2)\n",
      "Requirement already satisfied: pyzmq>=23.0 in d:\\anaconda\\envs\\keras_gpu\\lib\\site-packages (from jupyter-client>=6.1.12->nbclient>=0.2.0->papermill) (23.2.0)\n",
      "Requirement already satisfied: pywin32>=300 in d:\\anaconda\\envs\\keras_gpu\\lib\\site-packages (from jupyter-core!=5.0.*,>=4.12->nbclient>=0.2.0->papermill) (305.1)\n",
      "Requirement already satisfied: platformdirs>=2.5 in d:\\anaconda\\envs\\keras_gpu\\lib\\site-packages (from jupyter-core!=5.0.*,>=4.12->nbclient>=0.2.0->papermill) (2.5.2)\n",
      "Requirement already satisfied: six>=1.5 in d:\\anaconda\\envs\\keras_gpu\\lib\\site-packages (from python-dateutil>=2.8.2->jupyter-client>=6.1.12->nbclient>=0.2.0->papermill) (1.16.0)\n",
      "Note: you may need to restart the kernel to use updated packages.\n"
     ]
    }
   ],
   "source": [
    "pip install papermill"
   ]
  },
  {
   "cell_type": "code",
   "execution_count": 4,
   "metadata": {},
   "outputs": [
    {
     "name": "stderr",
     "output_type": "stream",
     "text": [
      "Input Notebook:  Fakes_Data_Preprocessing.ipynb\n",
      "Output Notebook: Fakes_Data_Preprocessing.ipynb\n",
      "\n",
      "Executing:   0%|          | 0/33 [00:00<?, ?cell/s]Executing notebook with kernel: python3\n",
      "\n",
      "Executing:   3%|▎         | 1/33 [00:09<05:15,  9.85s/cell]\n",
      "Executing:   6%|▌         | 2/33 [00:38<10:48, 20.92s/cell]\n",
      "Executing:  12%|█▏        | 4/33 [00:38<03:47,  7.84s/cell]\n",
      "Executing:  21%|██        | 7/33 [00:38<01:27,  3.37s/cell]\n",
      "Executing:  27%|██▋       | 9/33 [00:38<00:52,  2.20s/cell]\n",
      "Executing:  36%|███▋      | 12/33 [00:38<00:26,  1.27s/cell]\n",
      "Executing:  45%|████▌     | 15/33 [00:39<00:14,  1.25cell/s]\n",
      "Executing:  55%|█████▍    | 18/33 [00:39<00:08,  1.87cell/s]\n",
      "Executing:  64%|██████▎   | 21/33 [00:40<00:05,  2.07cell/s]\n",
      "Executing:  70%|██████▉   | 23/33 [00:42<00:06,  1.63cell/s]\n",
      "Executing:  79%|███████▉  | 26/33 [00:42<00:02,  2.39cell/s]\n",
      "Executing:  88%|████████▊ | 29/33 [00:42<00:01,  3.38cell/s]\n",
      "Executing:  97%|█████████▋| 32/33 [00:42<00:00,  4.68cell/s]\n",
      "Executing: 100%|██████████| 33/33 [00:44<00:00,  1.34s/cell]\n"
     ]
    }
   ],
   "source": [
    "# Running this cell will preprocess the FAKES dataset and save the preprocessed dataset into the Preprocessed_Dataset folder.\n",
    "os.chdir(f\"{main_directory}/Data_Preprocessing\")\n",
    "!papermill Fakes_Data_Preprocessing.ipynb Fakes_Data_Preprocessing.ipynb"
   ]
  },
  {
   "cell_type": "markdown",
   "metadata": {},
   "source": [
    "### 2. ISOT Dataset"
   ]
  },
  {
   "cell_type": "code",
   "execution_count": 5,
   "metadata": {},
   "outputs": [
    {
     "name": "stderr",
     "output_type": "stream",
     "text": [
      "Input Notebook:  ISOT_Data.ipynb\n",
      "Output Notebook: ISOT_Data.ipynb\n",
      "\n",
      "Executing:   0%|          | 0/14 [00:00<?, ?cell/s]Executing notebook with kernel: python3\n",
      "\n",
      "Executing:   7%|▋         | 1/14 [00:04<00:54,  4.19s/cell]\n",
      "Executing:  29%|██▊       | 4/14 [00:05<00:11,  1.13s/cell]\n",
      "Executing:  57%|█████▋    | 8/14 [00:06<00:03,  1.69cell/s]\n",
      "Executing:  79%|███████▊  | 11/14 [00:06<00:01,  2.68cell/s]\n",
      "Executing: 100%|██████████| 14/14 [00:12<00:00,  1.02cell/s]\n",
      "Executing: 100%|██████████| 14/14 [00:13<00:00,  1.06cell/s]\n"
     ]
    }
   ],
   "source": [
    "# Running this cell will combine the ISOT dataset and save the combined dataset into the ISOT_Dataset folder.\n",
    "os.chdir(f\"{main_directory}/Data_Preprocessing\")\n",
    "!papermill ISOT_Data.ipynb ISOT_Data.ipynb"
   ]
  },
  {
   "cell_type": "code",
   "execution_count": 6,
   "metadata": {},
   "outputs": [
    {
     "name": "stderr",
     "output_type": "stream",
     "text": [
      "Input Notebook:  ISOT_Data_Preprocessing.ipynb\n",
      "Output Notebook: ISOT_Data_Preprocessing.ipynb\n",
      "\n",
      "Executing:   0%|          | 0/31 [00:00<?, ?cell/s]Executing notebook with kernel: python3\n",
      "\n",
      "Executing:   3%|▎         | 1/31 [00:05<02:56,  5.88s/cell]\n",
      "Executing:  10%|▉         | 3/31 [00:05<00:43,  1.56s/cell]\n",
      "Executing:  16%|█▌        | 5/31 [00:07<00:32,  1.25s/cell]\n",
      "Executing:  23%|██▎       | 7/31 [00:08<00:18,  1.30cell/s]\n",
      "Executing:  26%|██▌       | 8/31 [00:08<00:17,  1.29cell/s]\n",
      "Executing:  32%|███▏      | 10/31 [00:09<00:10,  2.03cell/s]\n",
      "Executing:  35%|███▌      | 11/31 [00:09<00:09,  2.01cell/s]\n",
      "Executing:  45%|████▌     | 14/31 [00:10<00:06,  2.54cell/s]\n",
      "Executing:  52%|█████▏    | 16/31 [00:13<00:11,  1.28cell/s]\n",
      "Executing:  55%|█████▍    | 17/31 [00:16<00:16,  1.16s/cell]\n",
      "Executing:  61%|██████▏   | 19/31 [01:36<02:54, 14.56s/cell]\n",
      "Executing:  65%|██████▍   | 20/31 [01:39<02:14, 12.23s/cell]\n",
      "Executing:  68%|██████▊   | 21/31 [02:19<03:05, 18.53s/cell]\n",
      "Executing:  77%|███████▋  | 24/31 [02:20<01:06,  9.55s/cell]\n",
      "Executing:  87%|████████▋ | 27/31 [02:20<00:22,  5.65s/cell]\n",
      "Executing:  94%|█████████▎| 29/31 [02:40<00:11,  5.65s/cell]\n",
      "Executing:  97%|█████████▋| 30/31 [02:41<00:06,  6.20s/cell]\n",
      "Executing: 100%|██████████| 31/31 [02:44<00:00,  5.30s/cell]\n"
     ]
    }
   ],
   "source": [
    "# Running this cell will preprocess the ISOT dataset and save the preprocessed dataset into the Preprocessed_Dataset folder.\n",
    "!papermill ISOT_Data_Preprocessing.ipynb ISOT_Data_Preprocessing.ipynb"
   ]
  },
  {
   "cell_type": "markdown",
   "metadata": {},
   "source": [
    "### 3. fn-c1 Dataset"
   ]
  },
  {
   "cell_type": "code",
   "execution_count": 7,
   "metadata": {},
   "outputs": [
    {
     "name": "stderr",
     "output_type": "stream",
     "text": [
      "Input Notebook:  fnc1_Data.ipynb\n",
      "Output Notebook: fnc1_Data.ipynb\n",
      "\n",
      "Executing:   0%|          | 0/17 [00:00<?, ?cell/s]Executing notebook with kernel: python3\n",
      "\n",
      "Executing:   6%|▌         | 1/17 [00:04<01:06,  4.17s/cell]\n",
      "Executing:  24%|██▎       | 4/17 [00:04<00:11,  1.16cell/s]\n",
      "Executing:  41%|████      | 7/17 [00:04<00:04,  2.27cell/s]\n",
      "Executing:  59%|█████▉    | 10/17 [00:04<00:01,  3.77cell/s]\n",
      "Executing:  76%|███████▋  | 13/17 [00:04<00:00,  5.45cell/s]\n",
      "Executing: 100%|██████████| 17/17 [00:05<00:00,  5.45cell/s]\n",
      "Executing: 100%|██████████| 17/17 [00:06<00:00,  2.82cell/s]\n"
     ]
    }
   ],
   "source": [
    "# Running this cell will combine the fnc1 dataset and save the combined dataset into the fnc1_Dataset folder.\n",
    "os.chdir(f\"{main_directory}/Data_Preprocessing\")\n",
    "!papermill fnc1_Data.ipynb fnc1_Data.ipynb"
   ]
  },
  {
   "cell_type": "code",
   "execution_count": 8,
   "metadata": {},
   "outputs": [
    {
     "name": "stderr",
     "output_type": "stream",
     "text": [
      "Input Notebook:  FNC1_Data_Preprocessing.ipynb\n",
      "Output Notebook: FNC1_Data_Preprocessing.ipynb\n",
      "\n",
      "Executing:   0%|          | 0/35 [00:00<?, ?cell/s]Executing notebook with kernel: python3\n",
      "\n",
      "Executing:   3%|▎         | 1/35 [00:06<03:26,  6.08s/cell]\n",
      "Executing:   6%|▌         | 2/35 [00:06<01:25,  2.58s/cell]\n",
      "Executing:  14%|█▍        | 5/35 [00:06<00:24,  1.21cell/s]\n",
      "Executing:  23%|██▎       | 8/35 [00:06<00:11,  2.32cell/s]\n",
      "Executing:  29%|██▊       | 10/35 [00:06<00:07,  3.13cell/s]\n",
      "Executing:  34%|███▍      | 12/35 [00:07<00:05,  4.08cell/s]\n",
      "Executing:  43%|████▎     | 15/35 [00:07<00:03,  6.06cell/s]\n",
      "Executing:  49%|████▊     | 17/35 [00:07<00:03,  5.68cell/s]\n",
      "Executing:  54%|█████▍    | 19/35 [00:08<00:02,  5.34cell/s]\n",
      "Executing:  60%|██████    | 21/35 [00:08<00:02,  4.71cell/s]\n",
      "Executing:  66%|██████▌   | 23/35 [00:17<00:16,  1.38s/cell]\n",
      "Executing:  69%|██████▊   | 24/35 [00:17<00:12,  1.18s/cell]\n",
      "Executing:  71%|███████▏  | 25/35 [00:22<00:19,  1.93s/cell]\n",
      "Executing:  80%|████████  | 28/35 [00:22<00:07,  1.06s/cell]\n",
      "Executing:  89%|████████▊ | 31/35 [00:22<00:02,  1.52cell/s]\n",
      "Executing:  97%|█████████▋| 34/35 [00:24<00:00,  1.46cell/s]\n",
      "Executing: 100%|██████████| 35/35 [00:26<00:00,  1.33cell/s]\n"
     ]
    }
   ],
   "source": [
    "# Running this cell will preprocess the ISOT dataset and save the preprocessed dataset into the Preprocessed_Dataset folder.\n",
    "!papermill FNC1_Data_Preprocessing.ipynb FNC1_Data_Preprocessing.ipynb"
   ]
  },
  {
   "cell_type": "markdown",
   "metadata": {},
   "source": [
    "## Generating Model Results"
   ]
  },
  {
   "attachments": {},
   "cell_type": "markdown",
   "metadata": {},
   "source": [
    "### GPU Requirements\n",
    "For running models on GPU on personal computers, we need the anaconda virtual environment and install `keras-gpu` (conda install -c anaconda keras-gpu) and `tensorflow-gpu` (conda install -c anaconda tensorflow-gpu)."
   ]
  },
  {
   "cell_type": "markdown",
   "metadata": {},
   "source": [
    "### Models\n",
    "\n",
    "We have four model structures: Baseline (Hybrid Model), CNN-only, RNN-only and Transformer, and we train them on each datasets.\n",
    "The results are in different notebooks, including the model and evaluation data (Loss, Accuracy and F1 scores). The generalization analysis is in ISOT related notebooks (i.e. The generalization analysis of CNN is in `model_CNN_ISOT_cross.ipynb`). For running different notebook, the model will be trained under 5-fold cross validation and the best one will be automatically saved in corresponding folders."
   ]
  },
  {
   "attachments": {},
   "cell_type": "markdown",
   "metadata": {},
   "source": [
    "#### CNN\n",
    "The best model for CNN is in `model_CNN_ISOT_cross.ipynb`, which is the model trained on ISOT. The model will be saved in `CNN_ISOT`."
   ]
  },
  {
   "cell_type": "code",
   "execution_count": 12,
   "metadata": {},
   "outputs": [
    {
     "name": "stderr",
     "output_type": "stream",
     "text": [
      "Input Notebook:  model_CNN_ISOT_cross.ipynb\n",
      "Output Notebook: model_CNN_ISOT_cross.ipynb\n",
      "\n",
      "Executing:   0%|          | 0/26 [00:00<?, ?cell/s]Executing notebook with kernel: python3\n",
      "\n",
      "Executing:   4%|▍         | 1/26 [00:11<04:54, 11.80s/cell]2023-04-12 19:58:31.412912: I tensorflow/core/platform/cpu_feature_guard.cc:142] This TensorFlow binary is optimized with oneAPI Deep Neural Network Library (oneDNN) to use the following CPU instructions in performance-critical operations:  AVX AVX2\n",
      "To enable them in other operations, rebuild TensorFlow with the appropriate compiler flags.\n",
      "2023-04-12 19:58:32.344452: I tensorflow/core/common_runtime/gpu/gpu_device.cc:1510] Created device /device:GPU:0 with 3333 MB memory:  -> device: 0, name: NVIDIA GeForce RTX 3060 Laptop GPU, pci bus id: 0000:01:00.0, compute capability: 8.6\n",
      "\n",
      "Executing:   8%|▊         | 2/26 [00:12<02:10,  5.42s/cell]\n",
      "Executing:  15%|█▌        | 4/26 [00:21<01:44,  4.77s/cell]\n",
      "Executing:  19%|█▉        | 5/26 [00:38<03:01,  8.63s/cell]\n",
      "Executing:  23%|██▎       | 6/26 [01:05<04:41, 14.06s/cell]\n",
      "Executing:  35%|███▍      | 9/26 [01:15<02:17,  8.11s/cell]2023-04-12 19:59:37.781938: I tensorflow/core/common_runtime/gpu/gpu_device.cc:1510] Created device /job:localhost/replica:0/task:0/device:GPU:0 with 3333 MB memory:  -> device: 0, name: NVIDIA GeForce RTX 3060 Laptop GPU, pci bus id: 0000:01:00.0, compute capability: 8.6\n",
      "2023-04-12 19:59:43.026689: I tensorflow/compiler/mlir/mlir_graph_optimization_pass.cc:185] None of the MLIR Optimization Passes are enabled (registered 2)\n",
      "2023-04-12 19:59:59.799799: I tensorflow/stream_executor/cuda/cuda_dnn.cc:369] Loaded cuDNN version 8201\n",
      "2023-04-12 20:00:20.949411: E tensorflow/core/platform/windows/subprocess.cc:287] Call to CreateProcess failed. Error code: 2\n",
      "2023-04-12 20:00:20.954164: E tensorflow/core/platform/windows/subprocess.cc:287] Call to CreateProcess failed. Error code: 2\n",
      "2023-04-12 20:00:20.954390: W tensorflow/stream_executor/gpu/asm_compiler.cc:77] Couldn't get ptxas version string: Internal: Couldn't invoke ptxas.exe --version\n",
      "2023-04-12 20:00:20.957816: E tensorflow/core/platform/windows/subprocess.cc:287] Call to CreateProcess failed. Error code: 2\n",
      "2023-04-12 20:00:20.959343: W tensorflow/stream_executor/gpu/redzone_allocator.cc:314] Internal: Failed to launch ptxas\n",
      "Relying on driver to perform ptx compilation. \n",
      "Modify $PATH to customize ptxas location.\n",
      "This message will be only logged once.\n",
      "2023-04-12 20:00:43.040341: I tensorflow/stream_executor/cuda/cuda_blas.cc:1760] TensorFloat-32 will be used for the matrix multiplication. This will only be logged once.\n",
      "\n",
      "Executing:  38%|███▊      | 10/26 [11:47<37:33, 140.86s/cell]\n",
      "Executing:  42%|████▏     | 11/26 [11:49<27:04, 108.33s/cell]\n",
      "Executing:  46%|████▌     | 12/26 [11:49<19:00, 81.45s/cell] \n",
      "Executing:  50%|█████     | 13/26 [11:50<13:02, 60.19s/cell]\n",
      "Executing:  54%|█████▍    | 14/26 [11:51<08:46, 43.92s/cell]\n",
      "Executing:  58%|█████▊    | 15/26 [11:51<05:49, 31.75s/cell]\n",
      "Executing:  62%|██████▏   | 16/26 [11:52<03:47, 22.77s/cell]2023-04-12 20:10:19.833714: W tensorflow/python/util/util.cc:348] Sets are not currently considered sequences, but this may change in the future, so consider avoiding using them.\n",
      "2023-04-12 20:10:23.467477: W tensorflow/core/framework/cpu_allocator_impl.cc:80] Allocation of 52662000 exceeds 10% of free system memory.\n",
      "\n",
      "Executing:  65%|██████▌   | 17/26 [14:28<09:13, 61.48s/cell]\n",
      "Executing:  69%|██████▉   | 18/26 [14:29<05:50, 43.79s/cell]\n",
      "Executing:  73%|███████▎  | 19/26 [14:29<03:36, 30.97s/cell]\n",
      "Executing:  77%|███████▋  | 20/26 [14:30<02:11, 21.91s/cell]\n",
      "Executing:  81%|████████  | 21/26 [14:30<01:17, 15.50s/cell]\n",
      "Executing:  85%|████████▍ | 22/26 [14:30<00:44, 11.03s/cell]\n",
      "Executing:  88%|████████▊ | 23/26 [14:31<00:23,  7.88s/cell]\n",
      "Executing:  92%|█████████▏| 24/26 [14:33<00:12,  6.05s/cell]\n",
      "Executing:  96%|█████████▌| 25/26 [14:36<00:05,  5.08s/cell]\n",
      "Executing: 100%|██████████| 26/26 [14:39<00:00,  4.58s/cell]\n",
      "Executing: 100%|██████████| 26/26 [14:42<00:00, 33.96s/cell]\n"
     ]
    }
   ],
   "source": [
    "os.chdir(f\"{main_directory}/model\")\n",
    "!papermill model_CNN_ISOT_cross.ipynb model_CNN_ISOT_cross.ipynb"
   ]
  },
  {
   "cell_type": "code",
   "execution_count": 13,
   "metadata": {
    "scrolled": true
   },
   "outputs": [
    {
     "data": {
      "image/png": "[encoded data removed]",
      "text/plain": [
       "<IPython.core.display.Image object>"
      ]
     },
     "execution_count": 13,
     "metadata": {},
     "output_type": "execute_result"
    }
   ],
   "source": [
    "os.chdir(f\"{main_directory}/results\")\n",
    "Image(filename='model_cnn_isot_cross_result.png')"
   ]
  },
  {
   "attachments": {},
   "cell_type": "markdown",
   "metadata": {},
   "source": [
    "#### RNN\n",
    "The best model for RNN is in `model_RNN_ISOT_cross_20.ipynb`, which is the model trained on ISOT for 20 epochs. The model will be saved in `RNN_ISOT`."
   ]
  },
  {
   "cell_type": "code",
   "execution_count": 10,
   "metadata": {},
   "outputs": [
    {
     "name": "stderr",
     "output_type": "stream",
     "text": [
      "Input Notebook:  model_RNN_ISOT_cross_20.ipynb\n",
      "Output Notebook: model_RNN_ISOT_cross_20.ipynb\n",
      "\n",
      "Executing:   0%|          | 0/26 [00:00<?, ?cell/s]Executing notebook with kernel: python3\n",
      "\n",
      "Executing:   4%|▍         | 1/26 [00:07<03:05,  7.43s/cell]2023-04-12 21:15:24.376628: I tensorflow/core/platform/cpu_feature_guard.cc:142] This TensorFlow binary is optimized with oneAPI Deep Neural Network Library (oneDNN) to use the following CPU instructions in performance-critical operations:  AVX AVX2\n",
      "To enable them in other operations, rebuild TensorFlow with the appropriate compiler flags.\n",
      "2023-04-12 21:15:24.865295: I tensorflow/core/common_runtime/gpu/gpu_device.cc:1510] Created device /device:GPU:0 with 3475 MB memory:  -> device: 0, name: NVIDIA GeForce RTX 3060 Laptop GPU, pci bus id: 0000:01:00.0, compute capability: 8.6\n",
      "\n",
      "Executing:   8%|▊         | 2/26 [00:07<01:20,  3.36s/cell]\n",
      "Executing:  15%|█▌        | 4/26 [00:13<01:05,  2.98s/cell]\n",
      "Executing:  19%|█▉        | 5/26 [00:24<01:57,  5.60s/cell]\n",
      "Executing:  23%|██▎       | 6/26 [00:43<03:08,  9.44s/cell]\n",
      "Executing:  35%|███▍      | 9/26 [00:49<01:31,  5.36s/cell]2023-04-12 21:16:08.336577: I tensorflow/core/common_runtime/gpu/gpu_device.cc:1510] Created device /job:localhost/replica:0/task:0/device:GPU:0 with 3475 MB memory:  -> device: 0, name: NVIDIA GeForce RTX 3060 Laptop GPU, pci bus id: 0000:01:00.0, compute capability: 8.6\n",
      "2023-04-12 21:16:08.869901: I tensorflow/compiler/mlir/mlir_graph_optimization_pass.cc:185] None of the MLIR Optimization Passes are enabled (registered 2)\n",
      "2023-04-12 21:16:11.111322: I tensorflow/stream_executor/cuda/cuda_dnn.cc:369] Loaded cuDNN version 8201\n",
      "2023-04-12 21:16:11.969878: I tensorflow/stream_executor/cuda/cuda_blas.cc:1760] TensorFloat-32 will be used for the matrix multiplication. This will only be logged once.\n",
      "\n",
      "Executing:  38%|███▊      | 10/26 [17:49<59:01, 221.33s/cell]\n",
      "Executing:  42%|████▏     | 11/26 [17:51<42:31, 170.13s/cell]\n",
      "Executing:  46%|████▌     | 12/26 [17:53<29:52, 128.05s/cell]\n",
      "Executing:  50%|█████     | 13/26 [17:55<20:32, 94.82s/cell] \n",
      "Executing:  54%|█████▍    | 14/26 [17:56<13:52, 69.36s/cell]\n",
      "Executing:  58%|█████▊    | 15/26 [17:58<09:13, 50.36s/cell]\n",
      "Executing:  62%|██████▏   | 16/26 [17:59<06:03, 36.37s/cell]2023-04-12 21:33:25.578250: W tensorflow/python/util/util.cc:348] Sets are not currently considered sequences, but this may change in the future, so consider avoiding using them.\n",
      "\n",
      "Executing:  65%|██████▌   | 17/26 [20:33<10:32, 70.27s/cell]\n",
      "Executing:  69%|██████▉   | 18/26 [20:34<06:40, 50.10s/cell]\n",
      "Executing:  73%|███████▎  | 19/26 [20:35<04:10, 35.75s/cell]\n",
      "Executing:  77%|███████▋  | 20/26 [20:37<02:33, 25.58s/cell]\n",
      "Executing:  81%|████████  | 21/26 [20:38<01:31, 18.39s/cell]\n",
      "Executing:  85%|████████▍ | 22/26 [20:40<00:53, 13.45s/cell]\n",
      "Executing:  88%|████████▊ | 23/26 [20:42<00:29,  9.86s/cell]\n",
      "Executing:  92%|█████████▏| 24/26 [20:44<00:15,  7.62s/cell]\n",
      "Executing:  96%|█████████▌| 25/26 [20:46<00:06,  6.04s/cell]\n",
      "Executing: 100%|██████████| 26/26 [20:51<00:00,  5.50s/cell]\n",
      "Executing: 100%|██████████| 26/26 [20:54<00:00, 48.25s/cell]\n"
     ]
    }
   ],
   "source": [
    "os.chdir(f\"{main_directory}/model\")\n",
    "!papermill model_RNN_ISOT_cross_20.ipynb model_RNN_ISOT_cross_20.ipynb"
   ]
  },
  {
   "cell_type": "code",
   "execution_count": 11,
   "metadata": {},
   "outputs": [
    {
     "data": {
      "image/png": "[encoded data removed]",
      "text/plain": [
       "<IPython.core.display.Image object>"
      ]
     },
     "execution_count": 11,
     "metadata": {},
     "output_type": "execute_result"
    }
   ],
   "source": [
    "os.chdir(f\"{main_directory}/results\")\n",
    "Image(filename='model_rnn_isot_cross_20_result.png')"
   ]
  },
  {
   "attachments": {},
   "cell_type": "markdown",
   "metadata": {},
   "source": [
    "#### Hybrid\n",
    "The best model for Hybrid structure is in `model_Hybrid_ISOT_cross.ipynb`, which is the model trained on ISOT. The mode will be saved in `Hybrid_ISOT`."
   ]
  },
  {
   "cell_type": "code",
   "execution_count": 6,
   "metadata": {},
   "outputs": [
    {
     "name": "stderr",
     "output_type": "stream",
     "text": [
      "Input Notebook:  model_Hybrid_ISOT_cross.ipynb\n",
      "Output Notebook: model_Hybrid_ISOT_cross.ipynb\n",
      "\n",
      "Executing:   0%|          | 0/26 [00:00<?, ?cell/s]Executing notebook with kernel: python3\n",
      "\n",
      "Executing:   4%|▍         | 1/26 [00:06<02:54,  6.96s/cell]2023-04-12 21:04:03.126623: I tensorflow/core/platform/cpu_feature_guard.cc:142] This TensorFlow binary is optimized with oneAPI Deep Neural Network Library (oneDNN) to use the following CPU instructions in performance-critical operations:  AVX AVX2\n",
      "To enable them in other operations, rebuild TensorFlow with the appropriate compiler flags.\n",
      "2023-04-12 21:04:03.634787: I tensorflow/core/common_runtime/gpu/gpu_device.cc:1510] Created device /device:GPU:0 with 3475 MB memory:  -> device: 0, name: NVIDIA GeForce RTX 3060 Laptop GPU, pci bus id: 0000:01:00.0, compute capability: 8.6\n",
      "\n",
      "Executing:   8%|▊         | 2/26 [00:07<01:16,  3.20s/cell]\n",
      "Executing:  15%|█▌        | 4/26 [00:13<01:05,  2.98s/cell]\n",
      "Executing:  19%|█▉        | 5/26 [00:23<01:48,  5.16s/cell]\n",
      "Executing:  23%|██▎       | 6/26 [00:41<03:01,  9.08s/cell]\n",
      "Executing:  35%|███▍      | 9/26 [00:48<01:29,  5.26s/cell]2023-04-12 21:04:46.254764: I tensorflow/core/common_runtime/gpu/gpu_device.cc:1510] Created device /job:localhost/replica:0/task:0/device:GPU:0 with 3475 MB memory:  -> device: 0, name: NVIDIA GeForce RTX 3060 Laptop GPU, pci bus id: 0000:01:00.0, compute capability: 8.6\n",
      "2023-04-12 21:04:46.944651: I tensorflow/compiler/mlir/mlir_graph_optimization_pass.cc:185] None of the MLIR Optimization Passes are enabled (registered 2)\n",
      "2023-04-12 21:04:49.355807: I tensorflow/stream_executor/cuda/cuda_dnn.cc:369] Loaded cuDNN version 8201\n",
      "2023-04-12 21:04:52.007421: E tensorflow/core/platform/windows/subprocess.cc:287] Call to CreateProcess failed. Error code: 2\n",
      "2023-04-12 21:04:52.009115: E tensorflow/core/platform/windows/subprocess.cc:287] Call to CreateProcess failed. Error code: 2\n",
      "2023-04-12 21:04:52.009259: W tensorflow/stream_executor/gpu/asm_compiler.cc:77] Couldn't get ptxas version string: Internal: Couldn't invoke ptxas.exe --version\n",
      "2023-04-12 21:04:52.011864: E tensorflow/core/platform/windows/subprocess.cc:287] Call to CreateProcess failed. Error code: 2\n",
      "2023-04-12 21:04:52.012257: W tensorflow/stream_executor/gpu/redzone_allocator.cc:314] Internal: Failed to launch ptxas\n",
      "Relying on driver to perform ptx compilation. \n",
      "Modify $PATH to customize ptxas location.\n",
      "This message will be only logged once.\n",
      "2023-04-12 21:04:53.332866: I tensorflow/stream_executor/cuda/cuda_blas.cc:1760] TensorFloat-32 will be used for the matrix multiplication. This will only be logged once.\n",
      "\n",
      "Executing:  38%|███▊      | 10/26 [05:15<16:17, 61.10s/cell]\n",
      "Executing:  42%|████▏     | 11/26 [05:16<11:45, 47.00s/cell]\n",
      "Executing:  46%|████▌     | 12/26 [05:17<08:15, 35.39s/cell]\n",
      "Executing:  50%|█████     | 13/26 [05:17<05:40, 26.23s/cell]\n",
      "Executing:  54%|█████▍    | 14/26 [05:18<03:50, 19.21s/cell]\n",
      "Executing:  58%|█████▊    | 15/26 [05:18<02:33, 13.96s/cell]\n",
      "Executing:  62%|██████▏   | 16/26 [05:19<01:40, 10.08s/cell]2023-04-12 21:09:21.684373: W tensorflow/python/util/util.cc:348] Sets are not currently considered sequences, but this may change in the future, so consider avoiding using them.\n",
      "\n",
      "Executing:  65%|██████▌   | 17/26 [06:59<05:25, 36.20s/cell]\n",
      "Executing:  69%|██████▉   | 18/26 [06:59<03:25, 25.70s/cell]\n",
      "Executing:  73%|███████▎  | 19/26 [06:59<02:07, 18.22s/cell]\n",
      "Executing:  77%|███████▋  | 20/26 [07:00<01:17, 12.93s/cell]\n",
      "Executing:  81%|████████  | 21/26 [07:00<00:45,  9.19s/cell]\n",
      "Executing:  85%|████████▍ | 22/26 [07:01<00:26,  6.58s/cell]\n",
      "Executing:  88%|████████▊ | 23/26 [07:01<00:14,  4.71s/cell]\n",
      "Executing:  92%|█████████▏| 24/26 [07:02<00:07,  3.59s/cell]\n",
      "Executing:  96%|█████████▌| 25/26 [07:03<00:02,  2.77s/cell]\n",
      "Executing: 100%|██████████| 26/26 [07:05<00:00,  2.59s/cell]\n",
      "Executing: 100%|██████████| 26/26 [07:08<00:00, 16.47s/cell]\n"
     ]
    }
   ],
   "source": [
    "os.chdir(f\"{main_directory}/model\")\n",
    "!papermill model_Hybrid_ISOT_cross.ipynb model_Hybrid_ISOT_cross.ipynb"
   ]
  },
  {
   "cell_type": "code",
   "execution_count": 7,
   "metadata": {},
   "outputs": [
    {
     "data": {
      "image/png": "[encoded data removed]",
      "text/plain": [
       "<IPython.core.display.Image object>"
      ]
     },
     "execution_count": 7,
     "metadata": {},
     "output_type": "execute_result"
    }
   ],
   "source": [
    "os.chdir(f\"{main_directory}/results\")\n",
    "Image(filename='model_hybrid_isot_cross_result.png')"
   ]
  },
  {
   "attachments": {},
   "cell_type": "markdown",
   "metadata": {},
   "source": [
    "#### Transformer\n",
    "The best model fro transformer structure is in `model_Transformer_ISOT+3FNC`, which is the model trained on merged dataset from ISOT and FNC without cross validation. The model will be saved in `Transformer_ISOT+FNC`."
   ]
  },
  {
   "cell_type": "code",
   "execution_count": 13,
   "metadata": {},
   "outputs": [
    {
     "name": "stderr",
     "output_type": "stream",
     "text": [
      "Input Notebook:  model_Transformer_ISOT+3FNC.ipynb\n",
      "Output Notebook: model_Transformer_ISOT+3FNC.ipynb\n",
      "\n",
      "Executing:   0%|          | 0/28 [00:00<?, ?cell/s]Executing notebook with kernel: python3\n",
      "\n",
      "Executing:   4%|▎         | 1/28 [00:07<03:23,  7.54s/cell]2023-04-12 21:39:50.530152: I tensorflow/core/platform/cpu_feature_guard.cc:142] This TensorFlow binary is optimized with oneAPI Deep Neural Network Library (oneDNN) to use the following CPU instructions in performance-critical operations:  AVX AVX2\n",
      "To enable them in other operations, rebuild TensorFlow with the appropriate compiler flags.\n",
      "2023-04-12 21:39:51.012943: I tensorflow/core/common_runtime/gpu/gpu_device.cc:1510] Created device /device:GPU:0 with 3475 MB memory:  -> device: 0, name: NVIDIA GeForce RTX 3060 Laptop GPU, pci bus id: 0000:01:00.0, compute capability: 8.6\n",
      "\n",
      "Executing:   7%|▋         | 2/28 [00:08<01:28,  3.41s/cell]\n",
      "Executing:  14%|█▍        | 4/28 [00:13<01:14,  3.11s/cell]\n",
      "Executing:  18%|█▊        | 5/28 [00:26<02:17,  5.99s/cell]\n",
      "Executing:  21%|██▏       | 6/28 [00:47<03:54, 10.65s/cell]\n",
      "Executing:  32%|███▏      | 9/28 [00:47<01:27,  4.63s/cell]\n",
      "Executing:  43%|████▎     | 12/28 [00:58<01:06,  4.18s/cell]2023-04-12 21:40:41.561205: I tensorflow/core/common_runtime/gpu/gpu_device.cc:1510] Created device /job:localhost/replica:0/task:0/device:GPU:0 with 3475 MB memory:  -> device: 0, name: NVIDIA GeForce RTX 3060 Laptop GPU, pci bus id: 0000:01:00.0, compute capability: 8.6\n",
      "2023-04-12 21:40:42.311386: I tensorflow/compiler/mlir/mlir_graph_optimization_pass.cc:185] None of the MLIR Optimization Passes are enabled (registered 2)\n",
      "2023-04-12 21:40:45.425240: I tensorflow/stream_executor/cuda/cuda_blas.cc:1760] TensorFloat-32 will be used for the matrix multiplication. This will only be logged once.\n",
      "\n",
      "Executing:  46%|████▋     | 13/28 [02:38<05:14, 20.94s/cell]\n",
      "Executing:  50%|█████     | 14/28 [02:44<04:11, 17.95s/cell]\n",
      "Executing:  54%|█████▎    | 15/28 [02:44<03:01, 13.99s/cell]\n",
      "Executing:  57%|█████▋    | 16/28 [02:45<02:10, 10.84s/cell]\n",
      "Executing:  61%|██████    | 17/28 [02:45<01:29,  8.17s/cell]\n",
      "Executing:  64%|██████▍   | 18/28 [02:46<01:00,  6.08s/cell]2023-04-12 21:42:30.490597: W tensorflow/python/util/util.cc:348] Sets are not currently considered sequences, but this may change in the future, so consider avoiding using them.\n",
      "\n",
      "Executing:  68%|██████▊   | 19/28 [02:56<01:05,  7.31s/cell]\n",
      "Executing:  71%|███████▏  | 20/28 [02:56<00:42,  5.29s/cell]\n",
      "Executing:  75%|███████▌  | 21/28 [02:56<00:26,  3.82s/cell]\n",
      "Executing:  79%|███████▊  | 22/28 [02:57<00:16,  2.76s/cell]\n",
      "Executing:  82%|████████▏ | 23/28 [02:57<00:10,  2.01s/cell]\n",
      "Executing:  86%|████████▌ | 24/28 [02:57<00:05,  1.47s/cell]\n",
      "Executing:  89%|████████▉ | 25/28 [02:57<00:03,  1.13s/cell]\n",
      "Executing:  93%|█████████▎| 26/28 [02:58<00:01,  1.10cell/s]\n",
      "Executing:  96%|█████████▋| 27/28 [02:58<00:00,  1.44cell/s]\n",
      "Executing: 100%|██████████| 28/28 [02:59<00:00,  1.26cell/s]\n",
      "Executing: 100%|██████████| 28/28 [03:02<00:00,  6.53s/cell]\n"
     ]
    }
   ],
   "source": [
    "os.chdir(f\"{main_directory}/model\")\n",
    "!papermill model_Transformer_ISOT+3FNC.ipynb model_Transformer_ISOT+3FNC.ipynb"
   ]
  },
  {
   "cell_type": "code",
   "execution_count": 18,
   "metadata": {},
   "outputs": [
    {
     "data": {
      "image/png": "[encoded data removed]",
      "text/plain": [
       "<IPython.core.display.Image object>"
      ]
     },
     "execution_count": 18,
     "metadata": {},
     "output_type": "execute_result"
    }
   ],
   "source": [
    "os.chdir(f\"{main_directory}/results\")\n",
    "Image(filename='transformer_isot_3fnc_result_1.png')"
   ]
  },
  {
   "cell_type": "code",
   "execution_count": 17,
   "metadata": {},
   "outputs": [
    {
     "data": {
      "image/png": "[encoded data removed]",
      "text/plain": [
       "<IPython.core.display.Image object>"
      ]
     },
     "execution_count": 17,
     "metadata": {},
     "output_type": "execute_result"
    }
   ],
   "source": [
    "Image(filename='transformer_isot_3fnc_result_2.png')"
   ]
  }
 ],
 "metadata": {
  "kernelspec": {
   "display_name": "Python 3 (ipykernel)",
   "language": "python",
   "name": "python3"
  },
  "language_info": {
   "codemirror_mode": {
    "name": "ipython",
    "version": 3
   },
   "file_extension": ".py",
   "mimetype": "text/x-python",
   "name": "python",
   "nbconvert_exporter": "python",
   "pygments_lexer": "ipython3",
   "version": "3.9.6"
  }
 },
 "nbformat": 4,
 "nbformat_minor": 2
}
